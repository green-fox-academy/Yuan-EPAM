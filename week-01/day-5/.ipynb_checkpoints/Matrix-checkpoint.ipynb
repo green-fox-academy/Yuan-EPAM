{
 "cells": [
  {
   "cell_type": "code",
   "execution_count": null,
   "metadata": {},
   "outputs": [],
   "source": [
    "import "
   ]
  },
  {
   "cell_type": "code",
   "execution_count": 14,
   "metadata": {},
   "outputs": [
    {
     "data": {
      "text/plain": [
       "[[8, 10, 12], [14, 16, 18]]"
      ]
     },
     "execution_count": 14,
     "metadata": {},
     "output_type": "execute_result"
    }
   ],
   "source": [
    "def add_matrix(m1, m2):\n",
    "    if (not m1) or (not m2):\n",
    "        return m1 \n",
    "    if (len(m1) != len(m2)) or (len(m1[0]) != len(m2[0])):\n",
    "        print('Erros: Two matrices must have the equal number rows and columns!')\n",
    "        return m1\n",
    "    res = []\n",
    "    for row in range(len(m1)):\n",
    "        one_row = [m1[row][col] + m2[row][col] for col in range(len(m1[0]))]\n",
    "        res.append(one_row)\n",
    "    return res\n",
    "\n",
    "\n",
    "m1 = [[1, 2, 3], [4, 5, 6]]\n",
    "m2 = [[7, 8, 9], [10, 11, 12]]\n",
    "add_matrix(m1, m2)"
   ]
  },
  {
   "cell_type": "code",
   "execution_count": 17,
   "metadata": {},
   "outputs": [
    {
     "data": {
      "text/plain": [
       "[[2, 4, 6], [8, 10, 12]]"
      ]
     },
     "execution_count": 17,
     "metadata": {},
     "output_type": "execute_result"
    }
   ],
   "source": [
    "def scalar_multiply_matrix(m1, num):\n",
    "    if not m1:\n",
    "        return m1\n",
    "    res = []\n",
    "    for row in range(len(m1)):\n",
    "        one_row = [m1[row][col] * num for col in range(len(m1[0]))]\n",
    "        res.append(one_row)\n",
    "    return res\n",
    "\n",
    "m1 = [[1, 2, 3], [4, 5, 6]]\n",
    "num = 2\n",
    "scalar_multiply_matrix(m1, num)"
   ]
  },
  {
   "cell_type": "code",
   "execution_count": 49,
   "metadata": {},
   "outputs": [
    {
     "data": {
      "text/plain": [
       "[[1, 4], [2, 5], [3, 6]]"
      ]
     },
     "execution_count": 49,
     "metadata": {},
     "output_type": "execute_result"
    }
   ],
   "source": [
    "def transpose_matrix(m1):\n",
    "    if not m1:\n",
    "        return m1\n",
    "#     for col in range(len(m1[0])):\n",
    "#         one_col = []\n",
    "    #     for row in range(len(m1)):\n",
    "    #         one_col.append(m1[row][col])\n",
    "#     res.append(one_col)\n",
    "    return [[m1[row][col] for row in range(len(m1))] for col in range(len(m1[0]))]\n",
    "    \n",
    "    return m1\n",
    "    \n",
    "m1 = [[1, 2, 3], [4, 5, 6]]\n",
    "transpose_matrix(m1)"
   ]
  },
  {
   "cell_type": "code",
   "execution_count": 100,
   "metadata": {},
   "outputs": [
    {
     "name": "stdout",
     "output_type": "stream",
     "text": [
      "[[1, 2, 3, 10, -1], [4, 5, 6, 11, -2], [7, 8, 9, 12, -3], [13, 14, 15, 15, -4]]\n",
      "[[-1, 10, 3, 2, 1], [-2, 11, 6, 5, 4], [-3, 12, 9, 8, 7], [-4, 15, 15, 14, 13]]\n"
     ]
    }
   ],
   "source": [
    "def flip_matrix_y(m1):\n",
    "    if not m1:\n",
    "        return m1\n",
    "    col_l = 0\n",
    "    col_r = len(m1[0]) - 1\n",
    "    while col_l < col_r:\n",
    "        for row in range(len(m1)):\n",
    "            m1[row][col_l], m1[row][col_r] = m1[row][col_r], m1[row][col_l]\n",
    "        col_l += 1\n",
    "        col_r -= 1\n",
    "    return m1\n",
    "\n",
    "m1 = [[1, 2, 3, 10, -1], \n",
    "      [4, 5, 6, 11, -2], \n",
    "      [7, 8, 9, 12, -3], \n",
    "      [13, 14, 15, 15, -4]]\n",
    "print(m1)\n",
    "print(flip_matrix_y(m1))"
   ]
  },
  {
   "cell_type": "code",
   "execution_count": 99,
   "metadata": {},
   "outputs": [
    {
     "name": "stdout",
     "output_type": "stream",
     "text": [
      "[[1, 2, 3, 4, -5], [5, 6, 7, 8, -9], [9, 10, 11, 12, -13], [13, 14, 15, 16, -17], [17, 18, 19, 20, -21]]\n",
      "row: 0 col: 0 mirror_row: 4 mirror_col: 4             exchange 1 and -21\n",
      "row: 0 col: 1 mirror_row: 3 mirror_col: 4             exchange 2 and -17\n",
      "row: 0 col: 2 mirror_row: 2 mirror_col: 4             exchange 3 and -13\n",
      "row: 0 col: 3 mirror_row: 1 mirror_col: 4             exchange 4 and -9\n",
      "row: 1 col: 0 mirror_row: 4 mirror_col: 3             exchange 5 and 20\n",
      "row: 1 col: 1 mirror_row: 3 mirror_col: 3             exchange 6 and 16\n",
      "row: 1 col: 2 mirror_row: 2 mirror_col: 3             exchange 7 and 12\n",
      "row: 2 col: 0 mirror_row: 4 mirror_col: 2             exchange 9 and 19\n",
      "row: 2 col: 1 mirror_row: 3 mirror_col: 2             exchange 10 and 15\n",
      "row: 3 col: 0 mirror_row: 4 mirror_col: 1             exchange 13 and 18\n",
      "[[-21, -17, -13, -9, -5], [20, 16, 12, 8, 4], [19, 15, 11, 7, 3], [18, 14, 10, 6, 2], [17, 13, 9, 5, 1]]\n"
     ]
    }
   ],
   "source": [
    "def mirror_matrix(m1):\n",
    "    if not m1:\n",
    "        return m1\n",
    "    len_row = len(m1)\n",
    "    len_col = len(m1[0])\n",
    "    if len_row != len_col:\n",
    "        print('Please input a square matrix!')\n",
    "        return m1\n",
    "    for row in range(len_row - 1):\n",
    "        for col in range(len_col - row - 1):\n",
    "            mirror_row = len_row - col - 1\n",
    "            mirror_col = len_col - row - 1\n",
    "            print(f'row: {row} col: {col} mirror_row: {mirror_row} mirror_col: {mirror_col} \\\n",
    "                   exchange {m1[row][col]} and {m1[mirror_row][mirror_col]}')\n",
    "            m1[row][col], m1[mirror_row][mirror_col] = m1[mirror_row][mirror_col], m1[row][col]\n",
    "    return m1\n",
    "\n",
    "m1 = [[1, 2, 3, 4, -5], \n",
    "      [5, 6, 7, 8, -9], \n",
    "      [9, 10, 11, 12, -13], \n",
    "      [13, 14, 15, 16, -17],\n",
    "      [17, 18, 19, 20, -21]]\n",
    "print(m1)\n",
    "print(mirror_matrix(m1))"
   ]
  },
  {
   "cell_type": "code",
   "execution_count": 116,
   "metadata": {},
   "outputs": [
    {
     "name": "stdout",
     "output_type": "stream",
     "text": [
      "[[1, 2, 3, 10, -1], [4, 5, 6, 11, -2], [7, 8, 9, 12, -3], [13, 14, 15, 16, -4]]\n"
     ]
    },
    {
     "data": {
      "text/plain": [
       "[[13, 14, 15, 16, -4], [7, 8, 9, 12, -3], [4, 5, 6, 11, -2], [1, 2, 3, 10, -1]]"
      ]
     },
     "execution_count": 116,
     "metadata": {},
     "output_type": "execute_result"
    }
   ],
   "source": [
    "def flip_matrix_x(m1):\n",
    "    if not m1:\n",
    "        return m1\n",
    "    row_up = 0\n",
    "    row_down = len(m1) - 1\n",
    "    while row_up < row_down:\n",
    "        for col in range(len(m1[0])):\n",
    "            m1[row_up][col], m1[row_down][col] = m1[row_down][col], m1[row_up][col]\n",
    "        row_up += 1\n",
    "        row_down -= 1\n",
    "    return m1\n",
    "\n",
    "m1 = [[1, 2, 3, 10, -1], \n",
    "      [4, 5, 6, 11, -2], \n",
    "      [7, 8, 9, 12, -3], \n",
    "      [13, 14, 15, 16, -4]]\n",
    "print(m1)\n",
    "flip_matrix_x(m1)"
   ]
  },
  {
   "cell_type": "code",
   "execution_count": 50,
   "metadata": {},
   "outputs": [
    {
     "name": "stdout",
     "output_type": "stream",
     "text": [
      "[[1, 2, 3, 4], [5, 6, 7, 8], [9, 10, 11, 12]]\n",
      "rotation...\n",
      "[[9, 5, 1], [10, 6, 2], [11, 7, 3], [12, 8, 4]]\n",
      "[[12, 11, 10, 9], [8, 7, 6, 5], [4, 3, 2, 1]]\n",
      "[[4, 8, 12], [3, 7, 11], [2, 6, 10], [1, 5, 9]]\n",
      "[[1, 2, 3, 4], [5, 6, 7, 8], [9, 10, 11, 12]]\n",
      "[[9, 5, 1], [10, 6, 2], [11, 7, 3], [12, 8, 4]]\n"
     ]
    }
   ],
   "source": [
    "def rotate_matrix(m1, rotation_degree= 90):\n",
    "    if not m1:\n",
    "        return m1\n",
    "    if rotation_degree % 90:\n",
    "        print('please input a degree could be divided by 90')\n",
    "        return m1\n",
    "    rotation_range = {90 : [range(len(m1[0])), range(len(m1) - 1, -1, -1), 'col_first'],\n",
    "                      180 : [range(len(m1) - 1, -1, -1), range(len(m1[0]) - 1, -1, -1), 'row_first'],\n",
    "                      270 : [range(len(m1[0]) - 1, -1, -1), range(len(m1)), 'col_first']}\n",
    "    rotation = rotation_degree % 360 if rotation_degree >= 360 else rotation_degree\n",
    "    if rotation == 0:\n",
    "        return m1\n",
    "    res = []\n",
    "    range_first = rotation_range[rotation][0]\n",
    "    range_second = rotation_range[rotation][1]\n",
    "    order = rotation_range[rotation][2]\n",
    "    for x in range_first:\n",
    "        tmp_x = []\n",
    "        for y in range_second:\n",
    "            if order == 'row_first':\n",
    "                tmp_x.append(m1[x][y])\n",
    "            elif order == 'col_first':\n",
    "                tmp_x.append(m1[y][x])\n",
    "        res.append(tmp_x)\n",
    "    return res\n",
    "\n",
    "\n",
    "m1 = [[1, 2, 3, 4],\n",
    "     [5, 6, 7, 8],\n",
    "     [9, 10, 11, 12]]\n",
    "print(m1)\n",
    "print('rotation...')\n",
    "print(rotate_matrix(m1, 90))\n",
    "print(rotate_matrix(m1, 180))\n",
    "print(rotate_matrix(m1, 270))\n",
    "print(rotate_matrix(m1, 360))\n",
    "print(rotate_matrix(m1, 450))"
   ]
  },
  {
   "cell_type": "code",
   "execution_count": 3,
   "metadata": {},
   "outputs": [
    {
     "name": "stdout",
     "output_type": "stream",
     "text": [
      "[[1, 2, 3, 4], [5, 6, 7, 8], [9, 10, 11, 12]]\n"
     ]
    },
    {
     "data": {
      "text/plain": [
       "[[9, 5, 1], [10, 6, 2], [11, 7, 3], [12, 8, 4]]"
      ]
     },
     "execution_count": 3,
     "metadata": {},
     "output_type": "execute_result"
    }
   ],
   "source": [
    "# matrix rotation 90\n",
    "m1 = [[1, 2, 3, 4],\n",
    "     [5, 6, 7, 8],\n",
    "     [9, 10, 11, 12]]\n",
    "\n",
    "res = []\n",
    "for col in range(len(m1[0])):\n",
    "    one_col = []\n",
    "    for row in range(len(m1) - 1, -1, -1):\n",
    "        one_col.append(m1[row][col])\n",
    "    res.append(one_col)\n",
    "\n",
    "print(m1)\n",
    "res"
   ]
  },
  {
   "cell_type": "code",
   "execution_count": 2,
   "metadata": {},
   "outputs": [
    {
     "name": "stdout",
     "output_type": "stream",
     "text": [
      "[[1, 2, 3, 4], [5, 6, 7, 8], [9, 10, 11, 12]]\n"
     ]
    },
    {
     "data": {
      "text/plain": [
       "[[4, 8, 12], [3, 7, 11], [2, 6, 10], [1, 5, 9]]"
      ]
     },
     "execution_count": 2,
     "metadata": {},
     "output_type": "execute_result"
    }
   ],
   "source": [
    "# matrix rotation 270\n",
    "m1 = [[1, 2, 3, 4],\n",
    "     [5, 6, 7, 8],\n",
    "     [9, 10, 11, 12]]\n",
    "\n",
    "res = []\n",
    "for col in range(len(m1[0]) - 1, -1, -1):\n",
    "    one_col = []\n",
    "    for row in range(len(m1)):\n",
    "        one_col.append(m1[row][col])\n",
    "    res.append(one_col)\n",
    "\n",
    "print(m1)\n",
    "res"
   ]
  },
  {
   "cell_type": "code",
   "execution_count": 51,
   "metadata": {},
   "outputs": [
    {
     "name": "stdout",
     "output_type": "stream",
     "text": [
      "[[1, 2, 3, 4], [5, 6, 7, 8], [9, 10, 11, 12]]\n"
     ]
    },
    {
     "data": {
      "text/plain": [
       "[[12, 11, 10, 9], [8, 7, 6, 5], [4, 3, 2, 1]]"
      ]
     },
     "execution_count": 51,
     "metadata": {},
     "output_type": "execute_result"
    }
   ],
   "source": [
    "# matrix rotation 180\n",
    "m1 = [[1, 2, 3, 4],\n",
    "     [5, 6, 7, 8],\n",
    "     [9, 10, 11, 12]]\n",
    "\n",
    "res = []\n",
    "for row in range(len(m1) - 1, -1, -1):\n",
    "    one_row = []\n",
    "    for col in range(len(m1[0]) - 1, -1, -1):\n",
    "        one_row.append(m1[row][col])\n",
    "    res.append(one_row)\n",
    "  \n",
    "print(m1)\n",
    "res"
   ]
  },
  {
   "cell_type": "code",
   "execution_count": null,
   "metadata": {},
   "outputs": [],
   "source": []
  },
  {
   "cell_type": "code",
   "execution_count": null,
   "metadata": {},
   "outputs": [],
   "source": []
  }
 ],
 "metadata": {
  "kernelspec": {
   "display_name": "Python 3",
   "language": "python",
   "name": "python3"
  },
  "language_info": {
   "codemirror_mode": {
    "name": "ipython",
    "version": 3
   },
   "file_extension": ".py",
   "mimetype": "text/x-python",
   "name": "python",
   "nbconvert_exporter": "python",
   "pygments_lexer": "ipython3",
   "version": "3.7.3"
  }
 },
 "nbformat": 4,
 "nbformat_minor": 2
}
