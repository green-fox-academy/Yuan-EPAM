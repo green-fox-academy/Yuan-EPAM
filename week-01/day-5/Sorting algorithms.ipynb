{
 "cells": [
  {
   "cell_type": "code",
   "execution_count": 1,
   "metadata": {},
   "outputs": [
    {
     "data": {
      "text/plain": [
       "[-1, 1, 2, 3, 5, 6, 8]"
      ]
     },
     "execution_count": 1,
     "metadata": {},
     "output_type": "execute_result"
    }
   ],
   "source": [
    "def bubble_sort(nums):\n",
    "    for i in range(len(nums) - 1):\n",
    "        for j in range(i, len(nums)):\n",
    "            if nums[i] > nums[j]:\n",
    "                nums[i], nums[j] = nums[j], nums[i]\n",
    "    return nums\n",
    "\n",
    "nums = [1, 6, 3, 2, -1, 8, 5]\n",
    "bubble_sort(nums)"
   ]
  },
  {
   "cell_type": "code",
   "execution_count": 5,
   "metadata": {},
   "outputs": [
    {
     "data": {
      "text/plain": [
       "[-1, 1, 2, 2, 3, 3, 3, 3, 5, 6, 8]"
      ]
     },
     "execution_count": 5,
     "metadata": {},
     "output_type": "execute_result"
    }
   ],
   "source": [
    "def insertion_sort(nums):\n",
    "    if len(nums) <= 1:\n",
    "        return nums\n",
    "    cur_index = 1\n",
    "    while cur_index < len(nums):\n",
    "        checked_index = cur_index\n",
    "        while checked_index > 0 and nums[checked_index - 1] > nums[checked_index]:\n",
    "            nums[checked_index], nums[checked_index - 1] = nums[checked_index - 1], nums[checked_index]\n",
    "            checked_index -= 1\n",
    "        cur_index += 1\n",
    "    return nums\n",
    "\n",
    "nums = [1, 6, 3, 3, 3, 3, 2, 2, -1, 8, 5]\n",
    "insertion_sort(nums)"
   ]
  },
  {
   "cell_type": "code",
   "execution_count": 1,
   "metadata": {},
   "outputs": [
    {
     "data": {
      "text/plain": [
       "[-1, 1, 2, 3, 3, 3, 5, 5, 6, 8]"
      ]
     },
     "execution_count": 1,
     "metadata": {},
     "output_type": "execute_result"
    }
   ],
   "source": [
    "def quick_sort(nums):\n",
    "    if len(nums) <= 1:\n",
    "        return nums\n",
    "    pivot = nums[0]\n",
    "    less = [x for x in nums[1:] if x <= pivot]\n",
    "    greater = [x for x in nums[1:] if x > pivot]\n",
    "    return quick_sort(less) + [pivot] + quick_sort(greater)\n",
    "\n",
    "nums = [1, 6, 3, 3, 3, 2, -1, 8, 5, 5]\n",
    "quick_sort(nums)"
   ]
  },
  {
   "cell_type": "code",
   "execution_count": 5,
   "metadata": {},
   "outputs": [
    {
     "data": {
      "text/plain": [
       "[-1, 1, 2, 3, 3, 3, 5, 5, 6, 8]"
      ]
     },
     "execution_count": 5,
     "metadata": {},
     "output_type": "execute_result"
    }
   ],
   "source": [
    "def merge_sort(nums):\n",
    "    if len(nums) <= 1:\n",
    "        return nums\n",
    "    mid = len(nums) // 2\n",
    "    left = merge_sort(nums[:mid])\n",
    "    right = merge_sort(nums[mid:])\n",
    "    return merge(left, right)\n",
    "\n",
    "def merge(left_nums, right_nums):\n",
    "    index_l, index_r = 0, 0\n",
    "    res = []\n",
    "    while (index_l < len(left_nums)) and (index_r < len(right_nums)):\n",
    "        if left_nums[index_l] <= right_nums[index_r]:\n",
    "            res.append(left_nums[index_l])\n",
    "            index_l += 1\n",
    "        else:\n",
    "            res.append(right_nums[index_r])\n",
    "            index_r += 1\n",
    "    res += left_nums[index_l:]\n",
    "    res += right_nums[index_r:]\n",
    "    return res\n",
    "\n",
    "nums = [1, 6, 3, 3, 3, 2, -1, 8, 5, 5]\n",
    "merge_sort(nums)"
   ]
  },
  {
   "cell_type": "code",
   "execution_count": null,
   "metadata": {},
   "outputs": [],
   "source": []
  },
  {
   "cell_type": "code",
   "execution_count": null,
   "metadata": {},
   "outputs": [],
   "source": []
  }
 ],
 "metadata": {
  "kernelspec": {
   "display_name": "Python 3",
   "language": "python",
   "name": "python3"
  },
  "language_info": {
   "codemirror_mode": {
    "name": "ipython",
    "version": 3
   },
   "file_extension": ".py",
   "mimetype": "text/x-python",
   "name": "python",
   "nbconvert_exporter": "python",
   "pygments_lexer": "ipython3",
   "version": "3.7.3"
  }
 },
 "nbformat": 4,
 "nbformat_minor": 2
}
