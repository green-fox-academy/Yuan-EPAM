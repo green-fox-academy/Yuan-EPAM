{
 "cells": [
  {
   "cell_type": "code",
   "execution_count": 2,
   "metadata": {},
   "outputs": [],
   "source": [
    "import re"
   ]
  },
  {
   "cell_type": "markdown",
   "metadata": {},
   "source": [
    "#### Reserved admin"
   ]
  },
  {
   "cell_type": "code",
   "execution_count": 4,
   "metadata": {},
   "outputs": [
    {
     "name": "stdout",
     "output_type": "stream",
     "text": [
      "<re.Match object; span=(0, 5), match='Admin'>\n",
      "<re.Match object; span=(0, 5), match='admin'>\n"
     ]
    }
   ],
   "source": [
    "p1 = '^[Aa]dmin$'\n",
    "regex1 = re.compile(p1)\n",
    "\n",
    "word1 = 'Admin'\n",
    "word2 = 'admin'\n",
    "print(regex1.match(word1))\n",
    "print(regex1.match(word2))"
   ]
  },
  {
   "cell_type": "markdown",
   "metadata": {},
   "source": [
    "#### Numbers below 100"
   ]
  },
  {
   "cell_type": "code",
   "execution_count": 13,
   "metadata": {},
   "outputs": [
    {
     "name": "stdout",
     "output_type": "stream",
     "text": [
      "<re.Match object; span=(0, 1), match='0'>\n",
      "<re.Match object; span=(0, 1), match='9'>\n",
      "<re.Match object; span=(0, 2), match='55'>\n",
      "<re.Match object; span=(0, 3), match='100'>\n"
     ]
    }
   ],
   "source": [
    "p2 = '(^100)|(^[1-9]?[0-9]$)'\n",
    "regex2 = re.compile(p2)\n",
    "\n",
    "nums = ['0', '9', '55', '100', '101', '-4', '10A', '10B', '00']\n",
    "for num in nums:\n",
    "    res = regex2.match(num)\n",
    "    if res:\n",
    "        print(res)"
   ]
  },
  {
   "cell_type": "markdown",
   "metadata": {},
   "source": [
    "#### Hungarian mobile numbers"
   ]
  },
  {
   "cell_type": "code",
   "execution_count": 84,
   "metadata": {},
   "outputs": [
    {
     "name": "stdout",
     "output_type": "stream",
     "text": [
      "<_sre.SRE_Match object; span=(0, 15), match='+36 20 473 2746'>\n",
      "<_sre.SRE_Match object; span=(0, 15), match='+36 30 217 4912'>\n",
      "<_sre.SRE_Match object; span=(0, 17), match='00 36 70 381 1288'>\n",
      "<_sre.SRE_Match object; span=(0, 17), match='00 36 31 471 2818'>\n"
     ]
    }
   ],
   "source": [
    "p3 = r'^(\\+|00)\\s*36\\s*(1|2[0-9]|3[0-7]|4[0-9]|5[0-79]|6[0123689]|7[0-9]|8[0-57-9]|9[0-69])\\s*([1-9]{3})\\s*([1-9]{4}$)'\n",
    "# (112|104|105|107|143|180|188|193|197|198|199)\n",
    "regex3 = re.compile(p3)\n",
    "\n",
    "phone_nums = ['+36 20 473 2746', '+36 30 217 4912', '00 36 70 381 1288',\n",
    "              '00 36 31 471 2818', '+36 20 3173 4717', '+36 102 237 1121',\n",
    "              '+49 20 483 1273', '36 70 381 2183', '+36 112']\n",
    "for phone_num in phone_nums:\n",
    "    res = regex3.match(phone_num)\n",
    "    if res:\n",
    "        print(res)"
   ]
  },
  {
   "cell_type": "markdown",
   "metadata": {},
   "source": [
    "#### GFA email address"
   ]
  },
  {
   "cell_type": "code",
   "execution_count": 43,
   "metadata": {},
   "outputs": [
    {
     "name": "stdout",
     "output_type": "stream",
     "text": [
      "john\n",
      "jane.doe\n",
      "jane\n"
     ]
    }
   ],
   "source": [
    "p4 = r'^([a-zA-Z0-9._%+-]{1,32})@greenfox(.academy|academy.com)$'\n",
    "regex4 = re.compile(p4)\n",
    "\n",
    "email_addresses = ['john@greenfoxacademy.com', 'jane.doe@greenfoxacademy.com',\n",
    "                  'jane@greenfox.academy', 'john@wick.com', 'jane@citromail.hu',\n",
    "                  'janegreenfoxacademy.com',\n",
    "                  'name@greenfoxacademy']\n",
    "\n",
    "for address in email_addresses:\n",
    "    res = regex4.match(address)\n",
    "    if res:\n",
    "        print(res.group(1))"
   ]
  },
  {
   "cell_type": "markdown",
   "metadata": {},
   "source": [
    "#### Image source"
   ]
  },
  {
   "cell_type": "code",
   "execution_count": 99,
   "metadata": {},
   "outputs": [
    {
     "name": "stdout",
     "output_type": "stream",
     "text": [
      "dog.png\n",
      "./images/cat-01.png\n"
     ]
    }
   ],
   "source": [
    "p5 = r'^<img\\s*(alt=\"[a-zA-Z0-9_\\s]{1,32}\")?\\s*src\\s*=\\s*\"([a-zA-Z0-9_\\-./]{1,32}.png)\">$'\n",
    "regex5 = re.compile(p5)\n",
    "\n",
    "img_tags = ['<img src=\"dog.png\">', \n",
    "            '<img alt=\"Cat picture\" src=\"./images/cat-01.png\">',\n",
    "            '<script src=\"jquery.js\"></script>']\n",
    "\n",
    "for img_tag in img_tags:\n",
    "    res = regex5.match(img_tag)\n",
    "    if res:\n",
    "        print(res.group(2))"
   ]
  },
  {
   "cell_type": "code",
   "execution_count": null,
   "metadata": {
    "collapsed": true
   },
   "outputs": [],
   "source": []
  }
 ],
 "metadata": {
  "kernelspec": {
   "display_name": "Python 3",
   "language": "python",
   "name": "python3"
  },
  "language_info": {
   "codemirror_mode": {
    "name": "ipython",
    "version": 3
   },
   "file_extension": ".py",
   "mimetype": "text/x-python",
   "name": "python",
   "nbconvert_exporter": "python",
   "pygments_lexer": "ipython3",
   "version": "3.7.3"
  },
  "toc": {
   "base_numbering": 1,
   "nav_menu": {},
   "number_sections": true,
   "sideBar": true,
   "skip_h1_title": false,
   "title_cell": "Table of Contents",
   "title_sidebar": "Contents",
   "toc_cell": false,
   "toc_position": {},
   "toc_section_display": true,
   "toc_window_display": false
  },
  "varInspector": {
   "cols": {
    "lenName": 16,
    "lenType": 16,
    "lenVar": 40
   },
   "kernels_config": {
    "python": {
     "delete_cmd_postfix": "",
     "delete_cmd_prefix": "del ",
     "library": "var_list.py",
     "varRefreshCmd": "print(var_dic_list())"
    },
    "r": {
     "delete_cmd_postfix": ") ",
     "delete_cmd_prefix": "rm(",
     "library": "var_list.r",
     "varRefreshCmd": "cat(var_dic_list()) "
    }
   },
   "types_to_exclude": [
    "module",
    "function",
    "builtin_function_or_method",
    "instance",
    "_Feature"
   ],
   "window_display": false
  }
 },
 "nbformat": 4,
 "nbformat_minor": 2
}
