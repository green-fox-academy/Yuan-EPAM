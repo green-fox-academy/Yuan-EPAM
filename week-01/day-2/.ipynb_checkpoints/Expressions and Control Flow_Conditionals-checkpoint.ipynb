{
 "cells": [
  {
   "cell_type": "code",
   "execution_count": null,
   "metadata": {},
   "outputs": [],
   "source": [
    "\"\"\"\n",
    "Conditionals\n",
    "\"\"\""
   ]
  },
  {
   "cell_type": "code",
   "execution_count": 2,
   "metadata": {},
   "outputs": [
    {
     "name": "stdout",
     "output_type": "stream",
     "text": [
      "Please input a number4\n",
      "Even\n"
     ]
    }
   ],
   "source": [
    "def print_odd_even():\n",
    "    num = input('Please input a number')\n",
    "    if int(num) % 2:\n",
    "        print('Odd')\n",
    "    else:\n",
    "        print('Even')\n",
    "        \n",
    "print_odd_even()"
   ]
  },
  {
   "cell_type": "code",
   "execution_count": 3,
   "metadata": {},
   "outputs": [],
   "source": [
    "def one_two_a_lot():\n",
    "    num = int(input('Please input a number'))\n",
    "    if num <= 0:\n",
    "        print('Not enough')\n",
    "    elif num == 1:\n",
    "        print('One')\n",
    "    elif num == 2:\n",
    "        print('Two')\n",
    "    elif num > 2:\n",
    "        print('A lot')"
   ]
  },
  {
   "cell_type": "code",
   "execution_count": 5,
   "metadata": {},
   "outputs": [
    {
     "name": "stdout",
     "output_type": "stream",
     "text": [
      "Average party...\n"
     ]
    }
   ],
   "source": [
    "def party_indicator(num_girl, num_boy):\n",
    "    if num_boy <= 0:\n",
    "        print('Boys are losing opportunity....')\n",
    "    total = num_girl + num_boy\n",
    "    if num_girl <= 0:\n",
    "        total = num_boy\n",
    "    if (num_girl == num_boy) and total >= 20:\n",
    "        print('Quite coll party!')\n",
    "    elif (num_girl / num_boy != 1) and total >= 20:\n",
    "        print('Average party...')\n",
    "    elif total < 20:\n",
    "        print('Sausage party')\n",
    "    else:\n",
    "        print('The party is exellent!')\n",
    "        \n",
    "party_indicator(15, 20)"
   ]
  },
  {
   "cell_type": "code",
   "execution_count": 7,
   "metadata": {},
   "outputs": [
    {
     "name": "stdout",
     "output_type": "stream",
     "text": [
      "1\n"
     ]
    }
   ],
   "source": [
    "def conditional_variable_mutation1(a, out):\n",
    "    if a % 2 == 0:\n",
    "        out += 1\n",
    "    print(out)\n",
    "\n",
    "conditional_variable_mutation1(24, 0)"
   ]
  },
  {
   "cell_type": "code",
   "execution_count": 13,
   "metadata": {},
   "outputs": [
    {
     "name": "stdout",
     "output_type": "stream",
     "text": [
      "Sweet!\n"
     ]
    }
   ],
   "source": [
    "def conditional_variable_mutation2(b, out):\n",
    "    if (b >= 10) and (b <= 20):\n",
    "        out = 'Sweet!'\n",
    "    elif (b < 10):\n",
    "        out = 'Less!'\n",
    "    elif (b > 20):\n",
    "        out = 'More!'\n",
    "    print(out)\n",
    "    \n",
    "\n",
    "conditional_variable_mutation2(13, '')"
   ]
  },
  {
   "cell_type": "code",
   "execution_count": 14,
   "metadata": {},
   "outputs": [
    {
     "name": "stdout",
     "output_type": "stream",
     "text": [
      "121\n"
     ]
    }
   ],
   "source": [
    "def conditional_variable_mutation3(c, credits, is_bonus):\n",
    "    if (credits >= 50) and ~is_bonus:\n",
    "        c -= 2\n",
    "    elif credits < 50 and ~is_bonus:\n",
    "        c -= 1\n",
    "    print(c)\n",
    "    \n",
    "conditional_variable_mutation3(123, 100, False)"
   ]
  },
  {
   "cell_type": "code",
   "execution_count": 16,
   "metadata": {},
   "outputs": [
    {
     "name": "stdout",
     "output_type": "stream",
     "text": [
      "check\n"
     ]
    }
   ],
   "source": [
    "def conditional_variable_mutation4(d, time, out3):\n",
    "    if (d % 4 == 0) and time <= 200:\n",
    "        out3 = 'check'\n",
    "    elif (d % 4 == 0) and time > 200:\n",
    "        out3 = 'Time out'\n",
    "    else:\n",
    "        out3 = 'Run Forest Run!'\n",
    "    print(out3)\n",
    "        \n",
    "conditional_variable_mutation4(8, 120, '')"
   ]
  },
  {
   "cell_type": "code",
   "execution_count": null,
   "metadata": {},
   "outputs": [],
   "source": []
  }
 ],
 "metadata": {
  "kernelspec": {
   "display_name": "Python 3",
   "language": "python",
   "name": "python3"
  },
  "language_info": {
   "codemirror_mode": {
    "name": "ipython",
    "version": 3
   },
   "file_extension": ".py",
   "mimetype": "text/x-python",
   "name": "python",
   "nbconvert_exporter": "python",
   "pygments_lexer": "ipython3",
   "version": "3.7.3"
  }
 },
 "nbformat": 4,
 "nbformat_minor": 2
}
