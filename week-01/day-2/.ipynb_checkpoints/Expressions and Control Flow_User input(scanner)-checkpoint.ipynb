{
 "cells": [
  {
   "cell_type": "code",
   "execution_count": 2,
   "metadata": {},
   "outputs": [
    {
     "name": "stdout",
     "output_type": "stream",
     "text": [
      "Please input your name Yuan\n",
      "Hello Yuan!\n"
     ]
    }
   ],
   "source": [
    "\"\"\"\n",
    "User input\n",
    "\"\"\"\n"
   ]
  },
  {
   "cell_type": "code",
   "execution_count": 3,
   "metadata": {},
   "outputs": [
    {
     "name": "stdout",
     "output_type": "stream",
     "text": [
      "Please input your name Yuan\n",
      "Hello Yuan!\n"
     ]
    }
   ],
   "source": [
    "user_name = input('Please input your name ')\n",
    "print('Hello ' + user_name + '!')"
   ]
  },
  {
   "cell_type": "code",
   "execution_count": 4,
   "metadata": {},
   "outputs": [
    {
     "name": "stdout",
     "output_type": "stream",
     "text": [
      "Please input a distance in miles1\n",
      "1 mile(s) is equal to 1.60934 km(s)\n"
     ]
    }
   ],
   "source": [
    "def convert_mile_to_km():\n",
    "    mile = input('Please input a distance in miles')\n",
    "    print('{} mile(s) is equal to {} km(s)'.format(mile, int(mile) * 1.60934))\n",
    "    \n",
    "convert_mile_to_km()"
   ]
  }
 ],
 "metadata": {
  "kernelspec": {
   "display_name": "Python 3",
   "language": "python",
   "name": "python3"
  },
  "language_info": {
   "codemirror_mode": {
    "name": "ipython",
    "version": 3
   },
   "file_extension": ".py",
   "mimetype": "text/x-python",
   "name": "python",
   "nbconvert_exporter": "python",
   "pygments_lexer": "ipython3",
   "version": "3.7.3"
  }
 },
 "nbformat": 4,
 "nbformat_minor": 2
}
