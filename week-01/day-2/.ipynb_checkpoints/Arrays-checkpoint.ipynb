{
 "cells": [
  {
   "cell_type": "code",
   "execution_count": 2,
   "metadata": {},
   "outputs": [
    {
     "name": "stdout",
     "output_type": "stream",
     "text": [
      "4\n",
      "5\n",
      "6\n",
      "7\n"
     ]
    }
   ],
   "source": [
    "def print_all(nums):\n",
    "    for num in nums:\n",
    "        print(num)\n",
    "        \n",
    "numbers = [4, 5, 6, 7]\n",
    "print_all(numbers)"
   ]
  },
  {
   "cell_type": "code",
   "execution_count": 3,
   "metadata": {},
   "outputs": [
    {
     "name": "stdout",
     "output_type": "stream",
     "text": [
      "6\n"
     ]
    }
   ],
   "source": [
    "def get_the_third(nums):\n",
    "    if not nums:\n",
    "        return \n",
    "    for index, val in enumerate(nums):\n",
    "        if index == 2:\n",
    "            print(val)\n",
    "            break\n",
    "            \n",
    "q = [4, 5, 6, 7]\n",
    "get_the_third(q)"
   ]
  },
  {
   "cell_type": "code",
   "execution_count": 4,
   "metadata": {},
   "outputs": [
    {
     "name": "stdout",
     "output_type": "stream",
     "text": [
      "p1 is longer\n"
     ]
    }
   ],
   "source": [
    "def compare_len(p1, p2):\n",
    "    p1_len = len(p1)\n",
    "    p2_len = len(p2)\n",
    "    if p2_len > p1_len:\n",
    "        print('p2 is longer')\n",
    "    elif p1_len > p2_len:\n",
    "        print('p1 is longer')\n",
    "    else:\n",
    "        print('p1 and p2 have the same length')\n",
    "        \n",
    "        \n",
    "p1 = [1, 2, 3]\n",
    "p2 = [4, 5]\n",
    "compare_len(p1, p2)"
   ]
  },
  {
   "cell_type": "code",
   "execution_count": 5,
   "metadata": {},
   "outputs": [
    {
     "name": "stdout",
     "output_type": "stream",
     "text": [
      "155\n"
     ]
    },
    {
     "data": {
      "text/plain": [
       "155"
      ]
     },
     "execution_count": 5,
     "metadata": {},
     "output_type": "execute_result"
    }
   ],
   "source": [
    "def sum_elements(nums):\n",
    "    res = sum(nums)\n",
    "    print(res)\n",
    "    return res\n",
    "\n",
    "r = [54, 23, 66, 12]\n",
    "sum_elements(r)"
   ]
  },
  {
   "cell_type": "code",
   "execution_count": 9,
   "metadata": {},
   "outputs": [
    {
     "name": "stdout",
     "output_type": "stream",
     "text": [
      "[4]\n"
     ]
    }
   ],
   "source": [
    "def change_elements(nums, target, new_val):\n",
    "    if not nums:\n",
    "        return\n",
    "    if target in nums:\n",
    "        target_index = nums.index(target)\n",
    "        nums[target_index] = new_val\n",
    "    print(nums[3])\n",
    "\n",
    "s = [1, 2, 3, 8, 5, 6]\n",
    "change_elements(s, 8, 4)"
   ]
  },
  {
   "cell_type": "code",
   "execution_count": 10,
   "metadata": {},
   "outputs": [
    {
     "name": "stdout",
     "output_type": "stream",
     "text": [
      "4\n"
     ]
    }
   ],
   "source": [
    "def increase_element(nums, index):\n",
    "    if not nums:\n",
    "        return\n",
    "    if index <= (len(nums) - 1):\n",
    "        nums[index - 1] += 1\n",
    "    print(nums[index - 1])\n",
    "    \n",
    "t = [1, 2, 3, 4, 5]\n",
    "increase_element(t, 3)"
   ]
  },
  {
   "cell_type": "code",
   "execution_count": 15,
   "metadata": {},
   "outputs": [
    {
     "name": "stdout",
     "output_type": "stream",
     "text": [
      "1 0 0 0\n",
      "0 1 0 0\n",
      "0 0 1 0\n",
      "0 0 0 1\n"
     ]
    }
   ],
   "source": [
    "def draw_diagonal_matrix(size):\n",
    "    res = []\n",
    "    for line in range(1, size + 1):\n",
    "        one_line = ['1' if i == line else '0' for i in range(1, size + 1)]\n",
    "        res.append(one_line)\n",
    "    for line in range(size):\n",
    "        print(' '.join(res[line]))\n",
    "        \n",
    "draw_diagonal_matrix(4)"
   ]
  },
  {
   "cell_type": "code",
   "execution_count": 25,
   "metadata": {},
   "outputs": [
    {
     "data": {
      "text/plain": [
       "[6, 8, 10, 12, 14]"
      ]
     },
     "execution_count": 25,
     "metadata": {},
     "output_type": "execute_result"
    }
   ],
   "source": [
    "def double_items(nums):\n",
    "    if not nums:\n",
    "        return\n",
    "    return [i * 2 for i in nums]\n",
    "\n",
    "num_list = [3, 4, 5, 6, 7]\n",
    "double_items(num_list)"
   ]
  },
  {
   "cell_type": "code",
   "execution_count": 31,
   "metadata": {},
   "outputs": [
    {
     "data": {
      "text/plain": [
       "['lime', 'forest green', 'olive', 'pale green', 'spring green']"
      ]
     },
     "execution_count": 31,
     "metadata": {},
     "output_type": "execute_result"
    }
   ],
   "source": [
    "def create_colors():\n",
    "    colors = []\n",
    "    colors.append(['lime', 'forest green', 'olive', 'pale green', 'spring green'])\n",
    "    colors.append(['orange red', 'red', 'tomato'])\n",
    "    colors.append(['orchid', 'violet', 'pink', 'hot pink'])\n",
    "    return colors\n",
    "\n",
    "colors = create_colors()\n",
    "colors[0]"
   ]
  },
  {
   "cell_type": "code",
   "execution_count": 32,
   "metadata": {},
   "outputs": [
    {
     "data": {
      "text/plain": [
       "['koala', 'panda', 'zebra']"
      ]
     },
     "execution_count": 32,
     "metadata": {},
     "output_type": "execute_result"
    }
   ],
   "source": [
    "def append_suffix_a(a_list):\n",
    "    if not a_list:\n",
    "        return\n",
    "    return [i + 'a' for i in a_list]\n",
    "\n",
    "animals = ['koal', 'pand', 'zebr']\n",
    "append_suffix_a(animals)"
   ]
  },
  {
   "cell_type": "code",
   "execution_count": 33,
   "metadata": {},
   "outputs": [
    {
     "data": {
      "text/plain": [
       "['third', 'second', 'first']"
      ]
     },
     "execution_count": 33,
     "metadata": {},
     "output_type": "execute_result"
    }
   ],
   "source": [
    "def swap_elements(a_list, index1, index2):\n",
    "    index1 -= 1\n",
    "    index2 -= 1\n",
    "    a_list[index1], a_list[index2] = a_list[index2], a_list[index1]\n",
    "    return a_list\n",
    "\n",
    "abc = ['first', 'second', 'third']\n",
    "swap_elements(abc, 1, 3)"
   ]
  },
  {
   "cell_type": "code",
   "execution_count": 34,
   "metadata": {},
   "outputs": [
    {
     "name": "stdout",
     "output_type": "stream",
     "text": [
      "25\n"
     ]
    }
   ],
   "source": [
    "def sum_all(a_list):\n",
    "    res = sum(a_list)\n",
    "    print(res)\n",
    "    \n",
    "ai = [3, 4, 5, 6, 7]\n",
    "sum_all(ai)"
   ]
  },
  {
   "cell_type": "code",
   "execution_count": 37,
   "metadata": {},
   "outputs": [
    {
     "name": "stdout",
     "output_type": "stream",
     "text": [
      "7\n",
      "6\n",
      "5\n",
      "4\n",
      "3\n"
     ]
    },
    {
     "data": {
      "text/plain": [
       "[7, 6, 5, 4, 3]"
      ]
     },
     "execution_count": 37,
     "metadata": {},
     "output_type": "execute_result"
    }
   ],
   "source": [
    "def reverse_list(a_list):\n",
    "    reversed_list = a_list[::-1]\n",
    "    for i in reversed_list:\n",
    "        print(i)\n",
    "    return reversed_list\n",
    "\n",
    "aj = [3, 4, 5, 6, 7]\n",
    "reverse_list(ai)"
   ]
  }
 ],
 "metadata": {
  "kernelspec": {
   "display_name": "Python 3",
   "language": "python",
   "name": "python3"
  },
  "language_info": {
   "codemirror_mode": {
    "name": "ipython",
    "version": 3
   },
   "file_extension": ".py",
   "mimetype": "text/x-python",
   "name": "python",
   "nbconvert_exporter": "python",
   "pygments_lexer": "ipython3",
   "version": "3.7.3"
  }
 },
 "nbformat": 4,
 "nbformat_minor": 2
}
