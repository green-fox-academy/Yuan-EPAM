{
 "cells": [
  {
   "cell_type": "code",
   "execution_count": 105,
   "metadata": {},
   "outputs": [
    {
     "data": {
      "text/plain": [
       "'\\nloops\\n'"
      ]
     },
     "execution_count": 105,
     "metadata": {},
     "output_type": "execute_result"
    }
   ],
   "source": [
    "\"\"\"\n",
    "loops\n",
    "\"\"\""
   ]
  },
  {
   "cell_type": "code",
   "execution_count": 106,
   "metadata": {},
   "outputs": [],
   "source": [
    "def i_wont_cheat_on_the_exams():\n",
    "    for i in range(100):\n",
    "        print(\"I won't cheat on the exam!\")"
   ]
  },
  {
   "cell_type": "code",
   "execution_count": 107,
   "metadata": {},
   "outputs": [],
   "source": [
    "def print_even():\n",
    "    for i in range(501):\n",
    "        if i % 2 == 0:\n",
    "            print(i)"
   ]
  },
  {
   "cell_type": "code",
   "execution_count": 93,
   "metadata": {},
   "outputs": [
    {
     "name": "stdout",
     "output_type": "stream",
     "text": [
      "Please input a number to see its multiplication table. \n",
      "15\n",
      "1 * 15 = 15\n",
      "2 * 15 = 30\n",
      "3 * 15 = 45\n",
      "4 * 15 = 60\n",
      "5 * 15 = 75\n",
      "6 * 15 = 90\n",
      "7 * 15 = 105\n",
      "8 * 15 = 120\n",
      "9 * 15 = 135\n",
      "10 * 15 = 150\n"
     ]
    }
   ],
   "source": [
    "def print_multiplication_table():\n",
    "    num = input('Please input a number to see its multiplication table. \\n')\n",
    "    for i in range(1, 11):\n",
    "        print('{} * {} = {}'.format(i, num, i * int(num)))\n",
    "\n",
    "print_multiplication_table()"
   ]
  },
  {
   "cell_type": "code",
   "execution_count": 101,
   "metadata": {},
   "outputs": [
    {
     "name": "stdout",
     "output_type": "stream",
     "text": [
      "Please enter two numbers (sperated by space)3 8\n",
      "3\n",
      "4\n",
      "5\n",
      "6\n",
      "7\n"
     ]
    }
   ],
   "source": [
    "def count_from_to():\n",
    "    num1, num2 = input('Please enter two numbers (sperated by space)').split()\n",
    "    num1, num2 = int(num1), int(num2)\n",
    "    if num1 >= num2:\n",
    "        print(\"The second number should be bigger.\")\n",
    "    else:\n",
    "        for i in range(num1, num2):\n",
    "            print(i)\n",
    "\n",
    "count_from_to()"
   ]
  },
  {
   "cell_type": "code",
   "execution_count": 20,
   "metadata": {
    "collapsed": true
   },
   "outputs": [
    {
     "name": "stdout",
     "output_type": "stream",
     "text": [
      "1\n",
      "2\n",
      "Fizz\n",
      "4\n",
      "Buzz\n",
      "Fizz\n",
      "7\n",
      "8\n",
      "Fizz\n",
      "Buzz\n",
      "11\n",
      "Fizz\n",
      "13\n",
      "14\n",
      "FizzBuzz\n",
      "16\n",
      "17\n",
      "Fizz\n",
      "19\n",
      "Buzz\n",
      "Fizz\n",
      "22\n",
      "23\n",
      "Fizz\n",
      "Buzz\n",
      "26\n",
      "Fizz\n",
      "28\n",
      "29\n",
      "FizzBuzz\n"
     ]
    }
   ],
   "source": [
    "def print_fizz_buzz (num):\n",
    "    for index in range(1, num + 1):\n",
    "        if (index % 3 == 0) and (index % 5 == 0):\n",
    "            print('FizzBuzz')\n",
    "        elif index % 3 == 0:\n",
    "            print('Fizz')\n",
    "        elif index % 5 == 0:\n",
    "            print('Buzz')\n",
    "        else:\n",
    "            print(index)\n",
    "\n",
    "\n",
    "print_fizz_buzz(30)"
   ]
  },
  {
   "cell_type": "code",
   "execution_count": 104,
   "metadata": {},
   "outputs": [
    {
     "name": "stdout",
     "output_type": "stream",
     "text": [
      "Please input a number of the size of triangel4\n",
      "\n",
      "*\n",
      "**\n",
      "***\n",
      "****\n"
     ]
    }
   ],
   "source": [
    "def draw_triangle():\n",
    "    num = input('Please input a number of the size of triangel')\n",
    "    for i in range(int(num) + 1):\n",
    "        print(i * '*')\n",
    "\n",
    "draw_triangle()"
   ]
  },
  {
   "cell_type": "code",
   "execution_count": 11,
   "metadata": {},
   "outputs": [
    {
     "name": "stdout",
     "output_type": "stream",
     "text": [
      "   *\n",
      "  ***\n",
      " *****\n",
      "*******\n"
     ]
    }
   ],
   "source": [
    "def draw_pyramid(num):\n",
    "    res = []\n",
    "    for line in range(1, num + 1):\n",
    "        res.append(' ' * (num - line) + '*' * (2 * line - 1))\n",
    "    for line in res:\n",
    "        print(''.join(line))\n",
    "        \n",
    "draw_pyramid(4)"
   ]
  },
  {
   "cell_type": "code",
   "execution_count": 48,
   "metadata": {},
   "outputs": [
    {
     "name": "stdout",
     "output_type": "stream",
     "text": [
      "      *\n",
      "     ***\n",
      "    *****\n",
      "   *******\n",
      "    *****\n",
      "     ***\n",
      "      *\n"
     ]
    }
   ],
   "source": [
    "def draw_diamond(num):\n",
    "    res = []\n",
    "    half = [i for i in range(1, num // 2 + 1)]\n",
    "    if num % 2:\n",
    "        diamond = half + [num // 2 + 1] + half[::-1]\n",
    "    else:\n",
    "        diamond = half + half[::-1]\n",
    "    for line in diamond:\n",
    "        res.append(' ' * (num - line) + '*' * (2 * line - 1))\n",
    "    for line in res:\n",
    "        print(''.join(line))\n",
    "        \n",
    "draw_diamond(7)"
   ]
  },
  {
   "cell_type": "code",
   "execution_count": 7,
   "metadata": {},
   "outputs": [
    {
     "name": "stdout",
     "output_type": "stream",
     "text": [
      "%%%%%%\n",
      "%    %\n",
      "%    %\n",
      "%    %\n",
      "%    %\n",
      "%%%%%%\n"
     ]
    }
   ],
   "source": [
    "def draw_square(num):\n",
    "    res = []\n",
    "    res.append(['%' * num])\n",
    "    for line in range(1, num - 1):\n",
    "        res.append('%' + ' '*(num - 2) + '%')\n",
    "    res.append(['%' * num])\n",
    "    for line in res:\n",
    "        print(''.join(line))\n",
    "\n",
    "draw_square(6)"
   ]
  },
  {
   "cell_type": "code",
   "execution_count": 86,
   "metadata": {},
   "outputs": [
    {
     "name": "stdout",
     "output_type": "stream",
     "text": [
      "%%%%%%\n",
      "%%   %\n",
      "% %  %\n",
      "%  % %\n",
      "%   %%\n",
      "%    %\n",
      "%%%%%%\n"
     ]
    }
   ],
   "source": [
    "def draw_diagonal(num):\n",
    "    res = []\n",
    "    head = ['%' for i in range(num)]\n",
    "    res.append(head)\n",
    "    for line in range(1, num):\n",
    "        one_line = ['%'] + ['%' if col == line else ' ' for col in range(1, num - 1)] + ['%']\n",
    "        res.append(one_line)\n",
    "    res.append(head)\n",
    "    \n",
    "    for i in res:\n",
    "        print(''.join(i))\n",
    "        \n",
    "draw_diagonal(6)"
   ]
  },
  {
   "cell_type": "code",
   "execution_count": 77,
   "metadata": {},
   "outputs": [
    {
     "name": "stdout",
     "output_type": "stream",
     "text": [
      "Please input a number to guess or \"q\" to quit...12\n",
      "The stored number is lower 4\n",
      "The stored number is higher 8\n",
      "Bingo! Bye~\n"
     ]
    }
   ],
   "source": [
    "def guess_the_number():\n",
    "    target = 8\n",
    "    user_guess = input('Please input a number to guess or \"q\" to quit...')\n",
    "    \n",
    "    while user_guess != \"q\":\n",
    "        user_guess = int(user_guess)\n",
    "        if user_guess == target:\n",
    "            print('Bingo! Bye~')\n",
    "            break\n",
    "        elif user_guess > target:\n",
    "            user_guess = input('The stored number is lower ')\n",
    "        else:\n",
    "            user_guess = input('The stored number is higher ')\n",
    "            \n",
    "guess_the_number()"
   ]
  },
  {
   "cell_type": "code",
   "execution_count": 4,
   "metadata": {},
   "outputs": [
    {
     "name": "stdout",
     "output_type": "stream",
     "text": [
      "Please enter a number or \"q\" to finish entering 1\n",
      "Please enter a number or \"q\" to finish entering 2\n",
      "Please enter a number or \"q\" to finish entering 3\n",
      "Please enter a number or \"q\" to finish entering 4\n",
      "Please enter a number or \"q\" to finish entering 5\n",
      "Please enter a number or \"q\" to finish entering 6\n",
      "Please enter a number or \"q\" to finish entering 7\n",
      "Please enter a number or \"q\" to finish entering q\n",
      "Sum: 28, Average: 4.0\n"
     ]
    }
   ],
   "source": [
    "def get_parametrix_average():\n",
    "    user_input = input('Please enter a number or \"q\" to finish entering ')\n",
    "    num_sum = int(user_input)\n",
    "    input_count = 1\n",
    "    while True:\n",
    "        user_input = input('Please enter a number or \"q\" to finish entering ')\n",
    "        if user_input == 'q':\n",
    "            break\n",
    "        input_count += 1\n",
    "        num_sum += int(user_input)\n",
    "    print('Sum: {}, Average: {}'.format(num_sum, num_sum / input_count))\n",
    "    \n",
    "get_parametrix_average()"
   ]
  },
  {
   "cell_type": "code",
   "execution_count": 89,
   "metadata": {},
   "outputs": [
    {
     "name": "stdout",
     "output_type": "stream",
     "text": [
      " % % % %\n",
      "% % % %\n",
      " % % % %\n",
      "% % % %\n",
      " % % % %\n",
      "% % % %\n",
      " % % % %\n",
      "% % % %\n",
      " % % % %\n"
     ]
    }
   ],
   "source": [
    "def draw_chess_table():\n",
    "    template = ['%' for i in range(8)]\n",
    "    res = []\n",
    "    for line in range(9):\n",
    "        if line % 2:\n",
    "            one_line = ' '.join(template[::2])\n",
    "        else:\n",
    "            one_line = ' ' + ' '.join(template[::2])\n",
    "        res.append(one_line)\n",
    "    for line in res:\n",
    "        print(line)\n",
    "        \n",
    "draw_chess_table()"
   ]
  },
  {
   "cell_type": "code",
   "execution_count": 120,
   "metadata": {},
   "outputs": [
    {
     "data": {
      "text/plain": [
       "17"
      ]
     },
     "execution_count": 120,
     "metadata": {},
     "output_type": "execute_result"
    }
   ],
   "source": [
    "def find_substring(a_str, keyword):\n",
    "    \"\"\"\n",
    "    @a_str: String\n",
    "    @keyword: String\n",
    "    \n",
    "    return: \n",
    "           Returns the starting index where the second one is starting in the first one\n",
    "           Returns -1 if the second string is not in the first one\n",
    "    \"\"\"\n",
    "    if not a_str:\n",
    "        return -1\n",
    "    res = -1\n",
    "    strs = a_str.split(keyword)\n",
    "    if len(strs[0]) < len(a_str):\n",
    "        res = len(strs[0])\n",
    "    return res\n",
    "\n",
    "find_substring(a_str, 'sear')"
   ]
  }
 ],
 "metadata": {
  "kernelspec": {
   "display_name": "Python 3",
   "language": "python",
   "name": "python3"
  },
  "language_info": {
   "codemirror_mode": {
    "name": "ipython",
    "version": 3
   },
   "file_extension": ".py",
   "mimetype": "text/x-python",
   "name": "python",
   "nbconvert_exporter": "python",
   "pygments_lexer": "ipython3",
   "version": "3.7.3"
  }
 },
 "nbformat": 4,
 "nbformat_minor": 2
}
