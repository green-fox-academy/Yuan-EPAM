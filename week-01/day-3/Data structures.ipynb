{
 "cells": [
  {
   "cell_type": "markdown",
   "metadata": {},
   "source": [
    "### Strings"
   ]
  },
  {
   "cell_type": "code",
   "execution_count": 1,
   "metadata": {},
   "outputs": [
    {
     "data": {
      "text/plain": [
       "'In a galaxy far far away'"
      ]
     },
     "execution_count": 1,
     "metadata": {},
     "output_type": "execute_result"
    }
   ],
   "source": [
    "def simple_replace(a_str):\n",
    "    return a_str.replace('dishwasher', 'galaxy')\n",
    "    \n",
    "a_str = 'In a dishwasher far far away'\n",
    "simple_replace(a_str)"
   ]
  },
  {
   "cell_type": "code",
   "execution_count": 8,
   "metadata": {},
   "outputs": [
    {
     "data": {
      "text/plain": [
       "'https://www.reddit.com/r/nevertellmetheodds'"
      ]
     },
     "execution_count": 8,
     "metadata": {},
     "output_type": "execute_result"
    }
   ],
   "source": [
    "def fix_url(url):\n",
    "    # a better way is to use re\n",
    "    # What is the crutial component ?\n",
    "    return url.split('bots')[0] + 'odds'\n",
    "\n",
    "url = \"https://www.reddit.com/r/nevertellmethebots\"\n",
    "fix_url(url)"
   ]
  },
  {
   "cell_type": "code",
   "execution_count": 14,
   "metadata": {},
   "outputs": [
    {
     "data": {
      "text/plain": [
       "\"Hofstadter's Law: It always takes longer than you expect, even when you take into account Hofstadter's Law.\""
      ]
     },
     "execution_count": 14,
     "metadata": {},
     "output_type": "execute_result"
    }
   ],
   "source": [
    "def add_str(a_str, extra_str):\n",
    "    return a_str.replace('It you', 'It ' + extra_str + ' you')\n",
    "\n",
    "quote = \"Hofstadter's Law: It you expect, even when you take into account Hofstadter's Law.\"\n",
    "extra_str = 'always takes longer than'\n",
    "add_str(quote, extra_str)"
   ]
  },
  {
   "cell_type": "code",
   "execution_count": 17,
   "metadata": {},
   "outputs": [
    {
     "name": "stdout",
     "output_type": "stream",
     "text": [
      "My todo\n",
      " - Buy milk\n",
      " - Download games\n",
      "    - Diablo\n",
      "\n"
     ]
    }
   ],
   "source": [
    "def add_todo(a_str, title, *items):\n",
    "    a_str = title + '\\n' + a_str\n",
    "    for item in items:\n",
    "        a_str += item + '\\n'\n",
    "    return a_str\n",
    "\n",
    "todoText = \" - Buy milk\\n\"\n",
    "title = 'My todo'\n",
    "item1 = ' - Download games'\n",
    "item2 = '    - Diablo'\n",
    "\n",
    "print(add_todo(todoText, title, item1, item2))"
   ]
  },
  {
   "cell_type": "code",
   "execution_count": 19,
   "metadata": {},
   "outputs": [
    {
     "name": "stdout",
     "output_type": "stream",
     "text": [
      "If the meanings of true and false were switched , this sentence wouldn't be false.\n"
     ]
    }
   ],
   "source": [
    "def reverse_str(a_str):\n",
    "    return a_str[::-1]\n",
    "\n",
    "reversed = \".eslaf eb t'ndluow ecnetnes siht , dehctiws erew eslaf dna eurt fo sgninaem eht fI\"\n",
    "print(reverse_str(reversed))"
   ]
  },
  {
   "cell_type": "code",
   "execution_count": null,
   "metadata": {},
   "outputs": [],
   "source": []
  },
  {
   "cell_type": "markdown",
   "metadata": {},
   "source": [
    "### Data Structures"
   ]
  },
  {
   "cell_type": "code",
   "execution_count": 34,
   "metadata": {},
   "outputs": [],
   "source": [
    "notes = {'978-1-60309-452-8': 'A Letter to Jo',\n",
    "           '978-1-60309-459-7': 'Lupus',\n",
    "           '978-1-60309-444-3': 'Red Panda and Moon Bear',\n",
    "           '978-1-60309-461-0': 'The Lab'}"
   ]
  },
  {
   "cell_type": "code",
   "execution_count": 35,
   "metadata": {},
   "outputs": [
    {
     "name": "stdout",
     "output_type": "stream",
     "text": [
      "A Letter to Jo (ISEN: 978-1-60309-452-8)\n",
      "Lupus (ISEN: 978-1-60309-459-7)\n",
      "Red Panda and Moon Bear (ISEN: 978-1-60309-444-3)\n",
      "The Lab (ISEN: 978-1-60309-461-0)\n"
     ]
    }
   ],
   "source": [
    "def print_notes(notes):\n",
    "    for key, val in notes.items():\n",
    "        print(f'{val} (ISEN: {key})')\n",
    "\n",
    "print_notes(notes)"
   ]
  },
  {
   "cell_type": "code",
   "execution_count": 36,
   "metadata": {},
   "outputs": [
    {
     "data": {
      "text/plain": [
       "{'978-1-60309-452-8': 'A Letter to Jo',\n",
       " '978-1-60309-459-7': 'Lupus',\n",
       " '978-1-60309-461-0': 'The Lab'}"
      ]
     },
     "execution_count": 36,
     "metadata": {},
     "output_type": "execute_result"
    }
   ],
   "source": [
    "def remove_by_key(notes, to_remove):\n",
    "    if to_remove in notes.keys():\n",
    "        notes.pop(to_remove)\n",
    "    return notes\n",
    "\n",
    "to_remove = '978-1-60309-444-3'\n",
    "remove_by_key(notes, to_remove)"
   ]
  },
  {
   "cell_type": "code",
   "execution_count": 37,
   "metadata": {},
   "outputs": [
    {
     "name": "stdout",
     "output_type": "stream",
     "text": [
      "Removing The Lab...\n"
     ]
    },
    {
     "data": {
      "text/plain": [
       "{'978-1-60309-452-8': 'A Letter to Jo', '978-1-60309-459-7': 'Lupus'}"
      ]
     },
     "execution_count": 37,
     "metadata": {},
     "output_type": "execute_result"
    }
   ],
   "source": [
    "def remove_by_val(notes, to_remove):\n",
    "    if not notes:\n",
    "        return \n",
    "    keys_to_remove = []\n",
    "    for key, val in notes.items():\n",
    "        if val == to_remove:\n",
    "            keys_to_remove.append(key)\n",
    "    for key in keys_to_remove:\n",
    "        print(f'Removing {notes[key]} ...')\n",
    "        notes.pop(key)\n",
    "    return notes\n",
    "\n",
    "to_remove = 'The Lab'\n",
    "remove_by_val(notes, to_remove)"
   ]
  },
  {
   "cell_type": "code",
   "execution_count": 41,
   "metadata": {},
   "outputs": [
    {
     "data": {
      "text/plain": [
       "{'978-1-60309-452-8': 'A Letter to Jo',\n",
       " '978-1-60309-459-7': 'Lupus',\n",
       " '978-1-60309-450-4': 'They Called Us Enemy',\n",
       " '978-1-60309-453-5': 'Why Did We Trust Him?'}"
      ]
     },
     "execution_count": 41,
     "metadata": {},
     "output_type": "execute_result"
    }
   ],
   "source": [
    "to_add = {'978-1-60309-450-4': 'They Called Us Enemy',\n",
    "         '978-1-60309-453-5': 'Why Did We Trust Him?'}\n",
    "notes.update(to_add)\n",
    "notes"
   ]
  },
  {
   "cell_type": "code",
   "execution_count": 47,
   "metadata": {},
   "outputs": [
    {
     "name": "stdout",
     "output_type": "stream",
     "text": [
      "Total expense: 3845\n",
      "Largest expense: 1250\n",
      "smallest expsene :1250\n",
      "average expense: 640.8333\n"
     ]
    }
   ],
   "source": [
    "def show_personal_finance(a_list):\n",
    "    if not a_list:\n",
    "        return\n",
    "    expense = sum(a_list)\n",
    "    max_expense = max(a_list)\n",
    "    min_expense = max(a_list)\n",
    "    avg_expense = round(expense / len(a_list), 4)\n",
    "    print(f'Total expense: {expense}',\n",
    "          f'Largest expense: {max_expense}', \n",
    "          f'smallest expsene :{min_expense}', \n",
    "          f'average expense: {avg_expense}', sep= '\\n')\n",
    "    \n",
    "a_list = [500, 1000, 1250, 175, 800, 120]\n",
    "show_personal_finance(a_list)"
   ]
  },
  {
   "cell_type": "code",
   "execution_count": 51,
   "metadata": {},
   "outputs": [
    {
     "data": {
      "text/plain": [
       "{'William A. Lathan': '405-709-1865',\n",
       " 'John K.Miller': '402-247-8568',\n",
       " 'Hortensia E.Foster': '606-481-6467',\n",
       " 'Amanda D.Newland': '319-243-5613',\n",
       " 'Brooke P. Askew': '307-687-2982'}"
      ]
     },
     "execution_count": 51,
     "metadata": {},
     "output_type": "execute_result"
    }
   ],
   "source": [
    "contacts = {'William A. Lathan': '405-709-1865',\n",
    "           'John K.Miller': '402-247-8568',\n",
    "           'Hortensia E.Foster': '606-481-6467',\n",
    "           'Amanda D.Newland': '319-243-5613',\n",
    "           'Brooke P. Askew': '307-687-2982'}\n",
    "contacts"
   ]
  },
  {
   "cell_type": "code",
   "execution_count": 56,
   "metadata": {},
   "outputs": [
    {
     "name": "stdout",
     "output_type": "stream",
     "text": [
      "The phone number of John K.Miller is 402-247-8568\n",
      "307-687-2982 is the phone number of Brooke P. Askew\n",
      "Sorry, Chris E.Myers is NOT in the contact!\n"
     ]
    }
   ],
   "source": [
    "def use_telephone_book(contacts, a_phone= None, a_name= None):\n",
    "    if a_name:\n",
    "        if a_name in contacts.keys():\n",
    "            print(f'The phone number of {a_name} is {contacts[a_name]}')\n",
    "        else:\n",
    "            print(f'Sorry, {a_name} is NOT in the contact!')\n",
    "    if a_phone:\n",
    "        for key, val in contacts.items():\n",
    "            if val == a_phone:\n",
    "                print(f'{a_phone} is the phone number of {key}')\n",
    "\n",
    "phone = '307-687-2982'\n",
    "name = 'John K.Miller'\n",
    "name2 = 'Chris E.Myers'\n",
    "use_telephone_book(contacts, a_name= name)\n",
    "use_telephone_book(contacts, a_phone= phone)\n",
    "use_telephone_book(contacts, a_name= name2)"
   ]
  },
  {
   "cell_type": "code",
   "execution_count": 73,
   "metadata": {},
   "outputs": [],
   "source": [
    "\"\"\"\n",
    "Shopping list\n",
    "\"\"\"\n",
    "products = {'Eggs': 200,\n",
    "           'Milk': 200,\n",
    "           'Fish': 400,\n",
    "           'Apples': 150,\n",
    "           'Bread': 50,\n",
    "           'Chicken': 550}"
   ]
  },
  {
   "cell_type": "code",
   "execution_count": 59,
   "metadata": {},
   "outputs": [
    {
     "name": "stdout",
     "output_type": "stream",
     "text": [
      "['Eggs', 'Milk', 'Apples', 'Bread']\n",
      "[('Fish', 400), ('Chicken', 550)]\n"
     ]
    }
   ],
   "source": [
    "def show_product(products):\n",
    "    res_less = []\n",
    "    res_more = []\n",
    "    for key, val in products.items():\n",
    "        if val < 201:\n",
    "            res_less.append(key)\n",
    "        elif val > 150:\n",
    "            res_more.append((key, val))\n",
    "    return res_less, res_more\n",
    "\n",
    "less_201, more_150 = show_product(products)\n",
    "print(less_201)\n",
    "print(more_150)"
   ]
  },
  {
   "cell_type": "code",
   "execution_count": 1,
   "metadata": {},
   "outputs": [],
   "source": [
    "\"\"\"\n",
    "Shopping list 2\n",
    "\"\"\"\n",
    "\n",
    "product_items = ['Milk', 'Rice', 'Eggs', 'Cheese', \n",
    "                 'Chicken Breasts', 'Apples', 'Tomato', 'Potato', 'Onion']\n",
    "product_price = [1.07, 1.59, 3.14, 12.60, \n",
    "                 9.40, 2.31, 2.58, 1.75, 1.10]\n",
    "\n",
    "bob_item = ['Milk', 'Rice', 'Eggs', 'Cheese', \n",
    "            'Chicken Breasts', 'Apples', 'Tomato', 'Potato']\n",
    "bob_item_num = [3, 2, 2, 1, \n",
    "                4, 1, 2, 1]\n",
    "\n",
    "alice_item = ['Rice', 'Eggs', 'Chicken Breasts', 'Apples', 'Tomato']\n",
    "alice_item_num = [1, 5, 2, 1, 10]"
   ]
  },
  {
   "cell_type": "code",
   "execution_count": 2,
   "metadata": {},
   "outputs": [],
   "source": [
    "def generate_item_map(items, nums):\n",
    "    if (len(items) != len(nums)) or (not items) or (not nums):\n",
    "        return\n",
    "    return {items[i]: nums[i] for i in range(len(items))}\n",
    "\n",
    "product_items = generate_item_map(product_items, product_price)\n",
    "bob_items = generate_item_map(bob_item, bob_item_num)\n",
    "alice_items = generate_item_map(alice_item, alice_item_num)"
   ]
  },
  {
   "cell_type": "code",
   "execution_count": 4,
   "metadata": {},
   "outputs": [
    {
     "name": "stdout",
     "output_type": "stream",
     "text": [
      "{'Milk': 1.07, 'Rice': 1.59, 'Eggs': 3.14, 'Cheese': 12.6, 'Chicken Breasts': 9.4, 'Apples': 2.31, 'Tomato': 2.58, 'Potato': 1.75, 'Onion': 1.1}\n",
      "{'Milk': 3, 'Rice': 2, 'Eggs': 2, 'Cheese': 1, 'Chicken Breasts': 4, 'Apples': 1, 'Tomato': 2, 'Potato': 1}\n",
      "{'Rice': 1, 'Eggs': 5, 'Chicken Breasts': 2, 'Apples': 1, 'Tomato': 10}\n"
     ]
    }
   ],
   "source": [
    "print(product_items)\n",
    "print(bob_items)\n",
    "print(alice_items)"
   ]
  },
  {
   "cell_type": "code",
   "execution_count": 5,
   "metadata": {
    "scrolled": true
   },
   "outputs": [
    {
     "name": "stdout",
     "output_type": "stream",
     "text": [
      "Bob expense: 72.09\n",
      "Alice expense: 64.2\n"
     ]
    }
   ],
   "source": [
    "def get_expense(product_items, shopping_list):\n",
    "    expense = 0\n",
    "    for item, num in shopping_list.items():\n",
    "        if item in product_items.keys():\n",
    "            expense += product_items[item] * num\n",
    "    return expense\n",
    "\n",
    "bob_expense = get_expense(product_items, bob_items)\n",
    "alice_expense = get_expense(product_items, alice_items)\n",
    "print(f'Bob expense: {bob_expense}')\n",
    "print(f'Alice expense: {alice_expense}')"
   ]
  },
  {
   "cell_type": "code",
   "execution_count": 7,
   "metadata": {},
   "outputs": [
    {
     "name": "stdout",
     "output_type": "stream",
     "text": [
      "bob buys more Rice\n",
      "bob buys more Potato\n"
     ]
    }
   ],
   "source": [
    "def compare_item_quantity(bob_items, alice_items, *target):\n",
    "    for item in target:\n",
    "        bob_num = bob_items[item] if item in bob_items.keys() else 0\n",
    "        alice_num = alice_items[item] if item in alice_items.keys() else 0\n",
    "        if bob_num > alice_num:\n",
    "            print(f'bob buys more {item}')\n",
    "        elif alice_num > bob_num:\n",
    "            print(f'alice buys more {item}')\n",
    "        else:\n",
    "            print(f'{item}: Equal, equal!')\n",
    "            \n",
    "compare_item_quantity(bob_items, alice_items, \"Rice\", \"Potato\")"
   ]
  },
  {
   "cell_type": "code",
   "execution_count": 8,
   "metadata": {},
   "outputs": [
    {
     "name": "stdout",
     "output_type": "stream",
     "text": [
      "bob has more different products {'Milk', 'Potato', 'Cheese'}\n"
     ]
    }
   ],
   "source": [
    "def compare_difference(bob_items, alice_items):\n",
    "    common_items = bob_items.keys() & alice_items.keys()\n",
    "    bob_diff = bob_items.keys() - common_items\n",
    "    alice_diff = alice_items.keys() - common_items\n",
    "    if len(bob_diff) > len(alice_diff):\n",
    "        print(f'bob has more different products {bob_diff}')\n",
    "    elif len(alice_diff) > len(alice_diff):\n",
    "        print(f'alice has more different products {alice_diff}')\n",
    "    else:\n",
    "        print('bob and alice share a same shopping products')\n",
    "        \n",
    "compare_difference(bob_items, alice_items)"
   ]
  },
  {
   "cell_type": "code",
   "execution_count": 9,
   "metadata": {},
   "outputs": [
    {
     "name": "stdout",
     "output_type": "stream",
     "text": [
      "alice buys more products 19\n"
     ]
    }
   ],
   "source": [
    "def compare_total_quantity(bob_items, alice_items):\n",
    "    bob_total = sum(bob_items.values())\n",
    "    alice_total = sum(alice_items.values())\n",
    "    if bob_total > alice_total:\n",
    "        print(f'bob buys more products {bob_toal}')\n",
    "    elif alice_total:\n",
    "        print(f'alice buys more products {alice_total}')\n",
    "    else:\n",
    "        print(f'bob and alice buy the same number of products {alice_total}')\n",
    "        \n",
    "compare_total_quantity(bob_items, alice_items)"
   ]
  },
  {
   "cell_type": "code",
   "execution_count": null,
   "metadata": {},
   "outputs": [],
   "source": []
  },
  {
   "cell_type": "code",
   "execution_count": null,
   "metadata": {},
   "outputs": [],
   "source": []
  }
 ],
 "metadata": {
  "kernelspec": {
   "display_name": "Python 3",
   "language": "python",
   "name": "python3"
  },
  "language_info": {
   "codemirror_mode": {
    "name": "ipython",
    "version": 3
   },
   "file_extension": ".py",
   "mimetype": "text/x-python",
   "name": "python",
   "nbconvert_exporter": "python",
   "pygments_lexer": "ipython3",
   "version": "3.7.3"
  },
  "varInspector": {
   "cols": {
    "lenName": 16,
    "lenType": 16,
    "lenVar": 40
   },
   "kernels_config": {
    "python": {
     "delete_cmd_postfix": "",
     "delete_cmd_prefix": "del ",
     "library": "var_list.py",
     "varRefreshCmd": "print(var_dic_list())"
    },
    "r": {
     "delete_cmd_postfix": ") ",
     "delete_cmd_prefix": "rm(",
     "library": "var_list.r",
     "varRefreshCmd": "cat(var_dic_list()) "
    }
   },
   "types_to_exclude": [
    "module",
    "function",
    "builtin_function_or_method",
    "instance",
    "_Feature"
   ],
   "window_display": false
  }
 },
 "nbformat": 4,
 "nbformat_minor": 2
}
