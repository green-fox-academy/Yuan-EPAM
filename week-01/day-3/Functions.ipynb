{
 "cells": [
  {
   "cell_type": "code",
   "execution_count": 67,
   "metadata": {},
   "outputs": [
    {
     "data": {
      "text/plain": [
       "246"
      ]
     },
     "execution_count": 67,
     "metadata": {},
     "output_type": "execute_result"
    }
   ],
   "source": [
    "def doubling(base_num):\n",
    "    return base_num * 2\n",
    "\n",
    "base_num = 123\n",
    "doubling(base_num)"
   ]
  },
  {
   "cell_type": "code",
   "execution_count": 69,
   "metadata": {},
   "outputs": [
    {
     "name": "stdout",
     "output_type": "stream",
     "text": [
      "Greetings, dear greenfox\n"
     ]
    }
   ],
   "source": [
    "def greet(input1):\n",
    "    print(f'Greetings, dear {input1}')\n",
    "    \n",
    "al = 'greenfox'\n",
    "greet(al)"
   ]
  },
  {
   "cell_type": "code",
   "execution_count": 70,
   "metadata": {},
   "outputs": [
    {
     "data": {
      "text/plain": [
       "'Chinchila'"
      ]
     },
     "execution_count": 70,
     "metadata": {},
     "output_type": "execute_result"
    }
   ],
   "source": [
    "def append_a_func(a_str):\n",
    "    return a_str + 'a'\n",
    "\n",
    "typo = 'Chinchil'\n",
    "append_a_func(typo)"
   ]
  },
  {
   "cell_type": "code",
   "execution_count": 81,
   "metadata": {},
   "outputs": [
    {
     "data": {
      "text/plain": [
       "10"
      ]
     },
     "execution_count": 81,
     "metadata": {},
     "output_type": "execute_result"
    }
   ],
   "source": [
    "def sum_nums(num):\n",
    "    return sum([x for x in range(num + 1)])\n",
    "\n",
    "sum_nums(4)"
   ]
  },
  {
   "cell_type": "code",
   "execution_count": 91,
   "metadata": {},
   "outputs": [
    {
     "name": "stdout",
     "output_type": "stream",
     "text": [
      "24\n",
      "24\n",
      "-6\n"
     ]
    }
   ],
   "source": [
    "def factorio(num):\n",
    "    res = 1\n",
    "    for i in range(1, abs(num) + 1):\n",
    "        res *= i\n",
    "    if (num < 0) and (num % 2):\n",
    "        res *= -1\n",
    "    return res\n",
    "\n",
    "print(factorio(4))\n",
    "print(factorio(-4))\n",
    "print(factorio(-3))"
   ]
  },
  {
   "cell_type": "code",
   "execution_count": 93,
   "metadata": {},
   "outputs": [
    {
     "name": "stdout",
     "output_type": "stream",
     "text": [
      "(1, 2, 3)\n"
     ]
    }
   ],
   "source": [
    "def print_params(*para):\n",
    "    print(para)\n",
    "    \n",
    "print_params(1, 2, 3)"
   ]
  },
  {
   "cell_type": "code",
   "execution_count": 5,
   "metadata": {},
   "outputs": [
    {
     "name": "stdout",
     "output_type": "stream",
     "text": [
      "[0, 1, 4]\n",
      "[]\n"
     ]
    }
   ],
   "source": [
    "# def get_subint(target, nums):\n",
    "#     if not nums:\n",
    "#         return\n",
    "#     res = []\n",
    "#     for index, num in enumerate(nums):\n",
    "#         if target in [int(x) for x in str(num)]:\n",
    "#             res.append(index)\n",
    "#     return res\n",
    "\n",
    "def get_subint(target, nums):\n",
    "    if not nums:\n",
    "        return\n",
    "    res = []\n",
    "    for index, num in enumerate(nums):\n",
    "        if str(target) in str(num):\n",
    "            res.append(index)\n",
    "    return res\n",
    "\n",
    "nums = [1, 11, 34, 52, 61]\n",
    "print(get_subint(1, nums))\n",
    "print(get_subint(9, nums))"
   ]
  },
  {
   "cell_type": "code",
   "execution_count": 3,
   "metadata": {},
   "outputs": [
    {
     "data": {
      "text/plain": [
       "[1, 11, 34, 52, 61]"
      ]
     },
     "execution_count": 3,
     "metadata": {},
     "output_type": "execute_result"
    }
   ],
   "source": [
    "# def unique(nums):\n",
    "#     # another way is to use set()\n",
    "#     if len(nums) <= 1:\n",
    "#         return nums\n",
    "#     nums.sort()\n",
    "#     res = []\n",
    "#     for i in range(1, len(nums)):\n",
    "#         if nums[i - 1] == nums[i]:\n",
    "#             continue\n",
    "#         else:\n",
    "#             res.append(nums[i - 1])\n",
    "#     return res\n",
    "\n",
    "def unique(nums):\n",
    "    if len(nums) <= 1:\n",
    "        return nums\n",
    "    checked = []\n",
    "    for num in nums:\n",
    "        if num in checked:\n",
    "            continue\n",
    "        else:\n",
    "            checked.append(num)\n",
    "    return checked\n",
    "\n",
    "a_list = [1, 11, 34, 11, 52, 61, 1, 34]\n",
    "unique(a_list)"
   ]
  },
  {
   "cell_type": "code",
   "execution_count": 2,
   "metadata": {},
   "outputs": [
    {
     "name": "stdout",
     "output_type": "stream",
     "text": [
      "True\n",
      "False\n"
     ]
    }
   ],
   "source": [
    "# def anagram(input1, input2):\n",
    "#     if (not input1) or (not input2):\n",
    "#         return False\n",
    "#     if len(input1) != len(input2):\n",
    "#         return False\n",
    "#     ch1 = sorted([x for x in input1])\n",
    "#     ch2 = sorted([x for x in input2])\n",
    "#     for i, val in enumerate(ch1):\n",
    "#         if val != ch2[i]:\n",
    "#             return False\n",
    "#     return True\n",
    "\n",
    "def anagram(input1, input2):\n",
    "    if len(input1) != len(input2):\n",
    "        return False\n",
    "    return set(input1) == set(input2)\n",
    "\n",
    "\n",
    "print(anagram('dogggi', 'gggoid'))\n",
    "print(anagram('green', 'fox'))"
   ]
  },
  {
   "cell_type": "code",
   "execution_count": 57,
   "metadata": {},
   "outputs": [
    {
     "name": "stdout",
     "output_type": "stream",
     "text": [
      "greenfoxxofneerg\n",
      "123321\n",
      "\n"
     ]
    }
   ],
   "source": [
    "def create_palindrome(a_str):\n",
    "    return a_str + a_str[::-1]\n",
    "\n",
    "print(create_palindrome('greenfox'))\n",
    "print(create_palindrome('123'))\n",
    "print(create_palindrome(''))"
   ]
  },
  {
   "cell_type": "code",
   "execution_count": 117,
   "metadata": {},
   "outputs": [
    {
     "name": "stdout",
     "output_type": "stream",
     "text": [
      "['g g', 'og go', 'dad', ' dad ', 'd d', 'eve', 'dood']\n",
      "['cec', 'aceca', 'racecar']\n",
      "[]\n",
      "[]\n"
     ]
    }
   ],
   "source": [
    "def is_palindrome(a_str):\n",
    "    if len(a_str) < 3:\n",
    "        return False\n",
    "    return a_str == a_str[::-1]\n",
    "\n",
    "def search_palindrome(a_str):\n",
    "    if not a_str:\n",
    "        return []\n",
    "    res = []\n",
    "    str_len = len(a_str)\n",
    "    slice_lens = [3, 4]\n",
    "    for slice_len in slice_lens:\n",
    "        cur_pos = 0\n",
    "        while (cur_pos + slice_len) < str_len:\n",
    "            cur_slice = a_str[cur_pos : cur_pos + slice_len]\n",
    "            if is_palindrome(cur_slice):\n",
    "                res.append(cur_slice)\n",
    "                # Based on the found palindrome, to extend and to see if there are more palindrome near around\n",
    "                left = cur_pos\n",
    "                right = cur_pos + slice_len\n",
    "                tmp_slice_len = slice_len\n",
    "                while (left > 0) and (right < str_len):\n",
    "                    tmp_slice_len += 1\n",
    "                    left -= 1\n",
    "                    right += 1\n",
    "                    tmp_slice = a_str[left : right]\n",
    "                    if is_palindrome(tmp_slice):\n",
    "                        res.append(tmp_slice)     \n",
    "                cur_pos += 1\n",
    "            else:\n",
    "                cur_pos += 1\n",
    "\n",
    "    return res\n",
    "\n",
    "a_str1 = 'dog goat dad duck doodle never'\n",
    "a_str2 = 'racecar'\n",
    "a_str3 = 'apple'\n",
    "a_str4 = ''\n",
    "print(search_palindrome(a_str1))\n",
    "print(search_palindrome(a_str2))\n",
    "print(search_palindrome(a_str3))\n",
    "print(search_palindrome(a_str4))"
   ]
  },
  {
   "cell_type": "code",
   "execution_count": 63,
   "metadata": {},
   "outputs": [
    {
     "data": {
      "text/plain": [
       "[-5, 5, 9, 9, 12, 24, 43]"
      ]
     },
     "execution_count": 63,
     "metadata": {},
     "output_type": "execute_result"
    }
   ],
   "source": [
    "def bubble(a_list):\n",
    "    if len(a_list) <= 1:\n",
    "        return a_list\n",
    "    for i in range(len(a_list)):\n",
    "        for j in range(i + 1, len(a_list)):\n",
    "            if a_list[i] > a_list[j]:\n",
    "                a_list[i], a_list[j] = a_list[j], a_list[i]\n",
    "    return a_list\n",
    "\n",
    "a_list = [43, 12, 24, -5, 9, 9, 5]\n",
    "bubble(a_list)"
   ]
  },
  {
   "cell_type": "code",
   "execution_count": 66,
   "metadata": {},
   "outputs": [
    {
     "data": {
      "text/plain": [
       "[43, 24, 12, 9, 9, 5, -5]"
      ]
     },
     "execution_count": 66,
     "metadata": {},
     "output_type": "execute_result"
    }
   ],
   "source": [
    "def advanced_bubble(a_list, is_descending= False):\n",
    "    if len(a_list) <= 1:\n",
    "        return a_list\n",
    "    for i in range(len(a_list)):\n",
    "        for j in range(i + 1, len(a_list)):\n",
    "            if is_descending:\n",
    "                if a_list[i] < a_list[j]:\n",
    "                    a_list[i], a_list[j] = a_list[j], a_list[i]\n",
    "            else:\n",
    "                if a_list[i] > a_list[j]:\n",
    "                    a_list[i], a_list[j] = a_list[j], a_list[i]\n",
    "    return a_list\n",
    "        \n",
    "a_list = [43, 12, 24, -5, 9, 9, 5]\n",
    "advanced_bubble(a_list, True)"
   ]
  },
  {
   "cell_type": "code",
   "execution_count": null,
   "metadata": {},
   "outputs": [],
   "source": []
  }
 ],
 "metadata": {
  "kernelspec": {
   "display_name": "Python 3",
   "language": "python",
   "name": "python3"
  },
  "language_info": {
   "codemirror_mode": {
    "name": "ipython",
    "version": 3
   },
   "file_extension": ".py",
   "mimetype": "text/x-python",
   "name": "python",
   "nbconvert_exporter": "python",
   "pygments_lexer": "ipython3",
   "version": "3.7.3"
  },
  "varInspector": {
   "cols": {
    "lenName": 16,
    "lenType": 16,
    "lenVar": 40
   },
   "kernels_config": {
    "python": {
     "delete_cmd_postfix": "",
     "delete_cmd_prefix": "del ",
     "library": "var_list.py",
     "varRefreshCmd": "print(var_dic_list())"
    },
    "r": {
     "delete_cmd_postfix": ") ",
     "delete_cmd_prefix": "rm(",
     "library": "var_list.r",
     "varRefreshCmd": "cat(var_dic_list()) "
    }
   },
   "types_to_exclude": [
    "module",
    "function",
    "builtin_function_or_method",
    "instance",
    "_Feature"
   ],
   "window_display": false
  }
 },
 "nbformat": 4,
 "nbformat_minor": 2
}
