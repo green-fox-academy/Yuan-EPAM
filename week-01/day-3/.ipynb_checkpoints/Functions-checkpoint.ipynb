{
 "cells": [
  {
   "cell_type": "code",
   "execution_count": 67,
   "metadata": {},
   "outputs": [
    {
     "data": {
      "text/plain": [
       "246"
      ]
     },
     "execution_count": 67,
     "metadata": {},
     "output_type": "execute_result"
    }
   ],
   "source": [
    "def doubling(base_num):\n",
    "    return base_num * 2\n",
    "\n",
    "base_num = 123\n",
    "doubling(base_num)"
   ]
  },
  {
   "cell_type": "code",
   "execution_count": 69,
   "metadata": {},
   "outputs": [
    {
     "name": "stdout",
     "output_type": "stream",
     "text": [
      "Greetings, dear greenfox\n"
     ]
    }
   ],
   "source": [
    "def greet(input1):\n",
    "    print(f'Greetings, dear {input1}')\n",
    "    \n",
    "al = 'greenfox'\n",
    "greet(al)"
   ]
  },
  {
   "cell_type": "code",
   "execution_count": 70,
   "metadata": {},
   "outputs": [
    {
     "data": {
      "text/plain": [
       "'Chinchila'"
      ]
     },
     "execution_count": 70,
     "metadata": {},
     "output_type": "execute_result"
    }
   ],
   "source": [
    "def append_a_func(a_str):\n",
    "    return a_str + 'a'\n",
    "\n",
    "typo = 'Chinchil'\n",
    "append_a_func(typo)"
   ]
  },
  {
   "cell_type": "code",
   "execution_count": 81,
   "metadata": {},
   "outputs": [
    {
     "data": {
      "text/plain": [
       "10"
      ]
     },
     "execution_count": 81,
     "metadata": {},
     "output_type": "execute_result"
    }
   ],
   "source": [
    "def sum_nums(num):\n",
    "    return sum([x for x in range(num + 1)])\n",
    "\n",
    "sum_nums(4)"
   ]
  },
  {
   "cell_type": "code",
   "execution_count": 91,
   "metadata": {},
   "outputs": [
    {
     "name": "stdout",
     "output_type": "stream",
     "text": [
      "24\n",
      "24\n",
      "-6\n"
     ]
    }
   ],
   "source": [
    "def factorio(num):\n",
    "    res = 1\n",
    "    for i in range(1, abs(num) + 1):\n",
    "        res *= i\n",
    "    if (num < 0) and (num % 2):\n",
    "        res *= -1\n",
    "    return res\n",
    "\n",
    "print(factorio(4))\n",
    "print(factorio(-4))\n",
    "print(factorio(-3))"
   ]
  },
  {
   "cell_type": "code",
   "execution_count": 93,
   "metadata": {},
   "outputs": [
    {
     "name": "stdout",
     "output_type": "stream",
     "text": [
      "(1, 2, 3)\n"
     ]
    }
   ],
   "source": [
    "def print_params(*para):\n",
    "    print(para)\n",
    "    \n",
    "print_params(1, 2, 3)"
   ]
  },
  {
   "cell_type": "code",
   "execution_count": 10,
   "metadata": {},
   "outputs": [
    {
     "name": "stdout",
     "output_type": "stream",
     "text": [
      "[0, 1, 4]\n",
      "[]\n"
     ]
    }
   ],
   "source": [
    "def get_subint(target, nums):\n",
    "    if not nums:\n",
    "        return\n",
    "    res = []\n",
    "    for index, num in enumerate(nums):\n",
    "        if target in [int(x) for x in str(num)]:\n",
    "            res.append(index)\n",
    "    return res\n",
    "\n",
    "nums = [1, 11, 34, 52, 61]\n",
    "print(get_subint(1, nums))\n",
    "print(get_subint(9, nums))"
   ]
  },
  {
   "cell_type": "code",
   "execution_count": 16,
   "metadata": {},
   "outputs": [
    {
     "data": {
      "text/plain": [
       "[1, 11, 34, 52]"
      ]
     },
     "execution_count": 16,
     "metadata": {},
     "output_type": "execute_result"
    }
   ],
   "source": [
    "def unique(nums):\n",
    "    # another way is to use set()\n",
    "    if len(nums) <= 1:\n",
    "        return nums\n",
    "    nums.sort()\n",
    "    res = []\n",
    "    for i in range(1, len(nums)):\n",
    "        if nums[i - 1] == nums[i]:\n",
    "            continue\n",
    "        else:\n",
    "            res.append(nums[i - 1])\n",
    "    return res\n",
    "\n",
    "a_list = [1, 11, 34, 11, 52, 61, 1, 34]\n",
    "unique(a_list)"
   ]
  },
  {
   "cell_type": "code",
   "execution_count": 48,
   "metadata": {},
   "outputs": [
    {
     "name": "stdout",
     "output_type": "stream",
     "text": [
      "True\n",
      "False\n"
     ]
    }
   ],
   "source": [
    "def anagram(input1, input2):\n",
    "    if (not input1) or (not input2):\n",
    "        return False\n",
    "    if len(input1) != len(input2):\n",
    "        return False\n",
    "    ch1 = sorted([x for x in input1])\n",
    "    ch2 = sorted([x for x in input2])\n",
    "    for i, val in enumerate(ch1):\n",
    "        if val != ch2[i]:\n",
    "            return False\n",
    "    return True\n",
    "\n",
    "\n",
    "print(anagram('dogggi', 'gggoid'))\n",
    "print(anagram('green', 'fox'))"
   ]
  },
  {
   "cell_type": "code",
   "execution_count": 57,
   "metadata": {},
   "outputs": [
    {
     "name": "stdout",
     "output_type": "stream",
     "text": [
      "greenfoxxofneerg\n",
      "123321\n",
      "\n"
     ]
    }
   ],
   "source": [
    "def create_palindrome(a_str):\n",
    "    return a_str + a_str[::-1]\n",
    "\n",
    "print(create_palindrome('greenfox'))\n",
    "print(create_palindrome('123'))\n",
    "print(create_palindrome(''))"
   ]
  },
  {
   "cell_type": "code",
   "execution_count": 100,
   "metadata": {
    "collapsed": true
   },
   "outputs": [
    {
     "name": "stdout",
     "output_type": "stream",
     "text": [
      "cur_pos: 0\n",
      "cur_pos: 1\n",
      "cur_pos: 2\n",
      "Got one palindrome: g g\n",
      "Now left: 1, right: 6, slice_len: 4\n",
      "tmp_slice: og go\n",
      "Now left: 0, right: 7, slice_len: 5\n",
      "tmp_slice: dog goa\n",
      "cur_pos: 3\n",
      "cur_pos: 4\n",
      "cur_pos: 5\n",
      "cur_pos: 6\n",
      "cur_pos: 7\n",
      "cur_pos: 8\n",
      "cur_pos: 9\n",
      "Got one palindrome: dad\n",
      "Now left: 8, right: 13, slice_len: 4\n",
      "tmp_slice:  dad \n",
      "Now left: 7, right: 14, slice_len: 5\n",
      "tmp_slice: t dad d\n",
      "Now left: 6, right: 15, slice_len: 6\n",
      "tmp_slice: at dad du\n",
      "Now left: 5, right: 16, slice_len: 7\n",
      "tmp_slice: oat dad duc\n",
      "Now left: 4, right: 17, slice_len: 8\n",
      "tmp_slice: goat dad duck\n",
      "Now left: 3, right: 18, slice_len: 9\n",
      "tmp_slice:  goat dad duck \n",
      "Now left: 2, right: 19, slice_len: 10\n",
      "tmp_slice: g goat dad duck d\n",
      "Now left: 1, right: 20, slice_len: 11\n",
      "tmp_slice: og goat dad duck do\n",
      "Now left: 0, right: 21, slice_len: 12\n",
      "tmp_slice: dog goat dad duck doo\n",
      "cur_pos: 10\n",
      "cur_pos: 11\n",
      "Got one palindrome: d d\n",
      "Now left: 10, right: 15, slice_len: 4\n",
      "tmp_slice: ad du\n",
      "Now left: 9, right: 16, slice_len: 5\n",
      "tmp_slice: dad duc\n",
      "Now left: 8, right: 17, slice_len: 6\n",
      "tmp_slice:  dad duck\n",
      "Now left: 7, right: 18, slice_len: 7\n",
      "tmp_slice: t dad duck \n",
      "Now left: 6, right: 19, slice_len: 8\n",
      "tmp_slice: at dad duck d\n",
      "Now left: 5, right: 20, slice_len: 9\n",
      "tmp_slice: oat dad duck do\n",
      "Now left: 4, right: 21, slice_len: 10\n",
      "tmp_slice: goat dad duck doo\n",
      "Now left: 3, right: 22, slice_len: 11\n",
      "tmp_slice:  goat dad duck dood\n",
      "Now left: 2, right: 23, slice_len: 12\n",
      "tmp_slice: g goat dad duck doodl\n",
      "Now left: 1, right: 24, slice_len: 13\n",
      "tmp_slice: og goat dad duck doodle\n",
      "Now left: 0, right: 25, slice_len: 14\n",
      "tmp_slice: dog goat dad duck doodle \n",
      "cur_pos: 12\n",
      "cur_pos: 13\n",
      "cur_pos: 14\n",
      "cur_pos: 15\n",
      "cur_pos: 16\n",
      "cur_pos: 17\n",
      "cur_pos: 18\n",
      "cur_pos: 19\n",
      "cur_pos: 20\n",
      "cur_pos: 21\n",
      "cur_pos: 22\n",
      "cur_pos: 23\n",
      "cur_pos: 24\n",
      "cur_pos: 25\n",
      "cur_pos: 26\n",
      "Got one palindrome: eve\n",
      "Now left: 25, right: 30, slice_len: 4\n",
      "tmp_slice: never\n"
     ]
    },
    {
     "data": {
      "text/plain": [
       "['g g', 'og go', 'dad', ' dad ', 'd d', 'eve']"
      ]
     },
     "execution_count": 100,
     "metadata": {},
     "output_type": "execute_result"
    }
   ],
   "source": [
    "def is_palindrome(a_str):\n",
    "    if len(a_str) < 3:\n",
    "        return False\n",
    "    return a_str == a_str[::-1]\n",
    "\n",
    "def search_palindrome(a_str):\n",
    "    if not a_str:\n",
    "        return \n",
    "    res = []\n",
    "    str_len = len(a_str)\n",
    "    cur_pos = 0\n",
    "    while (cur_pos + 3) < str_len:\n",
    "        print(f'cur_pos: {cur_pos}')\n",
    "        slice_len = 3\n",
    "        cur_slice = a_str[cur_pos : cur_pos + slice_len]\n",
    "        if is_palindrome(cur_slice):\n",
    "            res.append(cur_slice)\n",
    "            print(f'Got one palindrome: {cur_slice}')\n",
    "            # Based on the found palindrome, to extend and to see if there are more palindrome near around\n",
    "            left = cur_pos\n",
    "            right = cur_pos + slice_len\n",
    "            while (left > 0) and (right < str_len):\n",
    "                slice_len += 1\n",
    "                left -= 1\n",
    "                right += 1\n",
    "                tmp_slice = a_str[left : right]\n",
    "                print(f'Now left: {left}, right: {right}, slice_len: {slice_len}')\n",
    "                print(f'tmp_slice: {tmp_slice}')\n",
    "                if is_palindrome(tmp_slice):\n",
    "                    res.append(tmp_slice)     \n",
    "            cur_pos += 1\n",
    "        else:\n",
    "            cur_pos += 1\n",
    "    return res\n",
    "\n",
    "a_str = 'dog goat dad duck doodle never'\n",
    "search_palindrome(a_str)"
   ]
  },
  {
   "cell_type": "code",
   "execution_count": null,
   "metadata": {},
   "outputs": [],
   "source": [
    "def is_palindrome(a_str):\n",
    "    if len(a_str) < 3:\n",
    "        return False\n",
    "    return a_str == a_str[::-1]\n",
    "\n",
    "def search_palindrome(a_str):\n",
    "    if not a_str:\n",
    "        return \n",
    "    res = []\n",
    "    str_len = len(a_str)\n",
    "    cur_pos = 0\n",
    "    while (cur_pos + 3) < str_len:\n",
    "        print(f'cur_pos: {cur_pos}')\n",
    "        slice_len = 3\n",
    "        cur_slice = a_str[cur_pos : cur_pos + slice_len]\n",
    "        if is_palindrome(cur_slice):\n",
    "            res.append(cur_slice)\n",
    "            print(f'Got one palindrome: {cur_slice}')\n",
    "            # Based on the found palindrome, to extend and to see if there are more palindrome near around\n",
    "            left = cur_pos\n",
    "            right = cur_pos + slice_len\n",
    "            while (left > 0) and (right < str_len):\n",
    "                slice_len += 1\n",
    "                left -= 1\n",
    "                right += 1\n",
    "                tmp_slice = a_str[left : right]\n",
    "                print(f'Now left: {left}, right: {right}, slice_len: {slice_len}')\n",
    "                print(f'tmp_slice: {tmp_slice}')\n",
    "                if is_palindrome(tmp_slice):\n",
    "                    res.append(tmp_slice)     \n",
    "            cur_pos += 1\n",
    "        else:\n",
    "            cur_pos += 1\n",
    "    return res\n",
    "\n",
    "a_str = 'dog goat dad duck doodle never'\n",
    "search_palindrome(a_str)"
   ]
  },
  {
   "cell_type": "code",
   "execution_count": 63,
   "metadata": {},
   "outputs": [
    {
     "data": {
      "text/plain": [
       "[-5, 5, 9, 9, 12, 24, 43]"
      ]
     },
     "execution_count": 63,
     "metadata": {},
     "output_type": "execute_result"
    }
   ],
   "source": [
    "def bubble(a_list):\n",
    "    if len(a_list) <= 1:\n",
    "        return a_list\n",
    "    for i in range(len(a_list)):\n",
    "        for j in range(i + 1, len(a_list)):\n",
    "            if a_list[i] > a_list[j]:\n",
    "                a_list[i], a_list[j] = a_list[j], a_list[i]\n",
    "    return a_list\n",
    "\n",
    "a_list = [43, 12, 24, -5, 9, 9, 5]\n",
    "bubble(a_list)"
   ]
  },
  {
   "cell_type": "code",
   "execution_count": 66,
   "metadata": {},
   "outputs": [
    {
     "data": {
      "text/plain": [
       "[43, 24, 12, 9, 9, 5, -5]"
      ]
     },
     "execution_count": 66,
     "metadata": {},
     "output_type": "execute_result"
    }
   ],
   "source": [
    "def advanced_bubble(a_list, is_descending= False):\n",
    "    if len(a_list) <= 1:\n",
    "        return a_list\n",
    "    for i in range(len(a_list)):\n",
    "        for j in range(i + 1, len(a_list)):\n",
    "            if is_descending:\n",
    "                if a_list[i] < a_list[j]:\n",
    "                    a_list[i], a_list[j] = a_list[j], a_list[i]\n",
    "            else:\n",
    "                if a_list[i] > a_list[j]:\n",
    "                    a_list[i], a_list[j] = a_list[j], a_list[i]\n",
    "    return a_list\n",
    "        \n",
    "a_list = [43, 12, 24, -5, 9, 9, 5]\n",
    "advanced_bubble(a_list, True)"
   ]
  },
  {
   "cell_type": "code",
   "execution_count": 22,
   "metadata": {
    "scrolled": true
   },
   "outputs": [
    {
     "name": "stdout",
     "output_type": "stream",
     "text": [
      "Help on built-in function dir in module builtins:\n",
      "\n",
      "dir(...)\n",
      "    dir([object]) -> list of strings\n",
      "    \n",
      "    If called without an argument, return the names in the current scope.\n",
      "    Else, return an alphabetized list of names comprising (some of) the attributes\n",
      "    of the given object, and of attributes reachable from it.\n",
      "    If the object supplies a method named __dir__, it will be used; otherwise\n",
      "    the default dir() logic is used and returns:\n",
      "      for a module object: the module's attributes.\n",
      "      for a class object:  its attributes, and recursively the attributes\n",
      "        of its bases.\n",
      "      for any other object: its attributes, its class's attributes, and\n",
      "        recursively the attributes of its class's base classes.\n",
      "\n"
     ]
    }
   ],
   "source": [
    "help(dir)"
   ]
  },
  {
   "cell_type": "code",
   "execution_count": null,
   "metadata": {},
   "outputs": [],
   "source": []
  },
  {
   "cell_type": "code",
   "execution_count": null,
   "metadata": {},
   "outputs": [],
   "source": []
  },
  {
   "cell_type": "code",
   "execution_count": null,
   "metadata": {},
   "outputs": [],
   "source": []
  }
 ],
 "metadata": {
  "kernelspec": {
   "display_name": "Python 3",
   "language": "python",
   "name": "python3"
  },
  "language_info": {
   "codemirror_mode": {
    "name": "ipython",
    "version": 3
   },
   "file_extension": ".py",
   "mimetype": "text/x-python",
   "name": "python",
   "nbconvert_exporter": "python",
   "pygments_lexer": "ipython3",
   "version": "3.7.3"
  }
 },
 "nbformat": 4,
 "nbformat_minor": 2
}
