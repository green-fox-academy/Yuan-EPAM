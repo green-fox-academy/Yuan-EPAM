{
 "cells": [
  {
   "cell_type": "code",
   "execution_count": 6,
   "metadata": {},
   "outputs": [
    {
     "name": "stdout",
     "output_type": "stream",
     "text": [
      "1\n",
      "6\n",
      "15\n"
     ]
    }
   ],
   "source": [
    "\"\"\"\n",
    "Number adder\n",
    "\"\"\"\n",
    "def sum_num(n):\n",
    "    if n <= 1:\n",
    "        return 1\n",
    "    return n + sum_num(n - 1)\n",
    "\n",
    "print(sum_num(1))\n",
    "print(sum_num(3))\n",
    "print(sum_num(5))"
   ]
  },
  {
   "cell_type": "code",
   "execution_count": 10,
   "metadata": {},
   "outputs": [
    {
     "name": "stdout",
     "output_type": "stream",
     "text": [
      "9\n",
      "1\n"
     ]
    }
   ],
   "source": [
    "\"\"\"\n",
    "Sum Digits\n",
    "\"\"\"\n",
    "def sum_digits(n):\n",
    "    if not n:\n",
    "        return 0\n",
    "    return n % 10 + sum_digits(n // 10)\n",
    "\n",
    "print(sum_digits(126))\n",
    "print(sum_digits(100))"
   ]
  },
  {
   "cell_type": "code",
   "execution_count": 12,
   "metadata": {},
   "outputs": [
    {
     "name": "stdout",
     "output_type": "stream",
     "text": [
      "9\n",
      "27\n",
      "1024\n"
     ]
    }
   ],
   "source": [
    "\"\"\"\n",
    "Power\n",
    "\"\"\"\n",
    "def get_power(n, power_time):\n",
    "    if power_time <= 0:\n",
    "        return 1\n",
    "    return n * get_power(n, power_time - 1)\n",
    "\n",
    "print(get_power(3, 2))\n",
    "print(get_power(3, 3))\n",
    "print(get_power(2, 10))"
   ]
  },
  {
   "cell_type": "code",
   "execution_count": 17,
   "metadata": {},
   "outputs": [
    {
     "name": "stdout",
     "output_type": "stream",
     "text": [
      "1\n",
      "25\n",
      "5\n"
     ]
    }
   ],
   "source": [
    "\"\"\"\n",
    "Greatest Common Divisor\n",
    "\"\"\"\n",
    "def get_gcd(num1, num2):\n",
    "    if num1 == num2:\n",
    "        return num1\n",
    "    elif num1 > num2:\n",
    "        return get_gcd(num1 - num2, num2)\n",
    "    elif num1 < num2:\n",
    "        return get_gcd(num1, num2 - num1)\n",
    "\n",
    "print(get_gcd(2, 3))\n",
    "print(get_gcd(50, 25))\n",
    "print(get_gcd(15, 50))"
   ]
  },
  {
   "cell_type": "code",
   "execution_count": 20,
   "metadata": {},
   "outputs": [
    {
     "name": "stdout",
     "output_type": "stream",
     "text": [
      "2\n",
      "6\n",
      "8\n"
     ]
    }
   ],
   "source": [
    "\"\"\"\n",
    "Bunnies\n",
    "\"\"\"\n",
    "def count_bunny_ears(n):\n",
    "    if n <= 0:\n",
    "        return 0\n",
    "    return 2 + get_bunny_ears(n - 1)\n",
    "\n",
    "print(count_bunny_ears(1))\n",
    "print(count_bunny_ears(3))\n",
    "print(count_bunny_ears(4))"
   ]
  },
  {
   "cell_type": "code",
   "execution_count": 44,
   "metadata": {},
   "outputs": [
    {
     "name": "stdout",
     "output_type": "stream",
     "text": [
      "0\n",
      "2\n",
      "5\n",
      "7\n",
      "10\n"
     ]
    }
   ],
   "source": [
    "\"\"\"\n",
    "Bunnies again\n",
    "\"\"\"\n",
    "def count_bunny_ears_2(n):\n",
    "    if n <= 0:\n",
    "        return 0\n",
    "    if n % 2:\n",
    "        return 2 + count_bunny_ears_2(n - 1)\n",
    "    else:\n",
    "        return 3 + count_bunny_ears_2(n - 1)\n",
    "    \n",
    "print(count_bunny_ears_2(0))\n",
    "print(count_bunny_ears_2(1))\n",
    "print(count_bunny_ears_2(2))\n",
    "print(count_bunny_ears_2(3))\n",
    "print(count_bunny_ears_2(4))"
   ]
  },
  {
   "cell_type": "code",
   "execution_count": 51,
   "metadata": {},
   "outputs": [
    {
     "data": {
      "text/plain": [
       "''"
      ]
     },
     "execution_count": 51,
     "metadata": {},
     "output_type": "execute_result"
    }
   ],
   "source": [
    "test_str = 'x'\n",
    "test_str[1:]"
   ]
  },
  {
   "cell_type": "code",
   "execution_count": 57,
   "metadata": {},
   "outputs": [
    {
     "name": "stdout",
     "output_type": "stream",
     "text": [
      "y\n",
      "yyy\n",
      "abcd\n",
      "yyyyabcyyy\n"
     ]
    }
   ],
   "source": [
    "\"\"\"\n",
    "Strings\n",
    "\"\"\"\n",
    "def convert_x2y(a_str):\n",
    "    if len(a_str) <= 0:\n",
    "        return ''\n",
    "    if a_str[0] == 'x':\n",
    "        return 'y' + convert_x2y(a_str[1:])\n",
    "    else:\n",
    "        return a_str[0] + convert_x2y(a_str[1:])\n",
    "\n",
    "print(convert_x2y('x'))\n",
    "print(convert_x2y('xyx'))\n",
    "print(convert_x2y('abcd'))\n",
    "print(convert_x2y('xxxxabcyyy'))"
   ]
  },
  {
   "cell_type": "code",
   "execution_count": 61,
   "metadata": {},
   "outputs": [
    {
     "name": "stdout",
     "output_type": "stream",
     "text": [
      "\n",
      "y\n",
      "abcd\n",
      "abcyyy\n"
     ]
    }
   ],
   "source": [
    "\"\"\"\n",
    "Strings again\n",
    "\"\"\"\n",
    "def remove_x(a_str):\n",
    "    if len(a_str) <= 0:\n",
    "        return ''\n",
    "    if a_str[0] == 'x':\n",
    "        return remove_x(a_str[1:])\n",
    "    else:\n",
    "        return a_str[0] + remove_x(a_str[1:])\n",
    "    \n",
    "print(remove_x('x'))\n",
    "print(remove_x('xyx'))\n",
    "print(remove_x('abcd'))\n",
    "print(remove_x('xxxxabcyyy'))"
   ]
  },
  {
   "cell_type": "code",
   "execution_count": 63,
   "metadata": {},
   "outputs": [
    {
     "name": "stdout",
     "output_type": "stream",
     "text": [
      "*x*\n",
      "*x*y*x*\n",
      "*a*b*c*d*\n",
      "*x*x*x*x*a*b*c*y*y*y*\n"
     ]
    }
   ],
   "source": [
    "\"\"\"\n",
    "Strings again and again\n",
    "\"\"\"\n",
    "def add_adjacent_asterisk(a_str):\n",
    "    if len(a_str) <= 0:\n",
    "        return '*'\n",
    "    if a_str[0]:\n",
    "        return '*' + a_str[0] + add_adjacent_asterisk(a_str[1:])\n",
    "    \n",
    "print(add_adjacent_asterisk('x'))\n",
    "print(add_adjacent_asterisk('xyx'))\n",
    "print(add_adjacent_asterisk('abcd'))\n",
    "print(add_adjacent_asterisk('xxxxabcyyy'))"
   ]
  },
  {
   "cell_type": "code",
   "execution_count": 72,
   "metadata": {},
   "outputs": [
    {
     "name": "stdout",
     "output_type": "stream",
     "text": [
      "0\n",
      "1\n",
      "1\n",
      "2\n",
      "3\n",
      "5\n",
      "8\n",
      "13\n",
      "21\n"
     ]
    }
   ],
   "source": [
    "\"\"\"\n",
    "Fibonacci\n",
    "\"\"\"\n",
    "def get_fibonacci(n):\n",
    "    if n <= 1:\n",
    "        return 0\n",
    "    if n == 2:\n",
    "        return 1\n",
    "    return get_fibonacci(n - 1) + get_fibonacci(n - 2)\n",
    "\n",
    "for i in range(1, 10):\n",
    "    print(get_fibonacci(i))"
   ]
  },
  {
   "cell_type": "code",
   "execution_count": 103,
   "metadata": {},
   "outputs": [
    {
     "name": "stdout",
     "output_type": "stream",
     "text": [
      "[]\n",
      "1\n",
      "4\n",
      "2\n",
      "6\n",
      "8\n"
     ]
    }
   ],
   "source": [
    "\"\"\"\n",
    "Maximum finder\n",
    "\"\"\"\n",
    "def find_max(nums):\n",
    "    if not len(nums):\n",
    "        return nums\n",
    "    if len(nums) == 1:\n",
    "        return nums[0]  \n",
    "    return max(nums[0], find_max(nums[1:]))\n",
    "\n",
    "print(find_max(list()))\n",
    "print(find_max([1]))\n",
    "print(find_max([1, 2, 4, 1]))\n",
    "print(find_max([1, 1, 2, 1, 1, 1]))\n",
    "print(find_max([6, 4, 3, 2]))\n",
    "print(find_max([6, 4, 3, 2, 8]))"
   ]
  },
  {
   "cell_type": "code",
   "execution_count": 106,
   "metadata": {},
   "outputs": [
    {
     "name": "stdout",
     "output_type": "stream",
     "text": [
      "[]\n",
      "1\n",
      "4\n",
      "2\n",
      "6\n",
      "8\n"
     ]
    }
   ],
   "source": [
    "\"\"\"\n",
    "Maximum finder\n",
    "\"\"\"\n",
    "def find_max(nums, cur_max=None):\n",
    "    if not len(nums):\n",
    "        return nums\n",
    "    if (not cur_max) or (cur_max < nums[0]):\n",
    "        cur_max = nums[0]\n",
    "    if len(nums) == 1:\n",
    "        if cur_max:\n",
    "            return cur_max\n",
    "        else:\n",
    "            return nums[0]\n",
    "    return find_max(nums[1:], cur_max)\n",
    "\n",
    "print(find_max(list()))\n",
    "print(find_max([1]))\n",
    "print(find_max([1, 2, 4, 1]))\n",
    "print(find_max([1, 1, 2, 2, 1, 1, 1]))\n",
    "print(find_max([6, 4, 3, 2]))\n",
    "print(find_max([6, 4, 3, 2, 8]))"
   ]
  },
  {
   "cell_type": "code",
   "execution_count": null,
   "metadata": {},
   "outputs": [],
   "source": []
  },
  {
   "cell_type": "code",
   "execution_count": null,
   "metadata": {},
   "outputs": [],
   "source": []
  }
 ],
 "metadata": {
  "kernelspec": {
   "display_name": "Python 3",
   "language": "python",
   "name": "python3"
  },
  "language_info": {
   "codemirror_mode": {
    "name": "ipython",
    "version": 3
   },
   "file_extension": ".py",
   "mimetype": "text/x-python",
   "name": "python",
   "nbconvert_exporter": "python",
   "pygments_lexer": "ipython3",
   "version": "3.7.3"
  },
  "varInspector": {
   "cols": {
    "lenName": 16,
    "lenType": 16,
    "lenVar": 40
   },
   "kernels_config": {
    "python": {
     "delete_cmd_postfix": "",
     "delete_cmd_prefix": "del ",
     "library": "var_list.py",
     "varRefreshCmd": "print(var_dic_list())"
    },
    "r": {
     "delete_cmd_postfix": ") ",
     "delete_cmd_prefix": "rm(",
     "library": "var_list.r",
     "varRefreshCmd": "cat(var_dic_list()) "
    }
   },
   "types_to_exclude": [
    "module",
    "function",
    "builtin_function_or_method",
    "instance",
    "_Feature"
   ],
   "window_display": false
  }
 },
 "nbformat": 4,
 "nbformat_minor": 2
}
