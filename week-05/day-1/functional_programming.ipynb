{
 "cells": [
  {
   "cell_type": "code",
   "execution_count": 68,
   "metadata": {},
   "outputs": [],
   "source": [
    "from functools import reduce\n",
    "from collections import namedtuple\n",
    "\n",
    "nums = [1, 3, -2, -4, -7,\n",
    "        -3, -8, 12, 19, 6,\n",
    "        9, 10, 14]"
   ]
  },
  {
   "cell_type": "code",
   "execution_count": 41,
   "metadata": {},
   "outputs": [
    {
     "data": {
      "text/plain": [
       "[-2, -4, -8, 12, 6, 10, 14]"
      ]
     },
     "execution_count": 41,
     "metadata": {},
     "output_type": "execute_result"
    }
   ],
   "source": [
    "\"\"\"\n",
    "Even number\n",
    "\"\"\"\n",
    "even = lambda x : x % 2 == 0\n",
    "list(filter(even, nums))"
   ]
  },
  {
   "cell_type": "code",
   "execution_count": 42,
   "metadata": {},
   "outputs": [
    {
     "data": {
      "text/plain": [
       "[1, 9, 144, 361, 36, 81, 100, 196]"
      ]
     },
     "execution_count": 42,
     "metadata": {},
     "output_type": "execute_result"
    }
   ],
   "source": [
    "\"\"\"\n",
    "Squared positives\n",
    "\"\"\"\n",
    "positive = lambda x : x > 0\n",
    "square = lambda x : x ** 2\n",
    "list(map(square, filter(positive, nums)))"
   ]
  },
  {
   "cell_type": "code",
   "execution_count": 43,
   "metadata": {},
   "outputs": [
    {
     "data": {
      "text/plain": [
       "[-7, -8, 12, 19, 6, 9, 10, 14]"
      ]
     },
     "execution_count": 43,
     "metadata": {},
     "output_type": "execute_result"
    }
   ],
   "source": [
    "\"\"\"\n",
    "Squared above 20\n",
    "\"\"\"\n",
    "above_20 = lambda x : x ** 2 > 20\n",
    "list(filter(above_20, nums))"
   ]
  },
  {
   "cell_type": "code",
   "execution_count": 215,
   "metadata": {},
   "outputs": [
    {
     "data": {
      "text/plain": [
       "3.6666666666666665"
      ]
     },
     "execution_count": 215,
     "metadata": {},
     "output_type": "execute_result"
    }
   ],
   "source": [
    "\"\"\"\n",
    "Average of odd numbers\n",
    "\"\"\"\n",
    "odd = lambda x : x % 2 == 1\n",
    "average = lambda x_sum, x_len : x_sum / x_len\n",
    "len_sum = lambda x : 1\n",
    "sum_num = lambda x, y : x + y\n",
    "avg_num = lambda x, y : x / y\n",
    "\n",
    "odd_nums_len = reduce(sum_num, map(len_sum, filter(odd, nums)))\n",
    "odd_nums_sum = reduce(sum_num, filter(odd, nums))\n",
    "# odd_nums_avg = odd_nums_sum / odd_nums_len\n",
    "odd_nums_avg = reduce(avg_num, [odd_nums_sum, odd_nums_len])\n",
    "odd_nums_avg"
   ]
  },
  {
   "cell_type": "code",
   "execution_count": 169,
   "metadata": {},
   "outputs": [
    {
     "data": {
      "text/plain": [
       "3.6666666666666665"
      ]
     },
     "execution_count": 169,
     "metadata": {},
     "output_type": "execute_result"
    }
   ],
   "source": [
    "# sum(x for x in nums if x % 2 == 1) / sum(1 for x in nums if x % 2 == 1)"
   ]
  },
  {
   "cell_type": "code",
   "execution_count": 57,
   "metadata": {},
   "outputs": [
    {
     "name": "stdout",
     "output_type": "stream",
     "text": [
      "[1, 3, -2, -4, -7, -3, -8, 12, 19, 6, 9, 10, 14]\n",
      "[-2, -4, -8, 12, 6, 10, 14]\n",
      "[-2, -4, -8, 6, 10]\n"
     ]
    },
    {
     "data": {
      "text/plain": [
       "2"
      ]
     },
     "execution_count": 57,
     "metadata": {},
     "output_type": "execute_result"
    }
   ],
   "source": [
    "\"\"\"\n",
    "Sum of numbers\n",
    "\"\"\"\n",
    "even = lambda x : x % 2 == 0\n",
    "below_10 = lambda x : x <= 10\n",
    "sum_num = lambda x, y : x + y\n",
    "\n",
    "print(nums)\n",
    "print(list(filter(even, nums)))\n",
    "print(list(filter(below_10, filter(even, nums))))\n",
    "\n",
    "reduce(sum_num, filter(below_10, filter(even, nums)))"
   ]
  },
  {
   "cell_type": "code",
   "execution_count": 66,
   "metadata": {},
   "outputs": [
    {
     "name": "stdout",
     "output_type": "stream",
     "text": [
      "False\n",
      "True\n",
      "True\n"
     ]
    },
    {
     "data": {
      "text/plain": [
       "True"
      ]
     },
     "execution_count": 66,
     "metadata": {},
     "output_type": "execute_result"
    }
   ],
   "source": [
    "\"\"\"\n",
    "Contains even numbers\n",
    "\"\"\"\n",
    "even = lambda x : x % 2 == 0\n",
    "print(any(filter(even, [1, 7])))\n",
    "print(any(filter(even, [1, 7, 4])))\n",
    "print(any(filter(even, [1, 7, 4, 6])))\n",
    "\n",
    "any(filter(even, nums))"
   ]
  },
  {
   "cell_type": "code",
   "execution_count": 67,
   "metadata": {},
   "outputs": [
    {
     "data": {
      "text/plain": [
       "True"
      ]
     },
     "execution_count": 67,
     "metadata": {},
     "output_type": "execute_result"
    }
   ],
   "source": [
    "\"\"\"\n",
    "All positive\n",
    "\"\"\"\n",
    "positive = lambda x : x > 0\n",
    "any(filter(positive, nums))"
   ]
  },
  {
   "cell_type": "markdown",
   "metadata": {},
   "source": [
    "### Students"
   ]
  },
  {
   "cell_type": "code",
   "execution_count": 293,
   "metadata": {},
   "outputs": [
    {
     "data": {
      "text/plain": [
       "[Student(name='John', age='16', gender='male', grades=[5, 5, 4, 2]),\n",
       " Student(name='Jane', age='15', gender='female', grades=[4, 3, 4, 4, 5]),\n",
       " Student(name='Bob', age='17', gender='male', grades=[2, 2, 3, 1]),\n",
       " Student(name='Alice', age='16', gender='female', grades=[4, 5, 5, 4]),\n",
       " Student(name='Mia', age='14', gender='female', grades=[3, 3, 4, 4, 5])]"
      ]
     },
     "execution_count": 293,
     "metadata": {},
     "output_type": "execute_result"
    }
   ],
   "source": [
    "Student = namedtuple('Student', 'name age gender grades')\n",
    "john = Student('John', '16', 'male', [5, 5, 4, 2])\n",
    "jane = Student('Jane', '15', 'female', [4, 3, 4, 4, 5])\n",
    "bob = Student('Bob', '17', 'male', [2, 2, 3, 1])\n",
    "alice = Student('Alice', '16', 'female', [4, 5, 5, 4])\n",
    "mia = Student('Mia', '14', 'female', [3, 3, 4, 4, 5])\n",
    "\n",
    "students = [john, jane, bob, alice, mia]\n",
    "students"
   ]
  },
  {
   "cell_type": "code",
   "execution_count": 294,
   "metadata": {},
   "outputs": [
    {
     "data": {
      "text/plain": [
       "[Student(name='John', age='16', gender='male', grades=[5, 5, 4, 2]),\n",
       " Student(name='Bob', age='17', gender='male', grades=[2, 2, 3, 1])]"
      ]
     },
     "execution_count": 294,
     "metadata": {},
     "output_type": "execute_result"
    }
   ],
   "source": [
    "\"\"\"\n",
    "1. only includes the boys\n",
    "\"\"\"\n",
    "male = lambda x : x.gender == 'male'\n",
    "list(filter(male, students))"
   ]
  },
  {
   "cell_type": "code",
   "execution_count": 295,
   "metadata": {},
   "outputs": [
    {
     "data": {
      "text/plain": [
       "[Student(name='John', age='16', gender='male', grades=[5, 5, 4, 2]),\n",
       " Student(name='Jane', age='15', gender='female', grades=[4, 3, 4, 4, 5])]"
      ]
     },
     "execution_count": 295,
     "metadata": {},
     "output_type": "execute_result"
    }
   ],
   "source": [
    "\"\"\"\n",
    "2. only includes who's name starts with the letter J\n",
    "\"\"\"\n",
    "name_start_letter_J = lambda x : x.name[0] == 'J'\n",
    "list(filter(name_start_letter_J, students))"
   ]
  },
  {
   "cell_type": "code",
   "execution_count": 296,
   "metadata": {},
   "outputs": [
    {
     "data": {
      "text/plain": [
       "[Student(name='Jane', age='15', gender='female', grades=[4, 3, 4, 4, 5]),\n",
       " Student(name='Alice', age='16', gender='female', grades=[4, 5, 5, 4]),\n",
       " Student(name='Mia', age='14', gender='female', grades=[3, 3, 4, 4, 5])]"
      ]
     },
     "execution_count": 296,
     "metadata": {},
     "output_type": "execute_result"
    }
   ],
   "source": [
    "\"\"\"\n",
    "3. only includes the girls\n",
    "\"\"\"\n",
    "female = lambda x : x.gender == 'female'\n",
    "list(filter(female, students))"
   ]
  },
  {
   "cell_type": "code",
   "execution_count": 426,
   "metadata": {},
   "outputs": [
    {
     "data": {
      "text/plain": [
       "[Student(name='Alice', age='16', gender='female', grades=[4, 5, 5, 4])]"
      ]
     },
     "execution_count": 426,
     "metadata": {},
     "output_type": "execute_result"
    }
   ],
   "source": [
    "\"\"\"\"\n",
    "4. the girls who's grade average is above 4\n",
    "\"\"\"\n",
    "def girl(student):\n",
    "    return student.gender == 'female'\n",
    "\n",
    "def avg_grades(grades):\n",
    "    sum_num = lambda x, y : x + y\n",
    "    return reduce(sum_num, grades) / reduce(sum_num, map(lambda grade_count : 1, grades))\n",
    "\n",
    "def above_4(avg_grades):\n",
    "    return avg_grades > 4\n",
    "\n",
    "grade = lambda student : student.grades\n",
    "above_4 = lambda avg_grade : avg_grade > 4\n",
    "\n",
    "girls_avg_grades_above_4 = filter(lambda student : girl(student)\n",
    "                                      and above_4(avg_grades(student.grades)), students)\n",
    "list(girls_avg_grades_above_4)"
   ]
  },
  {
   "cell_type": "code",
   "execution_count": 433,
   "metadata": {},
   "outputs": [
    {
     "data": {
      "text/plain": [
       "[Student(name='John', age='16', gender='male', grades=[5, 5, 4, 2]),\n",
       " Student(name='Alice', age='16', gender='female', grades=[4, 5, 5, 4])]"
      ]
     },
     "execution_count": 433,
     "metadata": {},
     "output_type": "execute_result"
    }
   ],
   "source": [
    "\"\"\"\n",
    "5. who's at leat two 5s\n",
    "\"\"\"\n",
    "def grade_len(grades):\n",
    "    sum_num = lambda x, y : x + y\n",
    "    return reduce(sum_num, map(lambda grade_count : 1, grades), 0)\n",
    "\n",
    "def grade_count_not_less_2(grades_len):\n",
    "    return grades_len >= 2\n",
    "\n",
    "def grades_equal_5(grades):\n",
    "    return filter(lambda grade : grade == 5, grades)\n",
    "\n",
    "got_2_5s = filter(lambda student : grade_count_not_less_2(grade_len(grades_equal_5(student.grades))) ,students)\n",
    "list(got_2_5s)"
   ]
  },
  {
   "cell_type": "code",
   "execution_count": 437,
   "metadata": {},
   "outputs": [
    {
     "data": {
      "text/plain": [
       "[Student(name='Alice', age='16', gender='female', grades=[4, 5, 5, 4])]"
      ]
     },
     "execution_count": 437,
     "metadata": {},
     "output_type": "execute_result"
    }
   ],
   "source": [
    "\"\"\"\n",
    "6. who's grade average is above 4 and at least got two 5s\n",
    "\"\"\"\n",
    "\n",
    "# Based on functions of 4th and 5th.\n",
    "list(filter(lambda student : grade_count_not_less_2(grade_len(grades_equal_5(student.grades))) and \n",
    "                               above_4(avg_grades(student.grades)), \n",
    "                    students))"
   ]
  },
  {
   "cell_type": "code",
   "execution_count": null,
   "metadata": {},
   "outputs": [],
   "source": []
  },
  {
   "cell_type": "code",
   "execution_count": 348,
   "metadata": {},
   "outputs": [
    {
     "data": {
      "text/plain": [
       "[1, 4, 9]"
      ]
     },
     "execution_count": 348,
     "metadata": {},
     "output_type": "execute_result"
    }
   ],
   "source": [
    "\"\"\"\n",
    "Foreach\n",
    "\"\"\"\n",
    "def foreach(iterable, func):\n",
    "    for i in iterable:\n",
    "        yield func(i)\n",
    "        \n",
    "def power(n):\n",
    "    return n ** 2\n",
    "\n",
    "test_nums = [1, 2, 3]\n",
    "list(foreach(test_nums, power))"
   ]
  },
  {
   "cell_type": "code",
   "execution_count": 366,
   "metadata": {},
   "outputs": [
    {
     "data": {
      "text/plain": [
       "[2, 3, 4]"
      ]
     },
     "execution_count": 366,
     "metadata": {},
     "output_type": "execute_result"
    }
   ],
   "source": [
    "\"\"\"\n",
    "Map\n",
    "\"\"\"\n",
    "def my_map(func, iterable):\n",
    "    for i in iterable:\n",
    "        yield func(i)\n",
    "\n",
    "# list(my_map(lambda x : x + 1, [1, 2, 3]))\n",
    "list(map(lambda x : x + 1, [1, 2, 3]))"
   ]
  },
  {
   "cell_type": "code",
   "execution_count": 367,
   "metadata": {},
   "outputs": [
    {
     "data": {
      "text/plain": [
       "[1, 2]"
      ]
     },
     "execution_count": 367,
     "metadata": {},
     "output_type": "execute_result"
    }
   ],
   "source": [
    "\"\"\"\n",
    "Filter\n",
    "\"\"\"\n",
    "def my_filter(func, iterable):\n",
    "    for item in iterable:\n",
    "        if func(item):\n",
    "            yield item\n",
    "            \n",
    "list(my_filter(lambda x : x < 3, [1, 2, 3, 4, 5]))"
   ]
  },
  {
   "cell_type": "code",
   "execution_count": 456,
   "metadata": {
    "collapsed": true
   },
   "outputs": [
    {
     "name": "stdout",
     "output_type": "stream",
     "text": [
      "1\n",
      "2\n",
      "Fizz\n",
      "4\n",
      "Buzz\n",
      "Fizz\n",
      "7\n",
      "8\n",
      "Fizz\n",
      "Buzz\n",
      "11\n",
      "Fizz\n",
      "13\n",
      "14\n",
      "Fizz Buzz\n",
      "16\n"
     ]
    }
   ],
   "source": [
    "def fizz_buzz():\n",
    "    i = 1\n",
    "    while True:\n",
    "        if (i % 3 == 0) and (i % 5 != 0):\n",
    "            yield 'Fizz'\n",
    "        elif (i % 3 != 0 ) and (i % 5 == 0):\n",
    "            yield 'Buzz'\n",
    "        elif (i % 3 == 0) and (i % 5 == 0):\n",
    "            yield 'Fizz Buzz'\n",
    "        else:\n",
    "            yield i\n",
    "        i = i + 1\n",
    "        \n",
    "g_fizz_buzz = fizz_buzz()\n",
    "for _ in range(16):\n",
    "    print(next(g_fizz_buzz))"
   ]
  },
  {
   "cell_type": "code",
   "execution_count": 474,
   "metadata": {},
   "outputs": [
    {
     "name": "stdout",
     "output_type": "stream",
     "text": [
      "0\n",
      "1\n",
      "1\n",
      "2\n",
      "3\n",
      "5\n",
      "8\n"
     ]
    }
   ],
   "source": [
    "\"\"\"\n",
    "Fibonacci generator\n",
    "\"\"\"\n",
    "def fibonacci():\n",
    "    F_1, F_2 = 0, 1\n",
    "    while True:\n",
    "        yield F_1\n",
    "        F_1, F_2 = F_2, F_1 + F_2\n",
    "            \n",
    "g_fibonacci = fibonacci()\n",
    "for _ in range(7):\n",
    "    print(next(g_fibonacci))"
   ]
  },
  {
   "cell_type": "code",
   "execution_count": null,
   "metadata": {},
   "outputs": [],
   "source": []
  }
 ],
 "metadata": {
  "kernelspec": {
   "display_name": "Python 3",
   "language": "python",
   "name": "python3"
  },
  "language_info": {
   "codemirror_mode": {
    "name": "ipython",
    "version": 3
   },
   "file_extension": ".py",
   "mimetype": "text/x-python",
   "name": "python",
   "nbconvert_exporter": "python",
   "pygments_lexer": "ipython3",
   "version": "3.7.3"
  },
  "varInspector": {
   "cols": {
    "lenName": 16,
    "lenType": 16,
    "lenVar": 40
   },
   "kernels_config": {
    "python": {
     "delete_cmd_postfix": "",
     "delete_cmd_prefix": "del ",
     "library": "var_list.py",
     "varRefreshCmd": "print(var_dic_list())"
    },
    "r": {
     "delete_cmd_postfix": ") ",
     "delete_cmd_prefix": "rm(",
     "library": "var_list.r",
     "varRefreshCmd": "cat(var_dic_list()) "
    }
   },
   "types_to_exclude": [
    "module",
    "function",
    "builtin_function_or_method",
    "instance",
    "_Feature"
   ],
   "window_display": false
  }
 },
 "nbformat": 4,
 "nbformat_minor": 2
}
