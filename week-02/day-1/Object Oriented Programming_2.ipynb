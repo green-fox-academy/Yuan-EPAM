{
 "cells": [
  {
   "cell_type": "markdown",
   "metadata": {},
   "source": [
    "### Altogether"
   ]
  },
  {
   "cell_type": "code",
   "execution_count": 6,
   "metadata": {},
   "outputs": [
    {
     "data": {
      "text/plain": [
       "'\\nPirates\\n'"
      ]
     },
     "execution_count": 6,
     "metadata": {},
     "output_type": "execute_result"
    }
   ],
   "source": [
    "\"\"\"\n",
    "Pirates\n",
    "\"\"\""
   ]
  },
  {
   "cell_type": "code",
   "execution_count": 7,
   "metadata": {},
   "outputs": [],
   "source": [
    "import random"
   ]
  },
  {
   "cell_type": "code",
   "execution_count": 185,
   "metadata": {},
   "outputs": [
    {
     "name": "stdout",
     "output_type": "stream",
     "text": [
      "Tony: Ya! Rum is good!\n",
      "Tony: Ya! Rum is good!\n",
      "Tony: Ya! Rum is good!\n",
      "Tony: Ya! Rum is good!\n",
      "blood_vol: 6 drink_time: 4\n",
      "Pour me an udder!\n",
      "Tony: Ya! Rum is good!\n",
      "Tony status: passed out\n",
      "blood_vol: 5 drink_time: 5\n",
      "Arghh, I'm a Pirate. How d'ya d'ink its goin?\n",
      "Tony: Ya! Rum is good!\n",
      "Tony status: passed out\n"
     ]
    }
   ],
   "source": [
    "class Pirate:\n",
    "    def __init__(self, name, drink_time = 0, blood_vol = 10, status= 'alive'):\n",
    "        self._name = name\n",
    "        self._drink_time = drink_time\n",
    "        self._blood_vol = blood_vol\n",
    "        self._status = status\n",
    "        \n",
    "    @property\n",
    "    def blood_vol(self):\n",
    "#         print(f'{self._name} has {self._blood_vol} blood')\n",
    "        return self._blood_vol\n",
    "    \n",
    "    @blood_vol.setter\n",
    "    def blood_vol(self, new_blood):\n",
    "        self._blood_vol = new_blood\n",
    "#         print(f'{self._name} has {self._blood_vol} blood now')\n",
    "        if self._blood_vol <= 0:\n",
    "            print(f'{self._name} has died')\n",
    "            self._status = 'died'\n",
    "        \n",
    "    @property\n",
    "    def status(self):\n",
    "        return self._status\n",
    "    \n",
    "    @status.setter\n",
    "    def status(self, new_status):\n",
    "        self._status = new_status\n",
    "        print(f'{self._name} status: {self._status}')\n",
    "        \n",
    "    @property\n",
    "    def drink_time(self):\n",
    "        return self._drink_time\n",
    "    \n",
    "    @drink_time.setter\n",
    "    def drink_time(self, new_drink_time):\n",
    "        self._drink_time = new_drink_time\n",
    "    \n",
    "    def drink_some_rum(self):\n",
    "        if self._blood_vol:\n",
    "            print(f'{self._name}: Ya! Rum is good!')\n",
    "            self._drink_time += 1\n",
    "            self._blood_vol -= 1\n",
    "            if self.drink_time > 4:\n",
    "                self.status = 'passed out'\n",
    "        else:\n",
    "            print(f\"{self._name} I am a dead man, I can't drink anymore...\")\n",
    "            self.status = 'died'\n",
    "        \n",
    "    def hows_it_going_mate(self):\n",
    "        print(f'blood_vol: {self.blood_vol} drink_time: {self.drink_time}')\n",
    "        if self.blood_vol:\n",
    "            if (self.drink_time >= 0) and (self.drink_time <= 4):\n",
    "                print('Pour me an udder!')\n",
    "            elif self.drink_time > 4:\n",
    "                print(\"Arghh, I'm a Pirate. How d'ya d'ink its goin?\")\n",
    "            \n",
    "    def brawl(self, another_pirate):\n",
    "        if self._blood_vol and another_pirate.blood_vol:\n",
    "            print('Pirates time!')\n",
    "            brawl_result = random.randint(0, 2)\n",
    "            print(f'The brawl result: {brawl_result}')\n",
    "            if brawl_result == 0:\n",
    "                self.blood_vol = 0\n",
    "            elif brawl_result == 1:\n",
    "                another_pirate.blood_vol = 0\n",
    "            else:\n",
    "                self.status = \"passed out\"\n",
    "                another_pirate.status = \"passed out\"\n",
    "                \n",
    "\n",
    "pirate_A = Pirate(name= 'Tony')\n",
    "pirate_B = Pirate(name= 'Mike')\n",
    "pirate_A.drink_some_rum()\n",
    "pirate_A.drink_some_rum()\n",
    "pirate_A.drink_some_rum()\n",
    "pirate_A.drink_some_rum()\n",
    "pirate_A.hows_it_going_mate()\n",
    "pirate_A.drink_some_rum()\n",
    "pirate_A.hows_it_going_mate()\n",
    "pirate_A.drink_some_rum()"
   ]
  },
  {
   "cell_type": "code",
   "execution_count": 161,
   "metadata": {},
   "outputs": [
    {
     "name": "stdout",
     "output_type": "stream",
     "text": [
      "Pirates time!\n",
      "The brawl result: 2\n",
      "Tony status: passed out\n",
      "Mike status: passed out\n"
     ]
    }
   ],
   "source": [
    "pirate_A.brawl(pirate_B)"
   ]
  },
  {
   "cell_type": "code",
   "execution_count": 163,
   "metadata": {},
   "outputs": [
    {
     "name": "stdout",
     "output_type": "stream",
     "text": [
      "Pirates time!\n",
      "The brawl result: 0\n",
      "Tony has died\n"
     ]
    }
   ],
   "source": [
    "pirate_A.brawl(pirate_B)"
   ]
  },
  {
   "cell_type": "markdown",
   "metadata": {},
   "source": [
    "### The Pirate Ship"
   ]
  },
  {
   "cell_type": "code",
   "execution_count": 240,
   "metadata": {},
   "outputs": [],
   "source": [
    "class Ship:\n",
    "    def __init__(self, name= 'Black Pearl'):\n",
    "        self._name = name\n",
    "        self._crews = []\n",
    "        self._captain = None  \n",
    "        self._alive_count = 0\n",
    "        self._fight_socre = 0\n",
    "        self._party = False\n",
    "        self._battle_win = None\n",
    "        print(f'{self._name} ship!!!')\n",
    "        \n",
    "    def fill_ship(self, pirate):\n",
    "        self._crews.append(pirate)\n",
    "        print(f'Welcome aboard pirate {pirate._name}')\n",
    "    \n",
    "    @property\n",
    "    def crews(self):\n",
    "        print('crews...')\n",
    "        return self._crews\n",
    "        \n",
    "    @property\n",
    "    def captain(self):\n",
    "        return self._captain\n",
    "        \n",
    "    @captain.setter\n",
    "    def captain(self, crew_id):\n",
    "        self._captain = self._crews[crew_id]\n",
    "        print(f'Captain, oh my Captain: {self._captain._name}')\n",
    "        \n",
    "    @property\n",
    "    def battle_win(self):\n",
    "        return self._battle_win\n",
    "    \n",
    "    @battle_win.setter\n",
    "    def battle_win(self, battle_result):\n",
    "        self._battle_win = battle_result\n",
    "        \n",
    "    def count_crew_alive(self):\n",
    "        self._alive_count = 0\n",
    "        if len(self._crews) <= 0:\n",
    "            print('Nobody is alive because this ship has no crew!')\n",
    "        for crew in self._crews:\n",
    "            if crew._status != 'died':\n",
    "#                 print('oh, got one alive')\n",
    "                self._alive_count += 1\n",
    "                \n",
    "    def __str__(self):\n",
    "        self.count_crew_alive()\n",
    "        res_head = '-' * 50 + '\\n'\n",
    "        res_tail = '-' * 50\n",
    "        res_alive_crew = f'* alive pirate: {self._alive_count} \\n' \n",
    "        if not self._captain:\n",
    "            return res_head + res_alive_crew + res_tail\n",
    "        res_captain = f'* The captain {self._captain._name}captain drinked rum: {self._captain.drink_time} \\n'\n",
    "        return res_head + res_captain +res_alive_crew + res_tail\n",
    "    \n",
    "    def cal_fight_socre(self):\n",
    "        self.count_crew_alive()\n",
    "        self._fight_score = self._alive_count - self._captain.drink_time\n",
    "        print(f'{self._name} fight score: {self._fight_score}')\n",
    "    \n",
    "    def battle(self, other_ship):\n",
    "        if self._fight_score > other_ship._fight_score:\n",
    "            self.has_party()\n",
    "            self._battle_win = True\n",
    "            other_ship.battle_win = False\n",
    "            return True\n",
    "        else:\n",
    "            self._battle_win = False\n",
    "            other_ship.battle_win = True\n",
    "        \n",
    "    def cal_battle_lost(self):\n",
    "        print(f'battle result win? {self._battle_win}')\n",
    "        if self._battle_win == False:\n",
    "            death_num = random.randint(0, len(self._crews))\n",
    "            print(f'died {death_num} people')\n",
    "            for i in range(death_num):\n",
    "                death_crew_id = random.randint(0, len(self._crews) - 1)\n",
    "                self._crews[death_crew_id]._status = 'died'\n",
    "                print(f'{self._crews[death_crew_id]._name} has gone. {self._crews[death_crew_id]._status}')\n",
    "        else:\n",
    "            print('Won! No need to cal lost!')\n",
    "        self._battle_win = None\n",
    "\n",
    "    def has_party(self):\n",
    "        print('*'*20 + 'PARTY TIME! DRINK!!!' + '*'*20)\n",
    "        for crew in self._crews:\n",
    "            if crew.status == 'alive':\n",
    "                rum_nums = random.randint(0, crew.blood_vol // 2)\n",
    "                while (crew.status == 'alive') and (rum_nums):\n",
    "                    crew.drink_some_rum()\n",
    "                    print(f'{crew._name} drink time: {crew.drink_time}')\n",
    "                    rum_nums -= 1\n"
   ]
  },
  {
   "cell_type": "markdown",
   "metadata": {},
   "source": [
    "### BattleApp"
   ]
  },
  {
   "cell_type": "code",
   "execution_count": 241,
   "metadata": {},
   "outputs": [
    {
     "name": "stdout",
     "output_type": "stream",
     "text": [
      "Black Pearl ship!!!\n",
      "Welcome aboard pirate aA\n",
      "Welcome aboard pirate aB\n",
      "Welcome aboard pirate Jack\n",
      "Welcome aboard pirate aD\n",
      "Welcome aboard pirate aE\n",
      "Welcome aboard pirate aF\n",
      "Captain, oh my Captain: Jack\n",
      "Black Pearl fight score: 6\n",
      "--------------------------------------------------\n",
      "* The captain Jackcaptain drinked rum: 0 \n",
      "* alive pirate: 6 \n",
      "--------------------------------------------------\n"
     ]
    }
   ],
   "source": [
    "ship_a = Ship()\n",
    "\n",
    "ship_a.fill_ship(Pirate('aA'))\n",
    "ship_a.fill_ship(Pirate('aB'))\n",
    "ship_a.fill_ship(Pirate('Jack'))\n",
    "ship_a.fill_ship(Pirate('aD'))\n",
    "ship_a.fill_ship(Pirate('aE'))\n",
    "ship_a.fill_ship(Pirate('aF'))\n",
    "ship_a.captain = 2\n",
    "ship_a.cal_fight_socre()\n",
    "print(ship_a)"
   ]
  },
  {
   "cell_type": "code",
   "execution_count": 242,
   "metadata": {},
   "outputs": [
    {
     "name": "stdout",
     "output_type": "stream",
     "text": [
      "anti Black Pearl ship!!!\n",
      "Welcome aboard pirate bA\n",
      "Welcome aboard pirate bB\n",
      "Welcome aboard pirate bC\n",
      "Welcome aboard pirate bD\n",
      "Welcome aboard pirate bE\n",
      "Welcome aboard pirate bF\n",
      "Captain, oh my Captain: bD\n",
      "bD: Ya! Rum is good!\n",
      "bD: Ya! Rum is good!\n",
      "anti Black Pearl fight score: 4\n",
      "--------------------------------------------------\n",
      "* The captain bDcaptain drinked rum: 2 \n",
      "* alive pirate: 6 \n",
      "--------------------------------------------------\n"
     ]
    }
   ],
   "source": [
    "ship_b = Ship(name= \"anti Black Pearl\")\n",
    "ship_b.fill_ship(Pirate('bA'))\n",
    "ship_b.fill_ship(Pirate('bB'))\n",
    "ship_b.fill_ship(Pirate('bC'))\n",
    "ship_b.fill_ship(Pirate('bD'))\n",
    "ship_b.fill_ship(Pirate('bE'))\n",
    "ship_b.fill_ship(Pirate('bF'))\n",
    "ship_b.captain = 3\n",
    "ship_b.captain.drink_some_rum()\n",
    "ship_b.captain.drink_some_rum()\n",
    "ship_b.cal_fight_socre()\n",
    "print(ship_b)"
   ]
  },
  {
   "cell_type": "code",
   "execution_count": 243,
   "metadata": {},
   "outputs": [
    {
     "name": "stdout",
     "output_type": "stream",
     "text": [
      "********************PARTY TIME! DRINK!!!********************\n",
      "aA: Ya! Rum is good!\n",
      "aA drink time: 1\n",
      "aA: Ya! Rum is good!\n",
      "aA drink time: 2\n",
      "aA: Ya! Rum is good!\n",
      "aA drink time: 3\n",
      "aB: Ya! Rum is good!\n",
      "aB drink time: 1\n",
      "Jack: Ya! Rum is good!\n",
      "Jack drink time: 1\n",
      "Jack: Ya! Rum is good!\n",
      "Jack drink time: 2\n",
      "Jack: Ya! Rum is good!\n",
      "Jack drink time: 3\n",
      "Jack: Ya! Rum is good!\n",
      "Jack drink time: 4\n",
      "aD: Ya! Rum is good!\n",
      "aD drink time: 1\n",
      "aD: Ya! Rum is good!\n",
      "aD drink time: 2\n",
      "aE: Ya! Rum is good!\n",
      "aE drink time: 1\n",
      "aE: Ya! Rum is good!\n",
      "aE drink time: 2\n",
      "aE: Ya! Rum is good!\n",
      "aE drink time: 3\n",
      "aF: Ya! Rum is good!\n",
      "aF drink time: 1\n",
      "aF: Ya! Rum is good!\n",
      "aF drink time: 2\n",
      "aF: Ya! Rum is good!\n",
      "aF drink time: 3\n",
      "aF: Ya! Rum is good!\n",
      "aF drink time: 4\n",
      "aF: Ya! Rum is good!\n",
      "aF status: passed out\n",
      "aF drink time: 5\n"
     ]
    }
   ],
   "source": [
    "battle_win = ship_a.battle(ship_b)"
   ]
  },
  {
   "cell_type": "code",
   "execution_count": 244,
   "metadata": {},
   "outputs": [
    {
     "name": "stdout",
     "output_type": "stream",
     "text": [
      "battle result win? True\n",
      "Won! No need to cal lost!\n"
     ]
    }
   ],
   "source": [
    "ship_a.cal_battle_lost()"
   ]
  },
  {
   "cell_type": "code",
   "execution_count": 245,
   "metadata": {},
   "outputs": [
    {
     "name": "stdout",
     "output_type": "stream",
     "text": [
      "battle result win? False\n",
      "died 3 people\n",
      "bC has gone. died\n",
      "bB has gone. died\n",
      "bF has gone. died\n"
     ]
    }
   ],
   "source": [
    "ship_b.cal_battle_lost()"
   ]
  },
  {
   "cell_type": "code",
   "execution_count": 246,
   "metadata": {},
   "outputs": [
    {
     "name": "stdout",
     "output_type": "stream",
     "text": [
      "--------------------------------------------------\n",
      "* The captain Jackcaptain drinked rum: 4 \n",
      "* alive pirate: 6 \n",
      "--------------------------------------------------\n",
      "--------------------------------------------------\n",
      "* The captain bDcaptain drinked rum: 2 \n",
      "* alive pirate: 3 \n",
      "--------------------------------------------------\n"
     ]
    }
   ],
   "source": [
    "print(ship_a)\n",
    "print(ship_b)"
   ]
  }
 ],
 "metadata": {
  "kernelspec": {
   "display_name": "Python 3",
   "language": "python",
   "name": "python3"
  },
  "language_info": {
   "codemirror_mode": {
    "name": "ipython",
    "version": 3
   },
   "file_extension": ".py",
   "mimetype": "text/x-python",
   "name": "python",
   "nbconvert_exporter": "python",
   "pygments_lexer": "ipython3",
   "version": "3.7.3"
  }
 },
 "nbformat": 4,
 "nbformat_minor": 2
}
