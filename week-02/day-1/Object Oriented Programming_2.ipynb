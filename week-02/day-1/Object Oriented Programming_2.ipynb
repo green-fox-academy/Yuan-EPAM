{
 "cells": [
  {
   "cell_type": "markdown",
   "metadata": {},
   "source": [
    "### Altogether"
   ]
  },
  {
   "cell_type": "code",
   "execution_count": null,
   "metadata": {},
   "outputs": [],
   "source": [
    "\"\"\"\n",
    "Pirates\n",
    "\"\"\""
   ]
  },
  {
   "cell_type": "code",
   "execution_count": 1,
   "metadata": {},
   "outputs": [],
   "source": [
    "import random"
   ]
  },
  {
   "cell_type": "code",
   "execution_count": 38,
   "metadata": {},
   "outputs": [
    {
     "name": "stdout",
     "output_type": "stream",
     "text": [
      "Ya! Rum is good!\n",
      "Ya! Rum is good!\n",
      "Ya! Rum is good!\n",
      "Ya! Rum is good!\n",
      "Pour me an udder!\n",
      "Ya! Rum is good!\n",
      "Arghh, I'm a Pirate. How d'ya d'ink its goin?\n",
      "Ya! Rum is good!\n"
     ]
    }
   ],
   "source": [
    "class Pirate:\n",
    "    def __init__(self, name, drink_time = 0, blood_vol = 10, is_sleep = False):\n",
    "        self._name = name\n",
    "        self._drink_time = drink_time\n",
    "        self._blood_vol = blood_vol\n",
    "        self._is_sleep = is_sleep\n",
    "        \n",
    "    @property\n",
    "    def blood_vol(self):\n",
    "        print(f'{self._name} has {self._blood_vol} blood')\n",
    "        return self._blood_vol\n",
    "    \n",
    "    @blood_vol.setter\n",
    "    def blood_vol(self, hurt = 1):\n",
    "        self._blood_vol -= hurt\n",
    "        print(f'{self._name} lost {hurt} blood')\n",
    "        self.die()\n",
    "        \n",
    "    @property\n",
    "    def is_sleep(self):\n",
    "        print(f'Tell me! Am I sleeping? {self._is_sleep}!')\n",
    "        return self._is_sleep\n",
    "    \n",
    "    @is_sleep.setter\n",
    "    def is_sleep(self, to_sleep):\n",
    "        self._is_sleep = to_sleep\n",
    "        print(f'Tell me! Am I, {self._name}, sleeping? {self._is_sleep}!')\n",
    "    \n",
    "    def drink_some_rum(self):\n",
    "        if self._blood_vol:\n",
    "            print('Ya! Rum is good!')\n",
    "            self._drink_time += 1\n",
    "            self._blood_vol -= 1\n",
    "        else:\n",
    "            print(\"I am a dead man, I can't drink anymore...\")\n",
    "        \n",
    "    def hows_it_going_mate(self):\n",
    "        if self._blood_vol:\n",
    "            if (self._drink_time >= 0) and (self._drink_time <= 4):\n",
    "                print('Pour me an udder!')\n",
    "            elif self._drink_time > 4:\n",
    "                print(\"Arghh, I'm a Pirate. How d'ya d'ink its goin?\")\n",
    "    \n",
    "    def die(self):\n",
    "        if self._blood_vol <= 0:\n",
    "            print('The pirate is dead!')\n",
    "            \n",
    "    def brawl(self, another_pirate):\n",
    "        if self._blood_vol and another_pirate.blood_vol:\n",
    "            print('Pirates time!')\n",
    "            brawl_result = random.randint(0, 2)\n",
    "            print(f'The brawl result: {brawl_result}')\n",
    "            if brawl_result == 0:\n",
    "                self.blood_vol = 0\n",
    "            elif brawl_result == 1:\n",
    "                another_pirate.blood_vol = 0\n",
    "            else:\n",
    "                self._is_sleep = True\n",
    "                another_pirate.is_sleep = True\n",
    "                \n",
    "\n",
    "pirate_A = Pirate(name= 'Tony')\n",
    "pirate_B = Pirate(name= 'Mike')\n",
    "pirate_A.drink_some_rum()\n",
    "pirate_A.drink_some_rum()\n",
    "pirate_A.drink_some_rum()\n",
    "pirate_A.drink_some_rum()\n",
    "pirate_A.hows_it_going_mate()\n",
    "pirate_A.drink_some_rum()\n",
    "pirate_A.hows_it_going_mate()\n",
    "pirate_A.drink_some_rum()"
   ]
  },
  {
   "cell_type": "code",
   "execution_count": 34,
   "metadata": {},
   "outputs": [
    {
     "name": "stdout",
     "output_type": "stream",
     "text": [
      "Mike has 10 blood\n",
      "Pirates time!\n",
      "The brawl result: 0\n",
      "Tony lost 0 blood\n"
     ]
    }
   ],
   "source": [
    "pirate_A.brawl(pirate_B)"
   ]
  },
  {
   "cell_type": "code",
   "execution_count": 35,
   "metadata": {},
   "outputs": [
    {
     "name": "stdout",
     "output_type": "stream",
     "text": [
      "Mike has 10 blood\n",
      "Pirates time!\n",
      "The brawl result: 1\n",
      "Mike lost 0 blood\n"
     ]
    }
   ],
   "source": [
    "pirate_A.brawl(pirate_B)"
   ]
  }
 ],
 "metadata": {
  "kernelspec": {
   "display_name": "Python 3",
   "language": "python",
   "name": "python3"
  },
  "language_info": {
   "codemirror_mode": {
    "name": "ipython",
    "version": 3
   },
   "file_extension": ".py",
   "mimetype": "text/x-python",
   "name": "python",
   "nbconvert_exporter": "python",
   "pygments_lexer": "ipython3",
   "version": "3.7.3"
  }
 },
 "nbformat": 4,
 "nbformat_minor": 2
}
