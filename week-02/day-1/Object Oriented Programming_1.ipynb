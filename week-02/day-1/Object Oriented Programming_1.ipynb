{
 "cells": [
  {
   "cell_type": "markdown",
   "metadata": {},
   "source": [
    "### Classes as Data Structure"
   ]
  },
  {
   "cell_type": "code",
   "execution_count": 4,
   "metadata": {},
   "outputs": [],
   "source": [
    "import re"
   ]
  },
  {
   "cell_type": "code",
   "execution_count": 1,
   "metadata": {},
   "outputs": [
    {
     "name": "stdout",
     "output_type": "stream",
     "text": [
      "background_color: orange, text: Idea 1, text_color: blue\n",
      "background_color: pink, text: Awesome, text_color: black\n",
      "background_color: yellow, text: Superb!, text_color: green\n"
     ]
    }
   ],
   "source": [
    "\"\"\"\n",
    "Post-it\n",
    "\"\"\"\n",
    "\n",
    "class PostIt:\n",
    "    def __init__(self, background_color, text, text_color):\n",
    "        self._background_color = background_color\n",
    "        self._text = text\n",
    "        self._text_color = text_color\n",
    "        print(f'background_color: {background_color}, text: {text}, text_color: {text_color}')\n",
    "        \n",
    "\n",
    "post1 = PostIt('orange', 'Idea 1', 'blue')\n",
    "post2 = PostIt('pink', 'Awesome', 'black')\n",
    "post3 = PostIt('yellow', 'Superb!', 'green')"
   ]
  },
  {
   "cell_type": "code",
   "execution_count": 155,
   "metadata": {},
   "outputs": [],
   "source": [
    "\"\"\"\n",
    "BlogPost\n",
    "\"\"\"\n",
    "\n",
    "class BlogPost:\n",
    "    def __init__(self, author_name, title, text, publication_date):\n",
    "        self._author_name = author_name\n",
    "        self._title = title\n",
    "        self._text = text\n",
    "        self._publication_date = publication_date\n",
    "        print(f'author name: {self._author_name}, \\ntitle: {self._title}, \\ntext: {self._text}, \\npublication_date: {self._publication_date}')\n"
   ]
  },
  {
   "cell_type": "code",
   "execution_count": 156,
   "metadata": {},
   "outputs": [],
   "source": [
    "context1 = '\"Lorem Ipsum\" titled by John Doe posted at \"2000.05.04.\"   - Lorem ipsum dolor sit amet.'\n",
    "context2 = '\"Wait but why\" titled by Tim Urban posted at \"2010.10.10.\" - A popular long-form, stick-figure-illustrated blog about almost everything.'\n",
    "context3 = '\"One Engineer Is Trying to Get IBM to Reckon With Trump\" titled by William Turton at \"2017.03.28.\" -Daniel Hanley, a cybersecurity engineer at IBM...'"
   ]
  },
  {
   "cell_type": "code",
   "execution_count": 158,
   "metadata": {},
   "outputs": [
    {
     "name": "stdout",
     "output_type": "stream",
     "text": [
      "creating a new post...********************\n",
      "author name: Lorem Ipsum, \n",
      "title: Lorem Ipsum, \n",
      "text: Lorem ipsum dolor sit amet., \n",
      "publication_date: 2000.05.04.\n",
      "\n",
      "creating a new post...********************\n",
      "author name: Wait but why, \n",
      "title: Wait but why, \n",
      "text: A popular long-form, stick-figure-illustrated blog about almost everything., \n",
      "publication_date: 2010.10.10.\n",
      "\n",
      "creating a new post...********************\n",
      "author name: One Engineer Is Trying to Get IBM to Reckon With Trump, \n",
      "title: One Engineer Is Trying to Get IBM to Reckon With Trump, \n",
      "text: Daniel Hanley, a cybersecurity engineer at IBM..., \n",
      "publication_date: 2017.03.28.\n",
      "\n"
     ]
    }
   ],
   "source": [
    "def extract_info(context):\n",
    "    post_head = ['author_name', 'title', 'text', 'publication_date']\n",
    "    post_extraction = dict().fromkeys(post_head)\n",
    "    p = r'^\"([0-9a-zA-Z_\\s.]+)\"\\s+titled\\s+by\\s+([a-zA-Z\\-_\\s]+)\\s*(posted)?\\sat\\s+\"([0-9]{4}\\.[0-9]{2}\\.[0-9]{2}\\.)\"\\s*-\\s*([0-9a-zA-Z\\s_\\-.,]+)$' \n",
    "    regex = re.compile(p)\n",
    "    res = regex.search(context)\n",
    "    post_extraction['author_name'] = res.group(1)\n",
    "    post_extraction['title'] = res.group(1)\n",
    "    post_extraction['text'] = res.group(5)\n",
    "    post_extraction['publication_date'] = res.group(4)\n",
    "    return post_extraction\n",
    "\n",
    "def get_post(context):\n",
    "    post_extraction = extract_info(context)\n",
    "    print('creating a new post...' + '*'*20)\n",
    "    post = BlogPost(post_extraction['author_name'],\n",
    "                     post_extraction['title'],\n",
    "                     post_extraction['text'],\n",
    "                     post_extraction['publication_date'])\n",
    "    print()\n",
    "    return post\n",
    "\n",
    "post1 = get_post(context1)\n",
    "post2 = get_post(context2)\n",
    "post3 = get_post(context3)"
   ]
  },
  {
   "cell_type": "markdown",
   "metadata": {},
   "source": [
    "### Encapsulation and Constructor"
   ]
  },
  {
   "cell_type": "code",
   "execution_count": 175,
   "metadata": {
    "scrolled": false
   },
   "outputs": [],
   "source": [
    "\"\"\"\n",
    "Counter\n",
    "\"\"\"\n",
    "\n",
    "class Counter:\n",
    "    def __init__(self, value= 0):\n",
    "        self._value = value\n",
    "        \n",
    "    def add(self, number= 1):\n",
    "        self._value += number\n",
    "        \n",
    "    def get(self):\n",
    "        print(f'current value: {self._value}')\n",
    "        return self._value\n",
    "        \n",
    "    def reset(self):\n",
    "        self._value = 0"
   ]
  },
  {
   "cell_type": "code",
   "execution_count": 176,
   "metadata": {
    "scrolled": true
   },
   "outputs": [
    {
     "name": "stderr",
     "output_type": "stream",
     "text": [
      "......"
     ]
    },
    {
     "name": "stdout",
     "output_type": "stream",
     "text": [
      "current value: 5\n",
      "current value: 1\n",
      "current value: 7\n",
      "current value: 0\n",
      "current value: 7\n",
      "current value: 0\n"
     ]
    },
    {
     "name": "stderr",
     "output_type": "stream",
     "text": [
      "\n",
      "----------------------------------------------------------------------\n",
      "Ran 6 tests in 0.016s\n",
      "\n",
      "OK\n"
     ]
    }
   ],
   "source": [
    "import unittest\n",
    "\n",
    "class TestCounter(unittest.TestCase):\n",
    "\n",
    "    def setUp(self):\n",
    "        self.c = Counter()\n",
    "\n",
    "    def test_addMore(self):\n",
    "        self.c.add(5)\n",
    "        self.assertEqual(self.c.get(), 5)\n",
    "\n",
    "    def test_addOne(self):\n",
    "        self.c.add()\n",
    "        self.assertEqual(self.c.get(), 1)\n",
    "\n",
    "    def test_getZero(self):\n",
    "        self.assertEqual(self.c.get(), 0)\n",
    "\n",
    "    def test_getInit(self):\n",
    "        c = Counter(7)\n",
    "        self.assertEqual(c.get(), 7)\n",
    "\n",
    "    def test_resetToZero(self):\n",
    "        self.c.add()\n",
    "        self.c.reset()\n",
    "        self.assertEqual(self.c.get(), 0)\n",
    "\n",
    "    def test_resetToInit(self):\n",
    "        c = Counter(7)\n",
    "        self.c.add(5)\n",
    "        self.c.reset()\n",
    "        self.assertEqual(c.get(), 7)\n",
    "\n",
    "if __name__ == '__main__':\n",
    "    unittest.main(argv= ['first-arg-is-ignored'], exit= False)"
   ]
  },
  {
   "cell_type": "markdown",
   "metadata": {},
   "source": [
    "### Use Class"
   ]
  },
  {
   "cell_type": "code",
   "execution_count": 206,
   "metadata": {},
   "outputs": [
    {
     "name": "stdout",
     "output_type": "stream",
     "text": [
      "1. [ ] Get milk\n",
      "2. [ ] Remove the obstacles\n",
      "3. [x] Stand up\n",
      "4. [x] Eat lunch\n",
      "\n"
     ]
    }
   ],
   "source": [
    "\"\"\"\n",
    "Fleet of Things\n",
    "\"\"\"\n",
    "from fleet import Fleet\n",
    "from thing import Thing\n",
    "\n",
    "fleet = Fleet()\n",
    "\n",
    "thing1 = Thing('Get milk')\n",
    "thing2 = Thing('Remove the obstacles')\n",
    "thing3 = Thing('Stand up')\n",
    "thing4 = Thing('Eat lunch')\n",
    "\n",
    "thing3.complete()\n",
    "thing4.complete()\n",
    "\n",
    "fleet.add(thing1)\n",
    "fleet.add(thing2)\n",
    "fleet.add(thing3)\n",
    "fleet.add(thing4)\n",
    "print(fleet)"
   ]
  },
  {
   "cell_type": "code",
   "execution_count": 208,
   "metadata": {},
   "outputs": [
    {
     "name": "stdout",
     "output_type": "stream",
     "text": [
      "Oh, a student~\n",
      "Oh, a teacher!\n",
      "The teacher's answer is: ...\n",
      "Student is learning...\n"
     ]
    }
   ],
   "source": [
    "\"\"\"\n",
    "Teacher Student\n",
    "\"\"\"\n",
    "class Student:\n",
    "    def __init__(self):\n",
    "        print('Oh, a student~')\n",
    "        \n",
    "    def learn(self):\n",
    "        print('Student is learning...')\n",
    "    \n",
    "    def question(self, teacher):\n",
    "        teacher.answer()\n",
    "    \n",
    "\n",
    "class Teacher:\n",
    "    def __init__(self):\n",
    "        print('Oh, a teacher!')\n",
    "        \n",
    "    def teach(self, student):\n",
    "        student.learn()\n",
    "    \n",
    "    def answer(self):\n",
    "        print(\"The teacher's answer is: ...\")\n",
    "        \n",
    "\n",
    "a_student = Student()\n",
    "a_teacher = Teacher()\n",
    "\n",
    "a_student.question(a_teacher)\n",
    "a_teacher.teach(a_student)"
   ]
  },
  {
   "cell_type": "code",
   "execution_count": 223,
   "metadata": {},
   "outputs": [
    {
     "name": "stdout",
     "output_type": "stream",
     "text": [
      "We got a new car\n",
      "We got a gas station\n",
      "starting to refill a car\n",
      "show car's capacity\n",
      "show car's capacity\n",
      "Refilled car 100\n"
     ]
    }
   ],
   "source": [
    "\"\"\"\n",
    "Petrol Station\n",
    "\"\"\"\n",
    "\n",
    "class Station:\n",
    "    def __init__(self, gas_amount):\n",
    "        self._gas_amount = gas_amount\n",
    "        print('We got a gas station')\n",
    "    \n",
    "    def refill(self, car):\n",
    "        print('starting to refill a car')\n",
    "        self._gas_amount -= car.capacity\n",
    "        print(f'Refilled car {car.capacity}')\n",
    "    \n",
    "    \n",
    "class Car:\n",
    "    def __init__(self, gas_amount, capacity):\n",
    "        self._gas_amount = gas_amount\n",
    "        self._capacity = capacity\n",
    "        print('We got a new car')\n",
    "        \n",
    "    @property\n",
    "    def capacity(self):\n",
    "        print(\"show car's capacity\")\n",
    "        return self._capacity\n",
    "    \n",
    "    @capacity.setter\n",
    "    def capacity(self, vol):\n",
    "        self._capacity = vol\n",
    "        print(f\"setting car's capacity: {self._capacity}\")\n",
    "        \n",
    "\n",
    "a_car = Car(0, 100)\n",
    "a_station = Station(200)\n",
    "a_station.refill(a_car)"
   ]
  },
  {
   "cell_type": "code",
   "execution_count": 267,
   "metadata": {},
   "outputs": [
    {
     "name": "stdout",
     "output_type": "stream",
     "text": [
      "creating a new post...********************\n",
      "author name: Lorem Ipsum, \n",
      "title: Lorem Ipsum, \n",
      "text: Lorem ipsum dolor sit amet., \n",
      "publication_date: 2000.05.04.\n",
      "\n",
      "creating a new post...********************\n",
      "author name: Wait but why, \n",
      "title: Wait but why, \n",
      "text: A popular long-form, stick-figure-illustrated blog about almost everything., \n",
      "publication_date: 2010.10.10.\n",
      "\n",
      "creating a new post...********************\n",
      "author name: One Engineer Is Trying to Get IBM to Reckon With Trump, \n",
      "title: One Engineer Is Trying to Get IBM to Reckon With Trump, \n",
      "text: Daniel Hanley, a cybersecurity engineer at IBM..., \n",
      "publication_date: 2017.03.28.\n",
      "\n"
     ]
    }
   ],
   "source": [
    "\"\"\"\n",
    "Blog\n",
    "\"\"\"\n",
    "\n",
    "class Blog():\n",
    "    def __init__(self, blog_post):\n",
    "        self._blog_post = blog_post\n",
    "    \n",
    "    def add(self, blog):\n",
    "        self._blog_post.append(blog)\n",
    "        print(blog._title)\n",
    "        print('*' * 10 + 'Added Successfully!' + '*'*10)\n",
    "        \n",
    "    def delete(self, blog_index):\n",
    "        if blog_index < len(self._blog_post):\n",
    "            print(f'deleting the {self._blog_post[blog_index]._title} blog' + '>'*10)\n",
    "            self._blog_post.pop(blog_index)\n",
    "        else:\n",
    "            print('Error: There are no such blog!')\n",
    "\n",
    "        \n",
    "    def update(self, blog_index, new_blog):\n",
    "        print(f'updating the \"{self._blog_post[blog_index]._title}\" blog' + '>'*10)\n",
    "        self._blog_post[blog_index] = new_blog\n",
    "        print(f'Updated and now the title of the \"{self._blog_post[blog_index]._title}\" blog')\n",
    "\n",
    "        \n",
    "\n",
    "post1 = get_post(context1)\n",
    "post2 = get_post(context2)\n",
    "post3 = get_post(context3)\n",
    "posts = [post1, post2]"
   ]
  },
  {
   "cell_type": "code",
   "execution_count": 263,
   "metadata": {},
   "outputs": [],
   "source": [
    "blog_storage = Blog(posts)"
   ]
  },
  {
   "cell_type": "code",
   "execution_count": 264,
   "metadata": {},
   "outputs": [
    {
     "name": "stdout",
     "output_type": "stream",
     "text": [
      "One Engineer Is Trying to Get IBM to Reckon With Trump\n",
      "**********Added Successfully!**********\n"
     ]
    }
   ],
   "source": [
    "blog_storage.add(post3)"
   ]
  },
  {
   "cell_type": "code",
   "execution_count": 265,
   "metadata": {},
   "outputs": [
    {
     "name": "stdout",
     "output_type": "stream",
     "text": [
      "deleting the One Engineer Is Trying to Get IBM to Reckon With Trump blog>>>>>>>>>>\n"
     ]
    }
   ],
   "source": [
    "blog_storage.delete(2)"
   ]
  },
  {
   "cell_type": "code",
   "execution_count": 266,
   "metadata": {},
   "outputs": [
    {
     "name": "stdout",
     "output_type": "stream",
     "text": [
      "updating the \"Lorem Ipsum\" blog>>>>>>>>>>\n",
      "Updated and now the title of the \"One Engineer Is Trying to Get IBM to Reckon With Trump\" blog\n"
     ]
    }
   ],
   "source": [
    "blog_storage.update(0, post3)"
   ]
  },
  {
   "cell_type": "code",
   "execution_count": null,
   "metadata": {},
   "outputs": [],
   "source": []
  }
 ],
 "metadata": {
  "kernelspec": {
   "display_name": "Python 3",
   "language": "python",
   "name": "python3"
  },
  "language_info": {
   "codemirror_mode": {
    "name": "ipython",
    "version": 3
   },
   "file_extension": ".py",
   "mimetype": "text/x-python",
   "name": "python",
   "nbconvert_exporter": "python",
   "pygments_lexer": "ipython3",
   "version": "3.7.3"
  }
 },
 "nbformat": 4,
 "nbformat_minor": 2
}
