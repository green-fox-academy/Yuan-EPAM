{
 "cells": [
  {
   "cell_type": "markdown",
   "metadata": {},
   "source": [
    "### The Garden Application"
   ]
  },
  {
   "cell_type": "code",
   "execution_count": 51,
   "metadata": {},
   "outputs": [],
   "source": [
    "class Planet:\n",
    "    def __init__(self, color, kind, water_amount):\n",
    "        self._color = color\n",
    "        self._kind = kind\n",
    "        self._water_amount = water_amount\n",
    "        \n",
    "    @property\n",
    "    def color(self):\n",
    "        return self._color\n",
    "    \n",
    "    @property\n",
    "    def kind(self):\n",
    "        return self._kind\n",
    "        \n",
    "    @property\n",
    "    def water_amount(self):\n",
    "        return self._water_amount\n",
    "    \n",
    "    @water_amount.setter\n",
    "    def water_amount(self, cur_water_amount):\n",
    "        self._water_amount = cur_water_amount\n",
    "        print(f'current {self._color} {self._kind} water amount: {self._water_amount}')\n",
    "        \n",
    "    def check_water():\n",
    "        pass\n",
    "    \n",
    "    def get_water(self, water):\n",
    "        pass\n",
    "    "
   ]
  },
  {
   "cell_type": "code",
   "execution_count": 52,
   "metadata": {},
   "outputs": [],
   "source": [
    "class Flower(Planet):\n",
    "    def __init__(self, color, kind, water_amount):\n",
    "        Planet.__init__(self, color, kind, water_amount)\n",
    "    \n",
    "    def get_water(self, water):\n",
    "        self._water_amount += water * 0.75"
   ]
  },
  {
   "cell_type": "code",
   "execution_count": 53,
   "metadata": {},
   "outputs": [],
   "source": [
    "class Tree(Planet):\n",
    "    def __init__(self, color, kind, water_amount):\n",
    "        Planet.__init__(self, color, kind, water_amount)\n",
    "    \n",
    "    def get_water(self, water):\n",
    "        self._water_amount += water * 0.4"
   ]
  },
  {
   "cell_type": "code",
   "execution_count": 83,
   "metadata": {},
   "outputs": [],
   "source": [
    "class Garden:\n",
    "    def __init__(self, planets= []):\n",
    "        self._planets = planets\n",
    "        \n",
    "    def add_planet(self, planet):\n",
    "        self._planets.append(planet)\n",
    "        \n",
    "    def check_water(self):\n",
    "        planet_to_water = []\n",
    "        for planet in self._planets:\n",
    "            kind, color, water_amount = planet.kind, planet.color, planet.water_amount\n",
    "            if kind == 'Flower' :\n",
    "                if water_amount < 5:\n",
    "                    print(f'The {color} {kind} needs water')\n",
    "                    planet_to_water.append(planet)\n",
    "                else:\n",
    "                    print(f\"The {color} {kind} doesn't water\")\n",
    "            elif kind == 'Tree':\n",
    "                if water_amount < 10:\n",
    "                    print(f'The {color} {kind} needs water')\n",
    "                    planet_to_water.append(planet)\n",
    "                else:\n",
    "                    print(f\"The {color} {kind} doesn't water\")\n",
    "        print()\n",
    "        return planet_to_water\n",
    "        \n",
    "    def water_planet(self, planet_to_water, water_amount):\n",
    "        print(f'Watering with {water_amount}')\n",
    "        if len(planet_to_water):\n",
    "            water = round(water_amount / len(planet_to_water), 2)\n",
    "            for planet in planet_to_water:\n",
    "                planet.get_water(water)\n",
    "        return self.check_water()\n",
    "            \n",
    "    def __str__(self):\n",
    "        if not self._planets:\n",
    "            return 'The garden is empty!'\n",
    "        res_head = '-' * 10 + 'In this garden:' + '-' * 10 + '\\n'\n",
    "        res_tail = '-' * 40\n",
    "        res = ''\n",
    "        for x in self._planets:\n",
    "            res += x.color + ' ' + x.kind + '\\n'\n",
    "        return res_head + res + res_tail"
   ]
  },
  {
   "cell_type": "code",
   "execution_count": 84,
   "metadata": {},
   "outputs": [],
   "source": [
    "flower1 = Flower('yellow', 'Flower', 3)\n",
    "flower2 = Flower('blue', 'Flower', 4)\n",
    "tree1 = Tree('purple', 'Tree', 0)\n",
    "tree2 = Tree('orange', 'Tree', 0)"
   ]
  },
  {
   "cell_type": "code",
   "execution_count": 85,
   "metadata": {},
   "outputs": [
    {
     "name": "stdout",
     "output_type": "stream",
     "text": [
      "----------In this garden:----------\n",
      "yellow Flower\n",
      "blue Flower\n",
      "purple Tree\n",
      "orange Tree\n",
      "----------------------------------------\n"
     ]
    }
   ],
   "source": [
    "a_garden = Garden()\n",
    "a_garden.add_planet(flower1)\n",
    "a_garden.add_planet(flower2)\n",
    "a_garden.add_planet(tree1)\n",
    "a_garden.add_planet(tree2)\n",
    "print(a_garden)"
   ]
  },
  {
   "cell_type": "code",
   "execution_count": 86,
   "metadata": {},
   "outputs": [
    {
     "name": "stdout",
     "output_type": "stream",
     "text": [
      "The yellow Flower needs water\n",
      "The blue Flower needs water\n",
      "The purple Tree needs water\n",
      "The orange Tree needs water\n",
      "\n",
      "Watering with 40\n",
      "The yellow Flower doesn't water\n",
      "The blue Flower doesn't water\n",
      "The purple Tree needs water\n",
      "The orange Tree needs water\n",
      "\n",
      "Watering with 70\n",
      "The yellow Flower doesn't water\n",
      "The blue Flower doesn't water\n",
      "The purple Tree doesn't water\n",
      "The orange Tree doesn't water\n",
      "\n"
     ]
    },
    {
     "data": {
      "text/plain": [
       "[]"
      ]
     },
     "execution_count": 86,
     "metadata": {},
     "output_type": "execute_result"
    }
   ],
   "source": [
    "planet_to_water1 = a_garden.check_water()\n",
    "planet_to_water2 = a_garden.water_planet(planet_to_water1, 40)\n",
    "a_garden.water_planet(planet_to_water2, 70)"
   ]
  },
  {
   "cell_type": "code",
   "execution_count": null,
   "metadata": {},
   "outputs": [],
   "source": []
  },
  {
   "cell_type": "code",
   "execution_count": null,
   "metadata": {},
   "outputs": [],
   "source": []
  }
 ],
 "metadata": {
  "kernelspec": {
   "display_name": "Python 3",
   "language": "python",
   "name": "python3"
  },
  "language_info": {
   "codemirror_mode": {
    "name": "ipython",
    "version": 3
   },
   "file_extension": ".py",
   "mimetype": "text/x-python",
   "name": "python",
   "nbconvert_exporter": "python",
   "pygments_lexer": "ipython3",
   "version": "3.7.3"
  }
 },
 "nbformat": 4,
 "nbformat_minor": 2
}
