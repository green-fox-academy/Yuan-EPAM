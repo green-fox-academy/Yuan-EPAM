{
 "cells": [
  {
   "cell_type": "code",
   "execution_count": 165,
   "metadata": {},
   "outputs": [],
   "source": [
    "import json\n",
    "import xml.etree.ElementTree as ET\n",
    "import csv"
   ]
  },
  {
   "cell_type": "code",
   "execution_count": 1,
   "metadata": {},
   "outputs": [],
   "source": [
    "def read_file(file_path):\n",
    "    try:\n",
    "        res = []\n",
    "        with open(file_path) as f:\n",
    "            for line in f:\n",
    "                res.append(line)\n",
    "        return ''.join(res)\n",
    "    except IOError:\n",
    "        print(f'Unable to read file {file_path}')"
   ]
  },
  {
   "cell_type": "code",
   "execution_count": 2,
   "metadata": {},
   "outputs": [
    {
     "name": "stdout",
     "output_type": "stream",
     "text": [
      "The Dark Knight;2008;Christopher Nolan\n",
      "Heat;1995;Michael Mann\n",
      "Inception;2010;Christopher Nolan\n",
      "Kill Bill: Vol. 1;2003;Quentin Tarantino\n",
      "Gladiator;2000;Ridley Scott\n",
      "Saving Private Ryan;1998;Steven Spielberg\n",
      "Terminator 2: Judgment Day;1991;James Cameron\n",
      "The Bourne Ultimatum;2007;Paul Greengrass\n",
      "The Dark Knight Rises;2012;Christopher Nolan\n",
      "The Matrix;1999;Lana Wachowski, Lilly Wachowski\n",
      "\n"
     ]
    }
   ],
   "source": [
    "movie_file = 'movies.txt'\n",
    "movie = read_file(movie_file)\n",
    "print(movie)"
   ]
  },
  {
   "cell_type": "code",
   "execution_count": 9,
   "metadata": {},
   "outputs": [
    {
     "data": {
      "text/plain": [
       "['The Dark Knight',\n",
       " 'Heat',\n",
       " 'Inception',\n",
       " 'Kill Bill: Vol. 1',\n",
       " 'Gladiator',\n",
       " 'Saving Private Ryan',\n",
       " 'Terminator 2: Judgment Day',\n",
       " 'The Bourne Ultimatum',\n",
       " 'The Dark Knight Rises',\n",
       " 'The Matrix']"
      ]
     },
     "execution_count": 9,
     "metadata": {},
     "output_type": "execute_result"
    }
   ],
   "source": [
    "def find_oldest_movie(file_path):\n",
    "    try:\n",
    "        res = []\n",
    "        with open(file_path) as f:\n",
    "            for line in f:\n",
    "                res.append(line.split(';')[0])\n",
    "        return res\n",
    "    except IOError:\n",
    "        print(f'Unable to read file {file_path}')\n",
    "    \n",
    "file_path = 'movies.txt'\n",
    "find_oldest_movie(file_path)"
   ]
  },
  {
   "cell_type": "code",
   "execution_count": 80,
   "metadata": {},
   "outputs": [
    {
     "name": "stdout",
     "output_type": "stream",
     "text": [
      "Reading file election.txt\n",
      "Useless data>>>>>Richard Gere,,2018-09-21 11:41:53,FL\n",
      "\n",
      "Useless data>>>>>,John Doe,2018-09-21 12:50:29,WA\n",
      "\n",
      "Tom Cruise,John Doe,2018-09-21 14:23:03,CA\n",
      "Helen Hunt,Jane Doe,2018-09-21 17:02:12,AL\n",
      "Barack Obama,Jane Doe,2018-09-21 10:00:37,IL\n",
      "Michael Jackson,Jane Doe,2018-09-21 16:11:57\n",
      "Bill Gates,John Doe,2018-09-21 13:25:18,NY\n",
      "\n"
     ]
    }
   ],
   "source": [
    "def remove_useless_data(file_path):\n",
    "    try:\n",
    "        res = []\n",
    "        with open(file_path) as f:\n",
    "            print(f'Reading file {file_path}')\n",
    "            head = ['Name', 'Candidate', 'Time', 'State']\n",
    "            for line in f:\n",
    "                col_val = line.split(',')\n",
    "                useless_data = False\n",
    "                for i, val in enumerate(col_val):\n",
    "                    if (head[i] != 'Time') and (val == ''):\n",
    "                        print('Useless data' + '>' * 5 + line)\n",
    "                        useless_data = True\n",
    "                        break\n",
    "                if useless_data:\n",
    "                    continue\n",
    "                res.append(line)\n",
    "        return ''.join(res)\n",
    "    except IOError:\n",
    "        print(f'Unable to read file {file_path}')\n",
    "        \n",
    "file_path2 = 'election.txt'\n",
    "print(remove_useless_data(file_path2))"
   ]
  },
  {
   "cell_type": "code",
   "execution_count": 120,
   "metadata": {},
   "outputs": [
    {
     "name": "stdout",
     "output_type": "stream",
     "text": [
      "In post id 56, it gets 123 comment likes\n",
      "In post id 145, it gets 320 comment likes\n",
      "In post id 73, it gets 65 comment likes\n",
      "In post id 976, it gets 0 comment likes\n",
      "In post id 38, it gets 107 comment likes\n",
      "In post id 21, it gets 27 comment likes\n",
      "In post id 80, it gets 94 comment likes\n",
      "The most popular post id is 80, it got 94 comment likes\n"
     ]
    },
    {
     "data": {
      "text/plain": [
       "{80, 94}"
      ]
     },
     "execution_count": 120,
     "metadata": {},
     "output_type": "execute_result"
    }
   ],
   "source": [
    "def find_largest_post(comment_like):\n",
    "    largest_like_post = list(comment_like.keys())[0]\n",
    "    max_likes = 0\n",
    "    for post, like in comment_like.items():\n",
    "        if like > max_likes:\n",
    "            largest_like_post = post\n",
    "    return largest_like_post\n",
    "            \n",
    "def count_comment_like(post):\n",
    "    post_id = post['id']\n",
    "    comment_like = 0\n",
    "    if not post['comments']:\n",
    "        print(f'In post id {post_id}, it gets {comment_like} comment likes')\n",
    "        return (post_id, 0)\n",
    "    for comment in post['comments']:\n",
    "        # iterate each comment\n",
    "        if 'like_count' in comment.keys():\n",
    "            comment_like += comment['like_count']\n",
    "    print(f'In post id {post_id}, it gets {comment_like} comment likes')\n",
    "    return (post_id, comment_like)\n",
    "        \n",
    "def find_most_popular_comments(file_path):\n",
    "    try:\n",
    "        with open(file_path) as f:\n",
    "            post_data = json.load(f) # load json file\n",
    "            if not post_data:\n",
    "                return \n",
    "            comment_like = {} # a dict to store result: post_id : comment_count \n",
    "            for post in post_data: # traversal json file\n",
    "                post_id, likes = count_comment_like(post) # return post_id and comment like count\n",
    "                if post['id'] in comment_like.keys():\n",
    "                       comment_like[post_id] += likes\n",
    "                else:\n",
    "                    comment_like[post_id] = likes\n",
    "            largest_like_post = find_largest_post(comment_like)\n",
    "            print(f'The most popular post id is {largest_like_post}, it got {comment_like[largest_like_post]} comment likes')\n",
    "            return {largest_like_post, comment_like[largest_like_post]}\n",
    "    except IOError:\n",
    "        print(f'Unable to read file {file_paht}')\n",
    "        \n",
    "find_most_popular_comments(file_path3)"
   ]
  },
  {
   "cell_type": "code",
   "execution_count": 163,
   "metadata": {},
   "outputs": [
    {
     "name": "stdout",
     "output_type": "stream",
     "text": [
      "node to remove 0\n",
      "node to remove 2\n",
      "----------Wow! USD transaction----------\n",
      "from: 465345\n",
      "to: 46548743\n",
      "amount: 2350\n",
      "----------------------------------------\n",
      "----------Wow! USD transaction----------\n",
      "from: 38644\n",
      "to: 8756113\n",
      "amount: 8000\n",
      "----------------------------------------\n",
      "<tag>: from, <attrib>: {}, <text>: 12334545\n",
      "<tag>: to, <attrib>: {}, <text>: 8676\n",
      "<tag>: amount, <attrib>: {'currency': 'CAD'}, <text>: 3600\n",
      "<tag>: from, <attrib>: {}, <text>: 8547467\n",
      "<tag>: to, <attrib>: {}, <text>: 958687\n",
      "<tag>: amount, <attrib>: {'currency': 'EUR'}, <text>: 1200\n",
      "<tag>: from, <attrib>: {}, <text>: 167465\n",
      "<tag>: to, <attrib>: {}, <text>: 9233425\n",
      "<tag>: amount, <attrib>: {'currency': 'HUF'}, <text>: 9500000\n",
      "<tag>: from, <attrib>: {}, <text>: 232635\n",
      "<tag>: to, <attrib>: {}, <text>: 4864623\n",
      "<tag>: amount, <attrib>: {'currency': 'RMB'}, <text>: 20000\n"
     ]
    }
   ],
   "source": [
    "def print_transaction(elems_USD):\n",
    "    if not elems_USD:\n",
    "        print('-' * 5 + 'No USD transaction!' + '-' * 5)\n",
    "        return\n",
    "    for elem in elems_USD.values():\n",
    "        print('-' * 10 + 'Wow! USD transaction' + '-' *10)\n",
    "        for sub_elem in elem:\n",
    "            print(f'{sub_elem.tag}: {sub_elem.text}')\n",
    "        print('-' * 40)\n",
    "        \n",
    "def remove_transaction(tree, elems_USD):\n",
    "    tree_root = tree.getroot()\n",
    "    for node in elems_USD.keys():\n",
    "        print(f'node to remove {node}')\n",
    "        tree_root.remove(tree_root[node])\n",
    "    return tree\n",
    "\n",
    "def print_xml(tree):\n",
    "    for elem in tree.getroot():\n",
    "        for sub_elem in elem:\n",
    "            print(f'<tag>: {sub_elem.tag}, <attrib>: {sub_elem.attrib}, <text>: {sub_elem.text}')\n",
    "    \n",
    "def filter_transaction(file_path):\n",
    "    try:\n",
    "        with open(file_path) as f:\n",
    "            tree = ET.parse(file_path4)\n",
    "            elems_USD = {}\n",
    "            tree_root = tree.getroot()\n",
    "            for node, elem in enumerate(tree_root):\n",
    "                for sub_elem in elem:\n",
    "                    if sub_elem.tag == 'amount':\n",
    "                        if sub_elem.attrib['currency'] == 'USD':\n",
    "                            elems_USD[node] = elem  \n",
    "                            print(f'node to remove {node}')\n",
    "                            tree_root.remove(elem)\n",
    "            print_transaction(elems_USD)\n",
    "            print_xml(tree)\n",
    "    except IOError:\n",
    "        print(f'Unable to read file {file_path}')\n",
    "        \n",
    "file_path4 = 'transactions.txt'\n",
    "filter_transaction(file_path4)"
   ]
  },
  {
   "cell_type": "code",
   "execution_count": 164,
   "metadata": {},
   "outputs": [],
   "source": [
    "# file_path4 = 'transactions.txt'\n",
    "# tree = ET.ElementTree(ET.fromstring(read_file(file_path4)))\n",
    "# for elem in tree.getroot():\n",
    "#     for sub_elem in elem:\n",
    "#         print(f'tag: {sub_elem.tag}, attrib: {sub_elem.attrib}, text: {sub_elem.text}')"
   ]
  },
  {
   "cell_type": "code",
   "execution_count": 182,
   "metadata": {},
   "outputs": [
    {
     "ename": "ValueError",
     "evalue": "invalid literal for int() with base 10: '.5'",
     "output_type": "error",
     "traceback": [
      "\u001b[1;31m---------------------------------------------------------------------------\u001b[0m",
      "\u001b[1;31mValueError\u001b[0m                                Traceback (most recent call last)",
      "\u001b[1;32m<ipython-input-182-77710bb86d21>\u001b[0m in \u001b[0;36m<module>\u001b[1;34m\u001b[0m\n\u001b[1;32m----> 1\u001b[1;33m \u001b[0mint\u001b[0m\u001b[1;33m(\u001b[0m\u001b[1;34m'.5'\u001b[0m\u001b[1;33m)\u001b[0m\u001b[1;33m\u001b[0m\u001b[1;33m\u001b[0m\u001b[0m\n\u001b[0m",
      "\u001b[1;31mValueError\u001b[0m: invalid literal for int() with base 10: '.5'"
     ]
    }
   ],
   "source": [
    "int('.5')"
   ]
  },
  {
   "cell_type": "code",
   "execution_count": 185,
   "metadata": {},
   "outputs": [
    {
     "data": {
      "text/plain": [
       "10.0"
      ]
     },
     "execution_count": 185,
     "metadata": {},
     "output_type": "execute_result"
    }
   ],
   "source": [
    "float('10')"
   ]
  },
  {
   "cell_type": "code",
   "execution_count": 184,
   "metadata": {},
   "outputs": [
    {
     "data": {
      "text/plain": [
       "0.1"
      ]
     },
     "execution_count": 184,
     "metadata": {},
     "output_type": "execute_result"
    }
   ],
   "source": [
    "float('.1')"
   ]
  },
  {
   "cell_type": "code",
   "execution_count": 204,
   "metadata": {},
   "outputs": [
    {
     "data": {
      "text/plain": [
       "'..........'"
      ]
     },
     "execution_count": 204,
     "metadata": {},
     "output_type": "execute_result"
    }
   ],
   "source": []
  },
  {
   "cell_type": "code",
   "execution_count": 198,
   "metadata": {},
   "outputs": [
    {
     "name": "stdout",
     "output_type": "stream",
     "text": [
      "3600s\n",
      "1h2m20s\n",
      "600s\n",
      "32m\n",
      ".5h\n",
      "1h12m38s\n",
      "65m\n",
      "98s\n",
      "1:02:08\n",
      "null\n"
     ]
    }
   ],
   "source": [
    "def time_convert(time_str):\n",
    "    if (not time_str) or (time_str == '0'):\n",
    "        return 0\n",
    "    second = 0\n",
    "    for ch in time_str:\n",
    "        tmp_str = ''\n",
    "        if ch == ':':\n",
    "            return sum(x * int(t) for x, t in zip([1, 60, 3600], time_str[::-1].split(\":\")))\n",
    "        elif ch == 'h':\n",
    "            second += float(tmp_str) * 3600\n",
    "        elif ch == 'm':\n",
    "            second += float(tmp_str) * 60\n",
    "        elif ch == 's':\n",
    "            second += float(tmp_str)\n",
    "        else:\n",
    "            print(f'adding {ch}')\n",
    "            tmp_str += ch\n",
    "    return second\n",
    "\n",
    "def find_best(file_path):\n",
    "    try:\n",
    "        with open(file_path) as tsv_file:\n",
    "            reader = csv.DictReader(tsv_file, dialect= 'excel-tab')\n",
    "            for row in reader:\n",
    "                print(row['time'])\n",
    "    except IOError:\n",
    "        print(f'Unable to read file {file_path}')\n",
    "        \n",
    "file_path5 = 'exams.txt'\n",
    "find_best(file_path5)"
   ]
  },
  {
   "cell_type": "code",
   "execution_count": 199,
   "metadata": {},
   "outputs": [
    {
     "name": "stdout",
     "output_type": "stream",
     "text": [
      "adding 1\n"
     ]
    },
    {
     "data": {
      "text/plain": [
       "4880"
      ]
     },
     "execution_count": 199,
     "metadata": {},
     "output_type": "execute_result"
    }
   ],
   "source": [
    "time_convert('1:02:08')"
   ]
  },
  {
   "cell_type": "code",
   "execution_count": 200,
   "metadata": {},
   "outputs": [
    {
     "name": "stdout",
     "output_type": "stream",
     "text": [
      "adding .\n",
      "adding 5\n"
     ]
    },
    {
     "ename": "ValueError",
     "evalue": "could not convert string to float: ",
     "output_type": "error",
     "traceback": [
      "\u001b[1;31m---------------------------------------------------------------------------\u001b[0m",
      "\u001b[1;31mValueError\u001b[0m                                Traceback (most recent call last)",
      "\u001b[1;32m<ipython-input-200-af3aef1245a2>\u001b[0m in \u001b[0;36m<module>\u001b[1;34m\u001b[0m\n\u001b[1;32m----> 1\u001b[1;33m \u001b[0mtime_convert\u001b[0m\u001b[1;33m(\u001b[0m\u001b[1;34m'.5h'\u001b[0m\u001b[1;33m)\u001b[0m\u001b[1;33m\u001b[0m\u001b[1;33m\u001b[0m\u001b[0m\n\u001b[0m",
      "\u001b[1;32m<ipython-input-198-0522f1389a4f>\u001b[0m in \u001b[0;36mtime_convert\u001b[1;34m(time_str)\u001b[0m\n\u001b[0;32m      8\u001b[0m             \u001b[1;32mreturn\u001b[0m \u001b[0msum\u001b[0m\u001b[1;33m(\u001b[0m\u001b[0mx\u001b[0m \u001b[1;33m*\u001b[0m \u001b[0mint\u001b[0m\u001b[1;33m(\u001b[0m\u001b[0mt\u001b[0m\u001b[1;33m)\u001b[0m \u001b[1;32mfor\u001b[0m \u001b[0mx\u001b[0m\u001b[1;33m,\u001b[0m \u001b[0mt\u001b[0m \u001b[1;32min\u001b[0m \u001b[0mzip\u001b[0m\u001b[1;33m(\u001b[0m\u001b[1;33m[\u001b[0m\u001b[1;36m1\u001b[0m\u001b[1;33m,\u001b[0m \u001b[1;36m60\u001b[0m\u001b[1;33m,\u001b[0m \u001b[1;36m3600\u001b[0m\u001b[1;33m]\u001b[0m\u001b[1;33m,\u001b[0m \u001b[0mtime_str\u001b[0m\u001b[1;33m[\u001b[0m\u001b[1;33m:\u001b[0m\u001b[1;33m:\u001b[0m\u001b[1;33m-\u001b[0m\u001b[1;36m1\u001b[0m\u001b[1;33m]\u001b[0m\u001b[1;33m.\u001b[0m\u001b[0msplit\u001b[0m\u001b[1;33m(\u001b[0m\u001b[1;34m\":\"\u001b[0m\u001b[1;33m)\u001b[0m\u001b[1;33m)\u001b[0m\u001b[1;33m)\u001b[0m\u001b[1;33m\u001b[0m\u001b[1;33m\u001b[0m\u001b[0m\n\u001b[0;32m      9\u001b[0m         \u001b[1;32melif\u001b[0m \u001b[0mch\u001b[0m \u001b[1;33m==\u001b[0m \u001b[1;34m'h'\u001b[0m\u001b[1;33m:\u001b[0m\u001b[1;33m\u001b[0m\u001b[1;33m\u001b[0m\u001b[0m\n\u001b[1;32m---> 10\u001b[1;33m             \u001b[0msecond\u001b[0m \u001b[1;33m+=\u001b[0m \u001b[0mfloat\u001b[0m\u001b[1;33m(\u001b[0m\u001b[0mtmp_str\u001b[0m\u001b[1;33m)\u001b[0m \u001b[1;33m*\u001b[0m \u001b[1;36m3600\u001b[0m\u001b[1;33m\u001b[0m\u001b[1;33m\u001b[0m\u001b[0m\n\u001b[0m\u001b[0;32m     11\u001b[0m         \u001b[1;32melif\u001b[0m \u001b[0mch\u001b[0m \u001b[1;33m==\u001b[0m \u001b[1;34m'm'\u001b[0m\u001b[1;33m:\u001b[0m\u001b[1;33m\u001b[0m\u001b[1;33m\u001b[0m\u001b[0m\n\u001b[0;32m     12\u001b[0m             \u001b[0msecond\u001b[0m \u001b[1;33m+=\u001b[0m \u001b[0mfloat\u001b[0m\u001b[1;33m(\u001b[0m\u001b[0mtmp_str\u001b[0m\u001b[1;33m)\u001b[0m \u001b[1;33m*\u001b[0m \u001b[1;36m60\u001b[0m\u001b[1;33m\u001b[0m\u001b[1;33m\u001b[0m\u001b[0m\n",
      "\u001b[1;31mValueError\u001b[0m: could not convert string to float: "
     ]
    }
   ],
   "source": [
    "time_convert('.5h')"
   ]
  },
  {
   "cell_type": "code",
   "execution_count": 177,
   "metadata": {},
   "outputs": [
    {
     "ename": "ValueError",
     "evalue": "invalid literal for int() with base 10: 'm56'",
     "output_type": "error",
     "traceback": [
      "\u001b[1;31m---------------------------------------------------------------------------\u001b[0m",
      "\u001b[1;31mValueError\u001b[0m                                Traceback (most recent call last)",
      "\u001b[1;32m<ipython-input-177-d4a4be55991e>\u001b[0m in \u001b[0;36m<module>\u001b[1;34m\u001b[0m\n\u001b[1;32m----> 1\u001b[1;33m \u001b[0mtime_convert\u001b[0m\u001b[1;33m(\u001b[0m\u001b[1;34m'65m'\u001b[0m\u001b[1;33m)\u001b[0m\u001b[1;33m\u001b[0m\u001b[1;33m\u001b[0m\u001b[0m\n\u001b[0m",
      "\u001b[1;32m<ipython-input-175-7bcf328343b6>\u001b[0m in \u001b[0;36mtime_convert\u001b[1;34m(time_str)\u001b[0m\n\u001b[0;32m      4\u001b[0m     \u001b[0msecond\u001b[0m \u001b[1;33m=\u001b[0m \u001b[1;36m0\u001b[0m\u001b[1;33m\u001b[0m\u001b[1;33m\u001b[0m\u001b[0m\n\u001b[0;32m      5\u001b[0m     \u001b[1;32mtry\u001b[0m\u001b[1;33m:\u001b[0m\u001b[1;33m\u001b[0m\u001b[1;33m\u001b[0m\u001b[0m\n\u001b[1;32m----> 6\u001b[1;33m         \u001b[0msecond\u001b[0m \u001b[1;33m=\u001b[0m \u001b[0msum\u001b[0m\u001b[1;33m(\u001b[0m\u001b[0mx\u001b[0m \u001b[1;33m*\u001b[0m \u001b[0mint\u001b[0m\u001b[1;33m(\u001b[0m\u001b[0mt\u001b[0m\u001b[1;33m)\u001b[0m \u001b[1;32mfor\u001b[0m \u001b[0mx\u001b[0m\u001b[1;33m,\u001b[0m \u001b[0mt\u001b[0m \u001b[1;32min\u001b[0m \u001b[0mzip\u001b[0m\u001b[1;33m(\u001b[0m\u001b[1;33m[\u001b[0m\u001b[1;36m1\u001b[0m\u001b[1;33m,\u001b[0m \u001b[1;36m60\u001b[0m\u001b[1;33m,\u001b[0m \u001b[1;36m3600\u001b[0m\u001b[1;33m]\u001b[0m\u001b[1;33m,\u001b[0m \u001b[0mtime_str\u001b[0m\u001b[1;33m[\u001b[0m\u001b[1;33m:\u001b[0m\u001b[1;33m:\u001b[0m\u001b[1;33m-\u001b[0m\u001b[1;36m1\u001b[0m\u001b[1;33m]\u001b[0m\u001b[1;33m.\u001b[0m\u001b[0msplit\u001b[0m\u001b[1;33m(\u001b[0m\u001b[1;34m\":\"\u001b[0m\u001b[1;33m)\u001b[0m\u001b[1;33m)\u001b[0m\u001b[1;33m)\u001b[0m\u001b[1;33m\u001b[0m\u001b[1;33m\u001b[0m\u001b[0m\n\u001b[0m\u001b[0;32m      7\u001b[0m     \u001b[1;32mexcept\u001b[0m \u001b[0mTypeError\u001b[0m\u001b[1;33m:\u001b[0m\u001b[1;33m\u001b[0m\u001b[1;33m\u001b[0m\u001b[0m\n\u001b[0;32m      8\u001b[0m         \u001b[0mprint\u001b[0m\u001b[1;33m(\u001b[0m\u001b[1;34m'Time format is not standard...'\u001b[0m\u001b[1;33m)\u001b[0m\u001b[1;33m\u001b[0m\u001b[1;33m\u001b[0m\u001b[0m\n",
      "\u001b[1;32m<ipython-input-175-7bcf328343b6>\u001b[0m in \u001b[0;36m<genexpr>\u001b[1;34m(.0)\u001b[0m\n\u001b[0;32m      4\u001b[0m     \u001b[0msecond\u001b[0m \u001b[1;33m=\u001b[0m \u001b[1;36m0\u001b[0m\u001b[1;33m\u001b[0m\u001b[1;33m\u001b[0m\u001b[0m\n\u001b[0;32m      5\u001b[0m     \u001b[1;32mtry\u001b[0m\u001b[1;33m:\u001b[0m\u001b[1;33m\u001b[0m\u001b[1;33m\u001b[0m\u001b[0m\n\u001b[1;32m----> 6\u001b[1;33m         \u001b[0msecond\u001b[0m \u001b[1;33m=\u001b[0m \u001b[0msum\u001b[0m\u001b[1;33m(\u001b[0m\u001b[0mx\u001b[0m \u001b[1;33m*\u001b[0m \u001b[0mint\u001b[0m\u001b[1;33m(\u001b[0m\u001b[0mt\u001b[0m\u001b[1;33m)\u001b[0m \u001b[1;32mfor\u001b[0m \u001b[0mx\u001b[0m\u001b[1;33m,\u001b[0m \u001b[0mt\u001b[0m \u001b[1;32min\u001b[0m \u001b[0mzip\u001b[0m\u001b[1;33m(\u001b[0m\u001b[1;33m[\u001b[0m\u001b[1;36m1\u001b[0m\u001b[1;33m,\u001b[0m \u001b[1;36m60\u001b[0m\u001b[1;33m,\u001b[0m \u001b[1;36m3600\u001b[0m\u001b[1;33m]\u001b[0m\u001b[1;33m,\u001b[0m \u001b[0mtime_str\u001b[0m\u001b[1;33m[\u001b[0m\u001b[1;33m:\u001b[0m\u001b[1;33m:\u001b[0m\u001b[1;33m-\u001b[0m\u001b[1;36m1\u001b[0m\u001b[1;33m]\u001b[0m\u001b[1;33m.\u001b[0m\u001b[0msplit\u001b[0m\u001b[1;33m(\u001b[0m\u001b[1;34m\":\"\u001b[0m\u001b[1;33m)\u001b[0m\u001b[1;33m)\u001b[0m\u001b[1;33m)\u001b[0m\u001b[1;33m\u001b[0m\u001b[1;33m\u001b[0m\u001b[0m\n\u001b[0m\u001b[0;32m      7\u001b[0m     \u001b[1;32mexcept\u001b[0m \u001b[0mTypeError\u001b[0m\u001b[1;33m:\u001b[0m\u001b[1;33m\u001b[0m\u001b[1;33m\u001b[0m\u001b[0m\n\u001b[0;32m      8\u001b[0m         \u001b[0mprint\u001b[0m\u001b[1;33m(\u001b[0m\u001b[1;34m'Time format is not standard...'\u001b[0m\u001b[1;33m)\u001b[0m\u001b[1;33m\u001b[0m\u001b[1;33m\u001b[0m\u001b[0m\n",
      "\u001b[1;31mValueError\u001b[0m: invalid literal for int() with base 10: 'm56'"
     ]
    }
   ],
   "source": [
    "time_convert('65m')"
   ]
  },
  {
   "cell_type": "code",
   "execution_count": null,
   "metadata": {},
   "outputs": [],
   "source": []
  },
  {
   "cell_type": "code",
   "execution_count": null,
   "metadata": {},
   "outputs": [],
   "source": []
  },
  {
   "cell_type": "code",
   "execution_count": null,
   "metadata": {},
   "outputs": [],
   "source": []
  }
 ],
 "metadata": {
  "kernelspec": {
   "display_name": "Python 3",
   "language": "python",
   "name": "python3"
  },
  "language_info": {
   "codemirror_mode": {
    "name": "ipython",
    "version": 3
   },
   "file_extension": ".py",
   "mimetype": "text/x-python",
   "name": "python",
   "nbconvert_exporter": "python",
   "pygments_lexer": "ipython3",
   "version": "3.7.3"
  },
  "varInspector": {
   "cols": {
    "lenName": 16,
    "lenType": 16,
    "lenVar": 40
   },
   "kernels_config": {
    "python": {
     "delete_cmd_postfix": "",
     "delete_cmd_prefix": "del ",
     "library": "var_list.py",
     "varRefreshCmd": "print(var_dic_list())"
    },
    "r": {
     "delete_cmd_postfix": ") ",
     "delete_cmd_prefix": "rm(",
     "library": "var_list.r",
     "varRefreshCmd": "cat(var_dic_list()) "
    }
   },
   "types_to_exclude": [
    "module",
    "function",
    "builtin_function_or_method",
    "instance",
    "_Feature"
   ],
   "window_display": false
  }
 },
 "nbformat": 4,
 "nbformat_minor": 2
}
