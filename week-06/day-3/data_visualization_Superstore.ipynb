{
 "cells": [
  {
   "cell_type": "markdown",
   "metadata": {
    "toc": true
   },
   "source": [
    "<h1>Table of Contents<span class=\"tocSkip\"></span></h1>\n",
    "<div class=\"toc\"><ul class=\"toc-item\"><li><span><a href=\"#Load-and-read-excel-sheet\" data-toc-modified-id=\"Load-and-read-excel-sheet-1\"><span class=\"toc-item-num\">1&nbsp;&nbsp;</span>Load and read excel sheet</a></span></li><li><span><a href=\"#EDA\" data-toc-modified-id=\"EDA-2\"><span class=\"toc-item-num\">2&nbsp;&nbsp;</span>EDA</a></span></li><li><span><a href=\"#Process\" data-toc-modified-id=\"Process-3\"><span class=\"toc-item-num\">3&nbsp;&nbsp;</span>Process</a></span><ul class=\"toc-item\"><li><span><a href=\"#1.-Map-the-amount-of-high-priority-shipments-within-2010-on-a-timeline.\" data-toc-modified-id=\"1.-Map-the-amount-of-high-priority-shipments-within-2010-on-a-timeline.-3.1\"><span class=\"toc-item-num\">3.1&nbsp;&nbsp;</span>1. Map the amount of high-priority shipments within 2010 on a timeline.</a></span></li><li><span><a href=\"#2.-Graph-out-the-minimum-and-maximum-shipping-costs-per-container-type.\" data-toc-modified-id=\"2.-Graph-out-the-minimum-and-maximum-shipping-costs-per-container-type.-3.2\"><span class=\"toc-item-num\">3.2&nbsp;&nbsp;</span>2. Graph out the minimum and maximum shipping costs per container type.</a></span></li><li><span><a href=\"#3.-Compare-profits-per-category-amongst-the-different-regions-(Docu-to-help-you-is-to-be-found-here).\" data-toc-modified-id=\"3.-Compare-profits-per-category-amongst-the-different-regions-(Docu-to-help-you-is-to-be-found-here).-3.3\"><span class=\"toc-item-num\">3.3&nbsp;&nbsp;</span>3. Compare profits per category amongst the different regions (Docu to help you is to be found <a href=\"https://matplotlib.org/gallery/lines_bars_and_markers/barchart.html#sphx-glr-gallery-lines-bars-and-markers-barchart-py\" target=\"_blank\">here</a>).</a></span></li></ul></li><li><span><a href=\"#Visualization\" data-toc-modified-id=\"Visualization-4\"><span class=\"toc-item-num\">4&nbsp;&nbsp;</span>Visualization</a></span><ul class=\"toc-item\"><li><span><a href=\"#1.-Map-the-amount-of-high-priority-shipments-within-2010-on-a-timeline.\" data-toc-modified-id=\"1.-Map-the-amount-of-high-priority-shipments-within-2010-on-a-timeline.-4.1\"><span class=\"toc-item-num\">4.1&nbsp;&nbsp;</span>1. Map the amount of high-priority shipments within 2010 on a timeline.</a></span></li><li><span><a href=\"#2.-Graph-out-the-minimum-and-maximum-shipping-costs-per-container-type.\" data-toc-modified-id=\"2.-Graph-out-the-minimum-and-maximum-shipping-costs-per-container-type.-4.2\"><span class=\"toc-item-num\">4.2&nbsp;&nbsp;</span>2. Graph out the minimum and maximum shipping costs per container type.</a></span></li><li><span><a href=\"#3.-Compare-profits-per-category-amongst-the-different-regions-(Docu-to-help-you-is-to-be-found-here).\" data-toc-modified-id=\"3.-Compare-profits-per-category-amongst-the-different-regions-(Docu-to-help-you-is-to-be-found-here).-4.3\"><span class=\"toc-item-num\">4.3&nbsp;&nbsp;</span>3. Compare profits per category amongst the different regions (Docu to help you is to be found <a href=\"https://matplotlib.org/gallery/lines_bars_and_markers/barchart.html#sphx-glr-gallery-lines-bars-and-markers-barchart-py\" target=\"_blank\">here</a>).</a></span></li></ul></li><li><span><a href=\"#Qlik-Visualization\" data-toc-modified-id=\"Qlik-Visualization-5\"><span class=\"toc-item-num\">5&nbsp;&nbsp;</span>Qlik Visualization</a></span><ul class=\"toc-item\"><li><span><a href=\"#1.-Map-the-amount-of-high-priority-shipments-within-2010-on-a-timeline.\" data-toc-modified-id=\"1.-Map-the-amount-of-high-priority-shipments-within-2010-on-a-timeline.-5.1\"><span class=\"toc-item-num\">5.1&nbsp;&nbsp;</span>1. Map the amount of high-priority shipments within 2010 on a timeline.</a></span></li><li><span><a href=\"#2.-Graph-out-the-minimum-and-maximum-shipping-costs-per-container-type.\" data-toc-modified-id=\"2.-Graph-out-the-minimum-and-maximum-shipping-costs-per-container-type.-5.2\"><span class=\"toc-item-num\">5.2&nbsp;&nbsp;</span>2. Graph out the minimum and maximum shipping costs per container type.</a></span></li><li><span><a href=\"#3.-Compare-profits-per-category-amongst-the-different-regions-(Docu-to-help-you-is-to-be-found-here).\" data-toc-modified-id=\"3.-Compare-profits-per-category-amongst-the-different-regions-(Docu-to-help-you-is-to-be-found-here).-5.3\"><span class=\"toc-item-num\">5.3&nbsp;&nbsp;</span>3. Compare profits per category amongst the different regions (Docu to help you is to be found <a href=\"https://matplotlib.org/gallery/lines_bars_and_markers/barchart.html#sphx-glr-gallery-lines-bars-and-markers-barchart-py\" target=\"_blank\">here</a>).</a></span></li></ul></li></ul></div>"
   ]
  },
  {
   "cell_type": "code",
   "execution_count": 74,
   "metadata": {},
   "outputs": [],
   "source": [
    "import os\n",
    "\n",
    "import numpy as np\n",
    "import pandas as pd\n",
    "\n",
    "import matplotlib.pyplot as plt\n",
    "%matplotlib inline"
   ]
  },
  {
   "cell_type": "code",
   "execution_count": 5,
   "metadata": {},
   "outputs": [
    {
     "data": {
      "text/plain": [
       "'C:\\\\Yuan\\\\epam\\\\Training\\\\Yuan-EPAM\\\\week-06\\\\day-3'"
      ]
     },
     "execution_count": 5,
     "metadata": {},
     "output_type": "execute_result"
    }
   ],
   "source": [
    "os.getcwd()"
   ]
  },
  {
   "cell_type": "code",
   "execution_count": 7,
   "metadata": {},
   "outputs": [],
   "source": [
    "\"\"\"\n",
    "Initialization\n",
    "\"\"\"\n",
    "file_name = 'Superstore Sales (Excel).xls'\n",
    "data_path = os.path.join(os.getcwd(), 'data', file_name)"
   ]
  },
  {
   "cell_type": "markdown",
   "metadata": {},
   "source": [
    "### Load and read excel sheet"
   ]
  },
  {
   "cell_type": "code",
   "execution_count": 29,
   "metadata": {},
   "outputs": [
    {
     "name": "stdout",
     "output_type": "stream",
     "text": [
      "['Orders', 'Returns', 'Users']\n"
     ]
    }
   ],
   "source": [
    "def load_excel_sheet(file_path):\n",
    "    xl = pd.ExcelFile(data_path)\n",
    "    return xl\n",
    "\n",
    "xl = load_excel_sheet(data_path)\n",
    "print(xl.sheet_names)\n",
    "df_order = xl.parse('Orders')"
   ]
  },
  {
   "cell_type": "markdown",
   "metadata": {},
   "source": [
    "### EDA"
   ]
  },
  {
   "cell_type": "code",
   "execution_count": 31,
   "metadata": {},
   "outputs": [
    {
     "data": {
      "text/plain": [
       "(8399, 23)"
      ]
     },
     "execution_count": 31,
     "metadata": {},
     "output_type": "execute_result"
    }
   ],
   "source": [
    "df_order.shape"
   ]
  },
  {
   "cell_type": "code",
   "execution_count": 32,
   "metadata": {},
   "outputs": [
    {
     "data": {
      "text/plain": [
       "Index(['Row ID', 'Order ID', 'Order Date', 'Order Priority', 'Order Quantity',\n",
       "       'Sales', 'Discount', 'Ship Mode', 'Profit', 'Unit Price',\n",
       "       'Shipping Cost', 'Customer Name', 'City', 'Zip Code', 'State', 'Region',\n",
       "       'Customer Segment', 'Product Category', 'Product Sub-Category',\n",
       "       'Product Name', 'Product Container', 'Product Base Margin',\n",
       "       'Ship Date'],\n",
       "      dtype='object')"
      ]
     },
     "execution_count": 32,
     "metadata": {},
     "output_type": "execute_result"
    }
   ],
   "source": [
    "df_order.columns"
   ]
  },
  {
   "cell_type": "code",
   "execution_count": 34,
   "metadata": {},
   "outputs": [
    {
     "data": {
      "text/html": [
       "<div>\n",
       "<style scoped>\n",
       "    .dataframe tbody tr th:only-of-type {\n",
       "        vertical-align: middle;\n",
       "    }\n",
       "\n",
       "    .dataframe tbody tr th {\n",
       "        vertical-align: top;\n",
       "    }\n",
       "\n",
       "    .dataframe thead th {\n",
       "        text-align: right;\n",
       "    }\n",
       "</style>\n",
       "<table border=\"1\" class=\"dataframe\">\n",
       "  <thead>\n",
       "    <tr style=\"text-align: right;\">\n",
       "      <th></th>\n",
       "      <th>Row ID</th>\n",
       "      <th>Order ID</th>\n",
       "      <th>Order Date</th>\n",
       "      <th>Order Priority</th>\n",
       "      <th>Order Quantity</th>\n",
       "      <th>Sales</th>\n",
       "      <th>Discount</th>\n",
       "      <th>Ship Mode</th>\n",
       "      <th>Profit</th>\n",
       "      <th>Unit Price</th>\n",
       "      <th>...</th>\n",
       "      <th>Zip Code</th>\n",
       "      <th>State</th>\n",
       "      <th>Region</th>\n",
       "      <th>Customer Segment</th>\n",
       "      <th>Product Category</th>\n",
       "      <th>Product Sub-Category</th>\n",
       "      <th>Product Name</th>\n",
       "      <th>Product Container</th>\n",
       "      <th>Product Base Margin</th>\n",
       "      <th>Ship Date</th>\n",
       "    </tr>\n",
       "  </thead>\n",
       "  <tbody>\n",
       "    <tr>\n",
       "      <th>0</th>\n",
       "      <td>1</td>\n",
       "      <td>3</td>\n",
       "      <td>2010-10-13</td>\n",
       "      <td>Low</td>\n",
       "      <td>6</td>\n",
       "      <td>261.5400</td>\n",
       "      <td>0.04</td>\n",
       "      <td>Regular Air</td>\n",
       "      <td>-213.250</td>\n",
       "      <td>38.94</td>\n",
       "      <td>...</td>\n",
       "      <td>60035</td>\n",
       "      <td>Illinois</td>\n",
       "      <td>Central</td>\n",
       "      <td>Small Business</td>\n",
       "      <td>Office Supplies</td>\n",
       "      <td>Storage &amp; Organization</td>\n",
       "      <td>Eldon Base for stackable storage shelf, platinum</td>\n",
       "      <td>Large Box</td>\n",
       "      <td>0.80</td>\n",
       "      <td>2010-10-20</td>\n",
       "    </tr>\n",
       "    <tr>\n",
       "      <th>1</th>\n",
       "      <td>2</td>\n",
       "      <td>6</td>\n",
       "      <td>2012-02-20</td>\n",
       "      <td>Not Specified</td>\n",
       "      <td>2</td>\n",
       "      <td>6.9300</td>\n",
       "      <td>0.01</td>\n",
       "      <td>Regular Air</td>\n",
       "      <td>-4.640</td>\n",
       "      <td>2.08</td>\n",
       "      <td>...</td>\n",
       "      <td>98026</td>\n",
       "      <td>Washington</td>\n",
       "      <td>West</td>\n",
       "      <td>Corporate</td>\n",
       "      <td>Office Supplies</td>\n",
       "      <td>Scissors, Rulers and Trimmers</td>\n",
       "      <td>Kleencut® Forged Office Shears by Acme United ...</td>\n",
       "      <td>Small Pack</td>\n",
       "      <td>0.55</td>\n",
       "      <td>2012-02-21</td>\n",
       "    </tr>\n",
       "    <tr>\n",
       "      <th>2</th>\n",
       "      <td>3</td>\n",
       "      <td>32</td>\n",
       "      <td>2011-07-15</td>\n",
       "      <td>High</td>\n",
       "      <td>26</td>\n",
       "      <td>2808.0800</td>\n",
       "      <td>0.07</td>\n",
       "      <td>Regular Air</td>\n",
       "      <td>1054.820</td>\n",
       "      <td>107.53</td>\n",
       "      <td>...</td>\n",
       "      <td>98387</td>\n",
       "      <td>Washington</td>\n",
       "      <td>West</td>\n",
       "      <td>Corporate</td>\n",
       "      <td>Furniture</td>\n",
       "      <td>Office Furnishings</td>\n",
       "      <td>Tenex Contemporary Contur Chairmats for Low an...</td>\n",
       "      <td>Medium Box</td>\n",
       "      <td>0.65</td>\n",
       "      <td>2011-07-17</td>\n",
       "    </tr>\n",
       "    <tr>\n",
       "      <th>3</th>\n",
       "      <td>4</td>\n",
       "      <td>32</td>\n",
       "      <td>2011-07-15</td>\n",
       "      <td>High</td>\n",
       "      <td>24</td>\n",
       "      <td>1761.4000</td>\n",
       "      <td>0.09</td>\n",
       "      <td>Delivery Truck</td>\n",
       "      <td>-1748.560</td>\n",
       "      <td>70.89</td>\n",
       "      <td>...</td>\n",
       "      <td>98387</td>\n",
       "      <td>Washington</td>\n",
       "      <td>West</td>\n",
       "      <td>Corporate</td>\n",
       "      <td>Furniture</td>\n",
       "      <td>Tables</td>\n",
       "      <td>KI Conference Tables</td>\n",
       "      <td>Jumbo Box</td>\n",
       "      <td>0.72</td>\n",
       "      <td>2011-07-16</td>\n",
       "    </tr>\n",
       "    <tr>\n",
       "      <th>4</th>\n",
       "      <td>5</td>\n",
       "      <td>32</td>\n",
       "      <td>2011-07-15</td>\n",
       "      <td>High</td>\n",
       "      <td>23</td>\n",
       "      <td>160.2335</td>\n",
       "      <td>0.04</td>\n",
       "      <td>Regular Air</td>\n",
       "      <td>-85.129</td>\n",
       "      <td>7.99</td>\n",
       "      <td>...</td>\n",
       "      <td>98387</td>\n",
       "      <td>Washington</td>\n",
       "      <td>West</td>\n",
       "      <td>Corporate</td>\n",
       "      <td>Technology</td>\n",
       "      <td>Telephones and Communication</td>\n",
       "      <td>Bell Sonecor JB700 Caller ID</td>\n",
       "      <td>Medium Box</td>\n",
       "      <td>0.60</td>\n",
       "      <td>2011-07-17</td>\n",
       "    </tr>\n",
       "  </tbody>\n",
       "</table>\n",
       "<p>5 rows × 23 columns</p>\n",
       "</div>"
      ],
      "text/plain": [
       "   Row ID  Order ID Order Date Order Priority  Order Quantity      Sales  \\\n",
       "0       1         3 2010-10-13            Low               6   261.5400   \n",
       "1       2         6 2012-02-20  Not Specified               2     6.9300   \n",
       "2       3        32 2011-07-15           High              26  2808.0800   \n",
       "3       4        32 2011-07-15           High              24  1761.4000   \n",
       "4       5        32 2011-07-15           High              23   160.2335   \n",
       "\n",
       "   Discount       Ship Mode    Profit  Unit Price  ...  Zip Code       State  \\\n",
       "0      0.04     Regular Air  -213.250       38.94  ...     60035    Illinois   \n",
       "1      0.01     Regular Air    -4.640        2.08  ...     98026  Washington   \n",
       "2      0.07     Regular Air  1054.820      107.53  ...     98387  Washington   \n",
       "3      0.09  Delivery Truck -1748.560       70.89  ...     98387  Washington   \n",
       "4      0.04     Regular Air   -85.129        7.99  ...     98387  Washington   \n",
       "\n",
       "    Region  Customer Segment Product Category           Product Sub-Category  \\\n",
       "0  Central    Small Business  Office Supplies         Storage & Organization   \n",
       "1     West         Corporate  Office Supplies  Scissors, Rulers and Trimmers   \n",
       "2     West         Corporate        Furniture             Office Furnishings   \n",
       "3     West         Corporate        Furniture                         Tables   \n",
       "4     West         Corporate       Technology   Telephones and Communication   \n",
       "\n",
       "                                        Product Name Product Container  \\\n",
       "0   Eldon Base for stackable storage shelf, platinum         Large Box   \n",
       "1  Kleencut® Forged Office Shears by Acme United ...        Small Pack   \n",
       "2  Tenex Contemporary Contur Chairmats for Low an...        Medium Box   \n",
       "3                               KI Conference Tables         Jumbo Box   \n",
       "4                       Bell Sonecor JB700 Caller ID        Medium Box   \n",
       "\n",
       "  Product Base Margin  Ship Date  \n",
       "0                0.80 2010-10-20  \n",
       "1                0.55 2012-02-21  \n",
       "2                0.65 2011-07-17  \n",
       "3                0.72 2011-07-16  \n",
       "4                0.60 2011-07-17  \n",
       "\n",
       "[5 rows x 23 columns]"
      ]
     },
     "execution_count": 34,
     "metadata": {},
     "output_type": "execute_result"
    }
   ],
   "source": [
    "df_order.head()"
   ]
  },
  {
   "cell_type": "code",
   "execution_count": 33,
   "metadata": {},
   "outputs": [
    {
     "name": "stdout",
     "output_type": "stream",
     "text": [
      "<class 'pandas.core.frame.DataFrame'>\n",
      "RangeIndex: 8399 entries, 0 to 8398\n",
      "Data columns (total 23 columns):\n",
      "Row ID                  8399 non-null int64\n",
      "Order ID                8399 non-null int64\n",
      "Order Date              8399 non-null datetime64[ns]\n",
      "Order Priority          8399 non-null object\n",
      "Order Quantity          8399 non-null int64\n",
      "Sales                   8399 non-null float64\n",
      "Discount                8399 non-null float64\n",
      "Ship Mode               8399 non-null object\n",
      "Profit                  8399 non-null float64\n",
      "Unit Price              8399 non-null float64\n",
      "Shipping Cost           8399 non-null float64\n",
      "Customer Name           8399 non-null object\n",
      "City                    8399 non-null object\n",
      "Zip Code                8399 non-null int64\n",
      "State                   8399 non-null object\n",
      "Region                  8399 non-null object\n",
      "Customer Segment        8399 non-null object\n",
      "Product Category        8399 non-null object\n",
      "Product Sub-Category    8399 non-null object\n",
      "Product Name            8399 non-null object\n",
      "Product Container       8399 non-null object\n",
      "Product Base Margin     8336 non-null float64\n",
      "Ship Date               8399 non-null datetime64[ns]\n",
      "dtypes: datetime64[ns](2), float64(6), int64(4), object(11)\n",
      "memory usage: 1.5+ MB\n"
     ]
    }
   ],
   "source": [
    "df_order.info()"
   ]
  },
  {
   "cell_type": "markdown",
   "metadata": {},
   "source": [
    "### Process"
   ]
  },
  {
   "cell_type": "markdown",
   "metadata": {},
   "source": [
    "#### 1. Map the amount of high-priority shipments within 2010 on a timeline."
   ]
  },
  {
   "cell_type": "code",
   "execution_count": 197,
   "metadata": {},
   "outputs": [],
   "source": [
    "def extract_PRIO_shipments_by_year(df, prio, year):\n",
    "    df_high_PRIO = df[df['Order Priority'] == prio]\n",
    "    return df_high_PRIO[df_high_PRIO['Ship Date'].dt.year == year]"
   ]
  },
  {
   "cell_type": "code",
   "execution_count": 198,
   "metadata": {},
   "outputs": [],
   "source": [
    "df_high_PRIO_2010 = extract_PRIO_shipments_by_year(df_order, prio= 'High', year= 2010)\n",
    "df_high_PRIO_2010['Ship Month'] = df_high_PRIO_2010['Ship Date'].dt.month"
   ]
  },
  {
   "cell_type": "code",
   "execution_count": 213,
   "metadata": {},
   "outputs": [],
   "source": [
    "shipment_amount_2010 = df_high_PRIO_2010.groupby('Ship Date').count()['Row ID']\n",
    "shipment_amount_2010_monthly = df_high_PRIO_2010.groupby('Ship Month').count()['Row ID']"
   ]
  },
  {
   "cell_type": "markdown",
   "metadata": {},
   "source": [
    "#### 2. Graph out the minimum and maximum shipping costs per container type."
   ]
  },
  {
   "cell_type": "code",
   "execution_count": 431,
   "metadata": {},
   "outputs": [
    {
     "data": {
      "text/plain": [
       "max    31448.47\n",
       "min     3118.60\n",
       "Name: Shipping Cost, dtype: float64"
      ]
     },
     "execution_count": 431,
     "metadata": {},
     "output_type": "execute_result"
    }
   ],
   "source": [
    "df_container_price_range = df_order.groupby(['Product Container'])['Shipping Cost'].agg(['max', \n",
    "                                                                                         'min'])\n",
    "df_container_price_range.columns = ['max_price', 'min_price']\n",
    "df_container_price_range"
   ]
  },
  {
   "cell_type": "markdown",
   "metadata": {},
   "source": [
    "#### 3. Compare profits per category amongst the different regions (Docu to help you is to be found [here](https://matplotlib.org/gallery/lines_bars_and_markers/barchart.html#sphx-glr-gallery-lines-bars-and-markers-barchart-py))."
   ]
  },
  {
   "cell_type": "code",
   "execution_count": 306,
   "metadata": {},
   "outputs": [
    {
     "data": {
      "text/plain": [
       "Index(['Row ID', 'Order ID', 'Order Date', 'Order Priority', 'Order Quantity',\n",
       "       'Sales', 'Discount', 'Ship Mode', 'Profit', 'Unit Price',\n",
       "       'Shipping Cost', 'Customer Name', 'City', 'Zip Code', 'State', 'Region',\n",
       "       'Customer Segment', 'Product Category', 'Product Sub-Category',\n",
       "       'Product Name', 'Product Container', 'Product Base Margin',\n",
       "       'Ship Date'],\n",
       "      dtype='object')"
      ]
     },
     "execution_count": 306,
     "metadata": {},
     "output_type": "execute_result"
    }
   ],
   "source": [
    "df_order.columns"
   ]
  },
  {
   "cell_type": "code",
   "execution_count": 310,
   "metadata": {},
   "outputs": [
    {
     "data": {
      "text/html": [
       "<div>\n",
       "<style scoped>\n",
       "    .dataframe tbody tr th:only-of-type {\n",
       "        vertical-align: middle;\n",
       "    }\n",
       "\n",
       "    .dataframe tbody tr th {\n",
       "        vertical-align: top;\n",
       "    }\n",
       "\n",
       "    .dataframe thead th {\n",
       "        text-align: right;\n",
       "    }\n",
       "</style>\n",
       "<table border=\"1\" class=\"dataframe\">\n",
       "  <thead>\n",
       "    <tr style=\"text-align: right;\">\n",
       "      <th></th>\n",
       "      <th>Row ID</th>\n",
       "      <th>Order ID</th>\n",
       "      <th>Profit</th>\n",
       "      <th>Unit Price</th>\n",
       "      <th>City</th>\n",
       "      <th>Region</th>\n",
       "      <th>Product Category</th>\n",
       "      <th>Product Sub-Category</th>\n",
       "      <th>Product Name</th>\n",
       "    </tr>\n",
       "  </thead>\n",
       "  <tbody>\n",
       "    <tr>\n",
       "      <th>0</th>\n",
       "      <td>1</td>\n",
       "      <td>3</td>\n",
       "      <td>-213.250</td>\n",
       "      <td>38.94</td>\n",
       "      <td>Highland Park</td>\n",
       "      <td>Central</td>\n",
       "      <td>Office Supplies</td>\n",
       "      <td>Storage &amp; Organization</td>\n",
       "      <td>Eldon Base for stackable storage shelf, platinum</td>\n",
       "    </tr>\n",
       "    <tr>\n",
       "      <th>1</th>\n",
       "      <td>2</td>\n",
       "      <td>6</td>\n",
       "      <td>-4.640</td>\n",
       "      <td>2.08</td>\n",
       "      <td>Edmonds</td>\n",
       "      <td>West</td>\n",
       "      <td>Office Supplies</td>\n",
       "      <td>Scissors, Rulers and Trimmers</td>\n",
       "      <td>Kleencut® Forged Office Shears by Acme United ...</td>\n",
       "    </tr>\n",
       "    <tr>\n",
       "      <th>2</th>\n",
       "      <td>3</td>\n",
       "      <td>32</td>\n",
       "      <td>1054.820</td>\n",
       "      <td>107.53</td>\n",
       "      <td>Elk Plain</td>\n",
       "      <td>West</td>\n",
       "      <td>Furniture</td>\n",
       "      <td>Office Furnishings</td>\n",
       "      <td>Tenex Contemporary Contur Chairmats for Low an...</td>\n",
       "    </tr>\n",
       "    <tr>\n",
       "      <th>3</th>\n",
       "      <td>4</td>\n",
       "      <td>32</td>\n",
       "      <td>-1748.560</td>\n",
       "      <td>70.89</td>\n",
       "      <td>Elk Plain</td>\n",
       "      <td>West</td>\n",
       "      <td>Furniture</td>\n",
       "      <td>Tables</td>\n",
       "      <td>KI Conference Tables</td>\n",
       "    </tr>\n",
       "    <tr>\n",
       "      <th>4</th>\n",
       "      <td>5</td>\n",
       "      <td>32</td>\n",
       "      <td>-85.129</td>\n",
       "      <td>7.99</td>\n",
       "      <td>Elk Plain</td>\n",
       "      <td>West</td>\n",
       "      <td>Technology</td>\n",
       "      <td>Telephones and Communication</td>\n",
       "      <td>Bell Sonecor JB700 Caller ID</td>\n",
       "    </tr>\n",
       "  </tbody>\n",
       "</table>\n",
       "</div>"
      ],
      "text/plain": [
       "   Row ID  Order ID    Profit  Unit Price           City   Region  \\\n",
       "0       1         3  -213.250       38.94  Highland Park  Central   \n",
       "1       2         6    -4.640        2.08        Edmonds     West   \n",
       "2       3        32  1054.820      107.53      Elk Plain     West   \n",
       "3       4        32 -1748.560       70.89      Elk Plain     West   \n",
       "4       5        32   -85.129        7.99      Elk Plain     West   \n",
       "\n",
       "  Product Category           Product Sub-Category  \\\n",
       "0  Office Supplies         Storage & Organization   \n",
       "1  Office Supplies  Scissors, Rulers and Trimmers   \n",
       "2        Furniture             Office Furnishings   \n",
       "3        Furniture                         Tables   \n",
       "4       Technology   Telephones and Communication   \n",
       "\n",
       "                                        Product Name  \n",
       "0   Eldon Base for stackable storage shelf, platinum  \n",
       "1  Kleencut® Forged Office Shears by Acme United ...  \n",
       "2  Tenex Contemporary Contur Chairmats for Low an...  \n",
       "3                               KI Conference Tables  \n",
       "4                       Bell Sonecor JB700 Caller ID  "
      ]
     },
     "execution_count": 310,
     "metadata": {},
     "output_type": "execute_result"
    }
   ],
   "source": [
    "df_order[['Row ID', 'Order ID', 'Profit', 'Unit Price',\n",
    "          'City', 'Region', 'Product Category', 'Product Sub-Category', 'Product Name']].head()"
   ]
  },
  {
   "cell_type": "code",
   "execution_count": 313,
   "metadata": {},
   "outputs": [
    {
     "data": {
      "text/plain": [
       "Region   Product Category\n",
       "Central  Furniture            32442.474940\n",
       "         Office Supplies     162819.102000\n",
       "         Technology          286629.666400\n",
       "East     Furniture            -5285.308659\n",
       "         Office Supplies     138124.080500\n",
       "         Technology          185013.272500\n",
       "South    Furniture            41339.010000\n",
       "         Office Supplies     113316.691500\n",
       "         Technology          267851.410100\n",
       "West     Furniture            48936.810000\n",
       "         Office Supplies     103761.584000\n",
       "         Technology          146819.166300\n",
       "Name: Profit, dtype: float64"
      ]
     },
     "execution_count": 313,
     "metadata": {},
     "output_type": "execute_result"
    }
   ],
   "source": [
    "df_profit_region = df_order.groupby(['Region', 'Product Category']).sum()['Profit']\n",
    "df_profit_region"
   ]
  },
  {
   "cell_type": "code",
   "execution_count": 359,
   "metadata": {},
   "outputs": [
    {
     "data": {
      "text/html": [
       "<div>\n",
       "<style scoped>\n",
       "    .dataframe tbody tr th:only-of-type {\n",
       "        vertical-align: middle;\n",
       "    }\n",
       "\n",
       "    .dataframe tbody tr th {\n",
       "        vertical-align: top;\n",
       "    }\n",
       "\n",
       "    .dataframe thead th {\n",
       "        text-align: right;\n",
       "    }\n",
       "</style>\n",
       "<table border=\"1\" class=\"dataframe\">\n",
       "  <thead>\n",
       "    <tr style=\"text-align: right;\">\n",
       "      <th>Product Category</th>\n",
       "      <th>Furniture</th>\n",
       "      <th>Office Supplies</th>\n",
       "      <th>Technology</th>\n",
       "    </tr>\n",
       "    <tr>\n",
       "      <th>Region</th>\n",
       "      <th></th>\n",
       "      <th></th>\n",
       "      <th></th>\n",
       "    </tr>\n",
       "  </thead>\n",
       "  <tbody>\n",
       "    <tr>\n",
       "      <th>Central</th>\n",
       "      <td>32442.474940</td>\n",
       "      <td>162819.1020</td>\n",
       "      <td>286629.6664</td>\n",
       "    </tr>\n",
       "    <tr>\n",
       "      <th>East</th>\n",
       "      <td>-5285.308659</td>\n",
       "      <td>138124.0805</td>\n",
       "      <td>185013.2725</td>\n",
       "    </tr>\n",
       "    <tr>\n",
       "      <th>South</th>\n",
       "      <td>41339.010000</td>\n",
       "      <td>113316.6915</td>\n",
       "      <td>267851.4101</td>\n",
       "    </tr>\n",
       "    <tr>\n",
       "      <th>West</th>\n",
       "      <td>48936.810000</td>\n",
       "      <td>103761.5840</td>\n",
       "      <td>146819.1663</td>\n",
       "    </tr>\n",
       "  </tbody>\n",
       "</table>\n",
       "</div>"
      ],
      "text/plain": [
       "Product Category     Furniture  Office Supplies   Technology\n",
       "Region                                                      \n",
       "Central           32442.474940      162819.1020  286629.6664\n",
       "East              -5285.308659      138124.0805  185013.2725\n",
       "South             41339.010000      113316.6915  267851.4101\n",
       "West              48936.810000      103761.5840  146819.1663"
      ]
     },
     "execution_count": 359,
     "metadata": {},
     "output_type": "execute_result"
    }
   ],
   "source": [
    "df_region_profit = df_profit_region.unstack()\n",
    "df_region_profit"
   ]
  },
  {
   "cell_type": "markdown",
   "metadata": {},
   "source": [
    "### Visualization"
   ]
  },
  {
   "cell_type": "markdown",
   "metadata": {},
   "source": [
    "#### 1. Map the amount of high-priority shipments within 2010 on a timeline."
   ]
  },
  {
   "cell_type": "code",
   "execution_count": 236,
   "metadata": {},
   "outputs": [
    {
     "data": {
      "text/plain": [
       "Ship Date\n",
       "2010-01-03    1\n",
       "2010-01-04    1\n",
       "2010-01-05    4\n",
       "Name: Row ID, dtype: int64"
      ]
     },
     "execution_count": 236,
     "metadata": {},
     "output_type": "execute_result"
    }
   ],
   "source": [
    "shipment_amount_2010.head(3)"
   ]
  },
  {
   "cell_type": "code",
   "execution_count": 235,
   "metadata": {},
   "outputs": [
    {
     "data": {
      "image/png": "[encoded data removed]",
      "text/plain": [
       "<Figure size 1440x288 with 1 Axes>"
      ]
     },
     "metadata": {
      "needs_background": "light"
     },
     "output_type": "display_data"
    }
   ],
   "source": [
    "fig, ax = plt.subplots(figsize= (20, 4))\n",
    "ax.plot(shipment_amount_2010.index, \n",
    "        shipment_amount_2010.values,\n",
    "        label = '2010')\n",
    "\n",
    "plt.xticks(rotation= 45, fontsize= 10)\n",
    "plt.ylabel('Shipment Amount', fontsize = 12)\n",
    "plt.title('2010 Shipment Amount (Daily)', fontsize= 18)\n",
    "\n",
    "ax.legend()\n",
    "plt.show()"
   ]
  },
  {
   "cell_type": "code",
   "execution_count": 237,
   "metadata": {},
   "outputs": [
    {
     "data": {
      "text/plain": [
       "Ship Month\n",
       "1    47\n",
       "2    25\n",
       "3    18\n",
       "Name: Row ID, dtype: int64"
      ]
     },
     "execution_count": 237,
     "metadata": {},
     "output_type": "execute_result"
    }
   ],
   "source": [
    "shipment_amount_2010_monthly.head(3)"
   ]
  },
  {
   "cell_type": "code",
   "execution_count": 233,
   "metadata": {},
   "outputs": [
    {
     "data": {
      "image/png": "[encoded data removed]",
      "text/plain": [
       "<Figure size 1440x288 with 1 Axes>"
      ]
     },
     "metadata": {
      "needs_background": "light"
     },
     "output_type": "display_data"
    }
   ],
   "source": [
    "fig, ax = plt.subplots(figsize= (20, 4))\n",
    "ax.plot(shipment_amount_2010_monthly.index, \n",
    "        shipment_amount_2010_monthly.values,\n",
    "        label = '2010')\n",
    "\n",
    "plt.xticks(rotation= 45, fontsize= 12)\n",
    "plt.ylabel('Shipment Amount', fontsize = 12)\n",
    "plt.title('2010 Shipment Amount (Monthly)', fontsize= 18)\n",
    "\n",
    "ax.legend()\n",
    "plt.show()"
   ]
  },
  {
   "cell_type": "markdown",
   "metadata": {},
   "source": [
    "#### 2. Graph out the minimum and maximum shipping costs per container type."
   ]
  },
  {
   "cell_type": "code",
   "execution_count": 230,
   "metadata": {},
   "outputs": [
    {
     "data": {
      "text/html": [
       "<div>\n",
       "<style scoped>\n",
       "    .dataframe tbody tr th:only-of-type {\n",
       "        vertical-align: middle;\n",
       "    }\n",
       "\n",
       "    .dataframe tbody tr th {\n",
       "        vertical-align: top;\n",
       "    }\n",
       "\n",
       "    .dataframe thead th {\n",
       "        text-align: right;\n",
       "    }\n",
       "</style>\n",
       "<table border=\"1\" class=\"dataframe\">\n",
       "  <thead>\n",
       "    <tr style=\"text-align: right;\">\n",
       "      <th></th>\n",
       "      <th>max_price</th>\n",
       "      <th>min_price</th>\n",
       "    </tr>\n",
       "    <tr>\n",
       "      <th>Product Container</th>\n",
       "      <th></th>\n",
       "      <th></th>\n",
       "    </tr>\n",
       "  </thead>\n",
       "  <tbody>\n",
       "    <tr>\n",
       "      <th>Jumbo Box</th>\n",
       "      <td>154.12</td>\n",
       "      <td>0.50</td>\n",
       "    </tr>\n",
       "    <tr>\n",
       "      <th>Jumbo Drum</th>\n",
       "      <td>164.73</td>\n",
       "      <td>0.75</td>\n",
       "    </tr>\n",
       "    <tr>\n",
       "      <th>Large Box</th>\n",
       "      <td>69.00</td>\n",
       "      <td>3.97</td>\n",
       "    </tr>\n",
       "    <tr>\n",
       "      <th>Medium Box</th>\n",
       "      <td>58.66</td>\n",
       "      <td>0.99</td>\n",
       "    </tr>\n",
       "    <tr>\n",
       "      <th>Small Box</th>\n",
       "      <td>57.87</td>\n",
       "      <td>0.49</td>\n",
       "    </tr>\n",
       "    <tr>\n",
       "      <th>Small Pack</th>\n",
       "      <td>54.95</td>\n",
       "      <td>0.99</td>\n",
       "    </tr>\n",
       "    <tr>\n",
       "      <th>Wrap Bag</th>\n",
       "      <td>37.58</td>\n",
       "      <td>0.70</td>\n",
       "    </tr>\n",
       "  </tbody>\n",
       "</table>\n",
       "</div>"
      ],
      "text/plain": [
       "                   max_price  min_price\n",
       "Product Container                      \n",
       "Jumbo Box             154.12       0.50\n",
       "Jumbo Drum            164.73       0.75\n",
       "Large Box              69.00       3.97\n",
       "Medium Box             58.66       0.99\n",
       "Small Box              57.87       0.49\n",
       "Small Pack             54.95       0.99\n",
       "Wrap Bag               37.58       0.70"
      ]
     },
     "execution_count": 230,
     "metadata": {},
     "output_type": "execute_result"
    }
   ],
   "source": [
    "df_container_price_range"
   ]
  },
  {
   "cell_type": "code",
   "execution_count": 420,
   "metadata": {},
   "outputs": [
    {
     "data": {
      "image/png": "[encoded data removed]",
      "text/plain": [
       "<Figure size 576x720 with 2 Axes>"
      ]
     },
     "metadata": {
      "needs_background": "light"
     },
     "output_type": "display_data"
    }
   ],
   "source": [
    "# the x locations for the bar groups \n",
    "ind = np.arange(len(df_container_price_range))\n",
    "# the width of the bars\n",
    "width = 0.35\n",
    "\n",
    "fig, ax = plt.subplots(2, figsize= (8, 10))\n",
    "fig.subplots_adjust(hspace=0.5)\n",
    "\n",
    "ax[0].bar(ind - width / 2, df_container_price_range['min_price'], width, label= 'Min')\n",
    "ax[0].bar(ind + width / 2, df_container_price_range['max_price'], width, label= 'Max')\n",
    "ax[0].set_ylabel('Price')\n",
    "ax[0].set_title('Container price by max and min Price')\n",
    "ax[0].set_xticks(ind)\n",
    "ax[0].set_xticklabels(df_container_price_range.index)\n",
    "ax[0].legend()\n",
    "\n",
    "ax[1].bar(ind - width / 2, df_container_price_range['min_price'], width, label= 'Min')\n",
    "ax[1].bar(ind + width / 2, df_container_price_range['max_price'], width, label= 'Max')\n",
    "# ax[1].margins(x=-0.02, y = -0.49)\n",
    "ax[1].axis([-0.75, 7, 0, 6])\n",
    "\n",
    "ax[1].set_ylabel('Price')\n",
    "ax[1].set_title('Container price by max and min price')\n",
    "ax[1].set_xticks(ind)\n",
    "ax[1].set_xticklabels(df_container_price_range.index)\n",
    "ax[1].legend()\n",
    "ax[1].set_title('Zoom in the region of min price')\n",
    "\n",
    "plt.show()"
   ]
  },
  {
   "cell_type": "code",
   "execution_count": null,
   "metadata": {},
   "outputs": [],
   "source": []
  },
  {
   "cell_type": "markdown",
   "metadata": {},
   "source": [
    "#### 3. Compare profits per category amongst the different regions (Docu to help you is to be found [here](https://matplotlib.org/gallery/lines_bars_and_markers/barchart.html#sphx-glr-gallery-lines-bars-and-markers-barchart-py))."
   ]
  },
  {
   "cell_type": "code",
   "execution_count": 360,
   "metadata": {},
   "outputs": [
    {
     "data": {
      "text/html": [
       "<div>\n",
       "<style scoped>\n",
       "    .dataframe tbody tr th:only-of-type {\n",
       "        vertical-align: middle;\n",
       "    }\n",
       "\n",
       "    .dataframe tbody tr th {\n",
       "        vertical-align: top;\n",
       "    }\n",
       "\n",
       "    .dataframe thead th {\n",
       "        text-align: right;\n",
       "    }\n",
       "</style>\n",
       "<table border=\"1\" class=\"dataframe\">\n",
       "  <thead>\n",
       "    <tr style=\"text-align: right;\">\n",
       "      <th>Product Category</th>\n",
       "      <th>Furniture</th>\n",
       "      <th>Office Supplies</th>\n",
       "      <th>Technology</th>\n",
       "    </tr>\n",
       "    <tr>\n",
       "      <th>Region</th>\n",
       "      <th></th>\n",
       "      <th></th>\n",
       "      <th></th>\n",
       "    </tr>\n",
       "  </thead>\n",
       "  <tbody>\n",
       "    <tr>\n",
       "      <th>Central</th>\n",
       "      <td>32442.474940</td>\n",
       "      <td>162819.1020</td>\n",
       "      <td>286629.6664</td>\n",
       "    </tr>\n",
       "    <tr>\n",
       "      <th>East</th>\n",
       "      <td>-5285.308659</td>\n",
       "      <td>138124.0805</td>\n",
       "      <td>185013.2725</td>\n",
       "    </tr>\n",
       "    <tr>\n",
       "      <th>South</th>\n",
       "      <td>41339.010000</td>\n",
       "      <td>113316.6915</td>\n",
       "      <td>267851.4101</td>\n",
       "    </tr>\n",
       "    <tr>\n",
       "      <th>West</th>\n",
       "      <td>48936.810000</td>\n",
       "      <td>103761.5840</td>\n",
       "      <td>146819.1663</td>\n",
       "    </tr>\n",
       "  </tbody>\n",
       "</table>\n",
       "</div>"
      ],
      "text/plain": [
       "Product Category     Furniture  Office Supplies   Technology\n",
       "Region                                                      \n",
       "Central           32442.474940      162819.1020  286629.6664\n",
       "East              -5285.308659      138124.0805  185013.2725\n",
       "South             41339.010000      113316.6915  267851.4101\n",
       "West              48936.810000      103761.5840  146819.1663"
      ]
     },
     "execution_count": 360,
     "metadata": {},
     "output_type": "execute_result"
    }
   ],
   "source": [
    "df_region_profit"
   ]
  },
  {
   "cell_type": "code",
   "execution_count": 430,
   "metadata": {},
   "outputs": [
    {
     "data": {
      "image/png": "[encoded data removed]",
      "text/plain": [
       "<Figure size 576x720 with 2 Axes>"
      ]
     },
     "metadata": {
      "needs_background": "light"
     },
     "output_type": "display_data"
    }
   ],
   "source": [
    "ind = np.arange(len(df_region_profit))\n",
    "width = 0.3\n",
    "\n",
    "fig, ax = plt.subplots(2, figsize= (8, 10))\n",
    "ax[0].bar(ind - width, df_region_profit['Furniture'], width, label= 'furniture')\n",
    "ax[0].bar(ind, df_region_profit['Office Supplies'], width, label= 'Office Supplies')\n",
    "ax[0].bar(ind + width, df_region_profit['Technology'], width, label= 'Technology')\n",
    "ax[0].set_xticks(ind)\n",
    "ax[0].set_xticklabels(df_region_profit.index)\n",
    "ax[0].set_ylabel('Profit', fontsize = 12)\n",
    "ax[0].legend()\n",
    "ax[0].set_title('Profits of product category', fontsize= 18)\n",
    "\n",
    "ax[1].bar(ind - width, df_region_profit['Furniture'], width, label= 'furniture')\n",
    "ax[1].bar(ind, df_region_profit['Office Supplies'], width, label= 'Office Supplies')\n",
    "ax[1].bar(ind + width, df_region_profit['Technology'], width, label= 'Technology')\n",
    "ax[1].axis([-0.75, 4, -7000, 10000])\n",
    "# ax[1].axis([-0.75, 7, 0, 6])\n",
    "ax[1].set_xticks(ind)\n",
    "ax[1].set_xticklabels(df_region_profit.index)\n",
    "ax[1].set_ylabel('Profit', fontsize = 12)\n",
    "ax[1].legend()\n",
    "ax[1].set_title('Zoom in the negative part of profits', fontsize= 18)\n",
    "\n",
    "plt.show()"
   ]
  },
  {
   "cell_type": "markdown",
   "metadata": {},
   "source": [
    "### Qlik Visualization"
   ]
  },
  {
   "cell_type": "markdown",
   "metadata": {},
   "source": [
    "#### 1. Map the amount of high-priority shipments within 2010 on a timeline."
   ]
  },
  {
   "cell_type": "markdown",
   "metadata": {},
   "source": [
    "![high priority shipments within 2010](qlik_high_priority_shipment_amount.png)"
   ]
  },
  {
   "cell_type": "markdown",
   "metadata": {},
   "source": [
    "#### 2. Graph out the minimum and maximum shipping costs per container type."
   ]
  },
  {
   "cell_type": "markdown",
   "metadata": {},
   "source": [
    "![Max and Min shipping costs per container type](qlik_container_cost_max_min.png)"
   ]
  },
  {
   "cell_type": "markdown",
   "metadata": {},
   "source": [
    "#### 3. Compare profits per category amongst the different regions (Docu to help you is to be found [here](https://matplotlib.org/gallery/lines_bars_and_markers/barchart.html#sphx-glr-gallery-lines-bars-and-markers-barchart-py))."
   ]
  },
  {
   "cell_type": "markdown",
   "metadata": {},
   "source": [
    "![Profits of different product categroty (regions)](qlik_profits_product_category.png)"
   ]
  }
 ],
 "metadata": {
  "kernelspec": {
   "display_name": "Python 3",
   "language": "python",
   "name": "python3"
  },
  "language_info": {
   "codemirror_mode": {
    "name": "ipython",
    "version": 3
   },
   "file_extension": ".py",
   "mimetype": "text/x-python",
   "name": "python",
   "nbconvert_exporter": "python",
   "pygments_lexer": "ipython3",
   "version": "3.7.3"
  },
  "toc": {
   "base_numbering": 1,
   "nav_menu": {},
   "number_sections": true,
   "sideBar": false,
   "skip_h1_title": false,
   "title_cell": "Table of Contents",
   "title_sidebar": "Contents",
   "toc_cell": true,
   "toc_position": {
    "height": "486.989px",
    "left": "44.9943px",
    "top": "117.557px",
    "width": "165px"
   },
   "toc_section_display": false,
   "toc_window_display": true
  },
  "varInspector": {
   "cols": {
    "lenName": 16,
    "lenType": 16,
    "lenVar": 40
   },
   "kernels_config": {
    "python": {
     "delete_cmd_postfix": "",
     "delete_cmd_prefix": "del ",
     "library": "var_list.py",
     "varRefreshCmd": "print(var_dic_list())"
    },
    "r": {
     "delete_cmd_postfix": ") ",
     "delete_cmd_prefix": "rm(",
     "library": "var_list.r",
     "varRefreshCmd": "cat(var_dic_list()) "
    }
   },
   "oldHeight": 122.69881799999999,
   "position": {
    "height": "40px",
    "left": "669.778px",
    "right": "20px",
    "top": "19.9688px",
    "width": "492.486px"
   },
   "types_to_exclude": [
    "module",
    "function",
    "builtin_function_or_method",
    "instance",
    "_Feature"
   ],
   "varInspector_section_display": "none",
   "window_display": true
  }
 },
 "nbformat": 4,
 "nbformat_minor": 2
}
