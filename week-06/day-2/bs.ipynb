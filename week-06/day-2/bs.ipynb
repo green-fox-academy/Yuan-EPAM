{
 "cells": [
  {
   "cell_type": "markdown",
   "metadata": {
    "toc": true
   },
   "source": [
    "<h1>Table of Contents<span class=\"tocSkip\"></span></h1>\n",
    "<div class=\"toc\"><ul class=\"toc-item\"><li><span><a href=\"#Get-web-page-and-save-the-response-to-local\" data-toc-modified-id=\"Get-web-page-and-save-the-response-to-local-1\"><span class=\"toc-item-num\">1&nbsp;&nbsp;</span>Get web page and save the response to local</a></span></li><li><span><a href=\"#Read-webpage-from-local\" data-toc-modified-id=\"Read-webpage-from-local-2\"><span class=\"toc-item-num\">2&nbsp;&nbsp;</span>Read webpage from local</a></span></li><li><span><a href=\"#Extract-Data\" data-toc-modified-id=\"Extract-Data-3\"><span class=\"toc-item-num\">3&nbsp;&nbsp;</span>Extract Data</a></span></li></ul></div>"
   ]
  },
  {
   "cell_type": "code",
   "execution_count": 128,
   "metadata": {},
   "outputs": [],
   "source": [
    "import json\n",
    "\n",
    "import requests\n",
    "from bs4 import BeautifulSoup\n",
    "import urllib\n",
    "\n",
    "import pandas as pd\n",
    "from pandas.io.json import json_normalize"
   ]
  },
  {
   "cell_type": "markdown",
   "metadata": {},
   "source": [
    "#### Get web page and save the response to local"
   ]
  },
  {
   "cell_type": "code",
   "execution_count": 115,
   "metadata": {},
   "outputs": [],
   "source": [
    "\"\"\"\n",
    "Webpage URLs\n",
    "\"\"\"\n",
    "url_alza_laptop_home_and_office = 'https://www.alza.co.uk/basic-home-and-office-laptops/18843464.htm'\n",
    "url_alza_laptop_gaming = 'https://www.alza.co.uk/gaming-laptops/18848814.htm'\n",
    "url_alza_laptop_professional = 'https://www.alza.co.uk/professional-laptops/18853299.htm'\n",
    "\n",
    "\"\"\"\n",
    "Local paths to store webpages\n",
    "\"\"\"\n",
    "local_path_alza_laptop_home_and_office = './basic-home-and-office-laptops.html'\n",
    "local_path_alza_laptop_gaming = './gaming-laptops.html'\n",
    "local_path_alza_laptop_professional = './professional-laptops.html'"
   ]
  },
  {
   "cell_type": "code",
   "execution_count": 114,
   "metadata": {},
   "outputs": [],
   "source": [
    "def scrape2local(url, path_des):\n",
    "    file_obj = requests.get(url)\n",
    "    with open(path_des, 'w', encoding= 'utf-8') as f:\n",
    "        f.write(file_obj.content.decode('utf-8'))"
   ]
  },
  {
   "cell_type": "code",
   "execution_count": 119,
   "metadata": {},
   "outputs": [],
   "source": [
    "# ONLY NEED TO EXECUTE ONCE\n",
    "# scrape2local(url_alza_laptop_home_and_office, local_path_alza_laptop_home_and_office)\n",
    "# scrape2local(url_alza_laptop_gaming, local_path_alza_laptop_gaming)\n",
    "# scrape2local(url_alza_laptop_professional, local_path_alza_laptop_professional)"
   ]
  },
  {
   "cell_type": "markdown",
   "metadata": {},
   "source": [
    "#### Read webpage from local"
   ]
  },
  {
   "cell_type": "code",
   "execution_count": 123,
   "metadata": {},
   "outputs": [],
   "source": [
    "with open(local_path_alza_laptop_home_and_office, 'r', encoding='utf-8') as file_HO:\n",
    "    html_HO = file_HO.read()"
   ]
  },
  {
   "cell_type": "code",
   "execution_count": 124,
   "metadata": {},
   "outputs": [],
   "source": [
    "with open(local_path_alza_laptop_gaming, 'r', encoding='utf-8') as file_G:\n",
    "    html_G = file_G.read()"
   ]
  },
  {
   "cell_type": "code",
   "execution_count": 125,
   "metadata": {},
   "outputs": [],
   "source": [
    "with open(local_path_alza_laptop_professional, 'r', encoding='utf-8') as file_P:\n",
    "    html_P = file_P.read()"
   ]
  },
  {
   "cell_type": "code",
   "execution_count": 126,
   "metadata": {},
   "outputs": [],
   "source": [
    "soup_HO = BeautifulSoup(html_HO, 'lxml')\n",
    "soup_G = BeautifulSoup(html_G, 'lxml')\n",
    "soup_P = BeautifulSoup(html_P, 'lxml')"
   ]
  },
  {
   "cell_type": "markdown",
   "metadata": {},
   "source": [
    "#### Extract Data"
   ]
  },
  {
   "cell_type": "code",
   "execution_count": 174,
   "metadata": {},
   "outputs": [
    {
     "data": {
      "text/html": [
       "<div>\n",
       "<style scoped>\n",
       "    .dataframe tbody tr th:only-of-type {\n",
       "        vertical-align: middle;\n",
       "    }\n",
       "\n",
       "    .dataframe tbody tr th {\n",
       "        vertical-align: top;\n",
       "    }\n",
       "\n",
       "    .dataframe thead th {\n",
       "        text-align: right;\n",
       "    }\n",
       "</style>\n",
       "<table border=\"1\" class=\"dataframe\">\n",
       "  <thead>\n",
       "    <tr style=\"text-align: right;\">\n",
       "      <th></th>\n",
       "      <th>name</th>\n",
       "      <th>category</th>\n",
       "      <th>rank</th>\n",
       "    </tr>\n",
       "  </thead>\n",
       "  <tbody>\n",
       "  </tbody>\n",
       "</table>\n",
       "</div>"
      ],
      "text/plain": [
       "Empty DataFrame\n",
       "Columns: [name, category, rank]\n",
       "Index: []"
      ]
     },
     "execution_count": 174,
     "metadata": {},
     "output_type": "execute_result"
    }
   ],
   "source": [
    "cols = ['name', 'category', 'rank']\n",
    "df_laptop = pd.DataFrame(columns= cols)\n",
    "df_laptop"
   ]
  },
  {
   "cell_type": "code",
   "execution_count": 180,
   "metadata": {},
   "outputs": [
    {
     "ename": "TypeError",
     "evalue": "first argument must be an iterable of pandas objects, you passed an object of type \"DataFrame\"",
     "output_type": "error",
     "traceback": [
      "\u001b[1;31m---------------------------------------------------------------------------\u001b[0m",
      "\u001b[1;31mTypeError\u001b[0m                                 Traceback (most recent call last)",
      "\u001b[1;32m<ipython-input-180-6e8cfa539d20>\u001b[0m in \u001b[0;36m<module>\u001b[1;34m\u001b[0m\n\u001b[0;32m     13\u001b[0m \u001b[1;33m\u001b[0m\u001b[0m\n\u001b[0;32m     14\u001b[0m pd.concat(df_laptop, extract_top3(soup_HO, 'home_and_office', cols), \n\u001b[1;32m---> 15\u001b[1;33m                              ignore_index= True)\n\u001b[0m\u001b[0;32m     16\u001b[0m \u001b[1;31m# df_laptop = df_laptop.append(extract_top3(soup_G, 'gaming', cols),\u001b[0m\u001b[1;33m\u001b[0m\u001b[1;33m\u001b[0m\u001b[1;33m\u001b[0m\u001b[0m\n\u001b[0;32m     17\u001b[0m \u001b[1;31m#                             ignore_index= True)\u001b[0m\u001b[1;33m\u001b[0m\u001b[1;33m\u001b[0m\u001b[1;33m\u001b[0m\u001b[0m\n",
      "\u001b[1;32m~\\AppData\\Local\\Continuum\\anaconda3\\envs\\dsa\\lib\\site-packages\\pandas\\core\\reshape\\concat.py\u001b[0m in \u001b[0;36mconcat\u001b[1;34m(objs, axis, join, join_axes, ignore_index, keys, levels, names, verify_integrity, sort, copy)\u001b[0m\n\u001b[0;32m    226\u001b[0m                        \u001b[0mkeys\u001b[0m\u001b[1;33m=\u001b[0m\u001b[0mkeys\u001b[0m\u001b[1;33m,\u001b[0m \u001b[0mlevels\u001b[0m\u001b[1;33m=\u001b[0m\u001b[0mlevels\u001b[0m\u001b[1;33m,\u001b[0m \u001b[0mnames\u001b[0m\u001b[1;33m=\u001b[0m\u001b[0mnames\u001b[0m\u001b[1;33m,\u001b[0m\u001b[1;33m\u001b[0m\u001b[1;33m\u001b[0m\u001b[0m\n\u001b[0;32m    227\u001b[0m                        \u001b[0mverify_integrity\u001b[0m\u001b[1;33m=\u001b[0m\u001b[0mverify_integrity\u001b[0m\u001b[1;33m,\u001b[0m\u001b[1;33m\u001b[0m\u001b[1;33m\u001b[0m\u001b[0m\n\u001b[1;32m--> 228\u001b[1;33m                        copy=copy, sort=sort)\n\u001b[0m\u001b[0;32m    229\u001b[0m     \u001b[1;32mreturn\u001b[0m \u001b[0mop\u001b[0m\u001b[1;33m.\u001b[0m\u001b[0mget_result\u001b[0m\u001b[1;33m(\u001b[0m\u001b[1;33m)\u001b[0m\u001b[1;33m\u001b[0m\u001b[1;33m\u001b[0m\u001b[0m\n\u001b[0;32m    230\u001b[0m \u001b[1;33m\u001b[0m\u001b[0m\n",
      "\u001b[1;32m~\\AppData\\Local\\Continuum\\anaconda3\\envs\\dsa\\lib\\site-packages\\pandas\\core\\reshape\\concat.py\u001b[0m in \u001b[0;36m__init__\u001b[1;34m(self, objs, axis, join, join_axes, keys, levels, names, ignore_index, verify_integrity, copy, sort)\u001b[0m\n\u001b[0;32m    242\u001b[0m             raise TypeError('first argument must be an iterable of pandas '\n\u001b[0;32m    243\u001b[0m                             \u001b[1;34m'objects, you passed an object of type '\u001b[0m\u001b[1;33m\u001b[0m\u001b[1;33m\u001b[0m\u001b[0m\n\u001b[1;32m--> 244\u001b[1;33m                             '\"{name}\"'.format(name=type(objs).__name__))\n\u001b[0m\u001b[0;32m    245\u001b[0m \u001b[1;33m\u001b[0m\u001b[0m\n\u001b[0;32m    246\u001b[0m         \u001b[1;32mif\u001b[0m \u001b[0mjoin\u001b[0m \u001b[1;33m==\u001b[0m \u001b[1;34m'outer'\u001b[0m\u001b[1;33m:\u001b[0m\u001b[1;33m\u001b[0m\u001b[1;33m\u001b[0m\u001b[0m\n",
      "\u001b[1;31mTypeError\u001b[0m: first argument must be an iterable of pandas objects, you passed an object of type \"DataFrame\""
     ]
    }
   ],
   "source": [
    "def extract_top3(soup, category, cols):\n",
    "    item_results = soup.find('div', id = 'boxes')\n",
    "    item_results_top = item_results.find_all('div', class_='top')\n",
    "    rank_count = 1\n",
    "    res = []\n",
    "    for item in item_results_top[:3]:\n",
    "        laptop_name = item.find('a', class_= 'name').get_text()\n",
    "        res.append({cols[0] : laptop_name, \n",
    "                    cols[1] : category, \n",
    "                   cols[2] : rank_count})\n",
    "        rank_count += 1\n",
    "    return pd.DataFrame(data= res, columns= cols)\n",
    "        \n",
    "pd.concat(df_laptop, extract_top3(soup_HO, 'home_and_office', cols), \n",
    "                             ignore_index= True)\n",
    "# df_laptop = df_laptop.append(extract_top3(soup_G, 'gaming', cols),\n",
    "#                             ignore_index= True)\n",
    "# df_laptop = df_laptop.append(extract_top3(soup_P, 'professional', cols),\n",
    "#                             ignore_index= True)"
   ]
  },
  {
   "cell_type": "code",
   "execution_count": 176,
   "metadata": {},
   "outputs": [
    {
     "data": {
      "text/html": [
       "<div>\n",
       "<style scoped>\n",
       "    .dataframe tbody tr th:only-of-type {\n",
       "        vertical-align: middle;\n",
       "    }\n",
       "\n",
       "    .dataframe tbody tr th {\n",
       "        vertical-align: top;\n",
       "    }\n",
       "\n",
       "    .dataframe thead th {\n",
       "        text-align: right;\n",
       "    }\n",
       "</style>\n",
       "<table border=\"1\" class=\"dataframe\">\n",
       "  <thead>\n",
       "    <tr style=\"text-align: right;\">\n",
       "      <th></th>\n",
       "      <th>name</th>\n",
       "      <th>category</th>\n",
       "      <th>rank</th>\n",
       "    </tr>\n",
       "  </thead>\n",
       "  <tbody>\n",
       "    <tr>\n",
       "      <th>0</th>\n",
       "      <td>Microsoft Surface Go 128GB 8GB LTE</td>\n",
       "      <td>home_and_office</td>\n",
       "      <td>1</td>\n",
       "    </tr>\n",
       "    <tr>\n",
       "      <th>1</th>\n",
       "      <td>Dell Latitude 5590</td>\n",
       "      <td>home_and_office</td>\n",
       "      <td>2</td>\n",
       "    </tr>\n",
       "    <tr>\n",
       "      <th>2</th>\n",
       "      <td>Dell G7 17 (7790) Gaming Black</td>\n",
       "      <td>home_and_office</td>\n",
       "      <td>3</td>\n",
       "    </tr>\n",
       "    <tr>\n",
       "      <th>3</th>\n",
       "      <td>Lenovo IdeaPad 720s-15IKB Silver Metallic</td>\n",
       "      <td>gaming</td>\n",
       "      <td>1</td>\n",
       "    </tr>\n",
       "    <tr>\n",
       "      <th>4</th>\n",
       "      <td>Lenovo Legion Y530-15ICH Black</td>\n",
       "      <td>gaming</td>\n",
       "      <td>2</td>\n",
       "    </tr>\n",
       "    <tr>\n",
       "      <th>5</th>\n",
       "      <td>Dell G7 17 (7790) Gaming Black</td>\n",
       "      <td>gaming</td>\n",
       "      <td>3</td>\n",
       "    </tr>\n",
       "    <tr>\n",
       "      <th>6</th>\n",
       "      <td>Lenovo V330-14IKB Iron Grey</td>\n",
       "      <td>professional</td>\n",
       "      <td>1</td>\n",
       "    </tr>\n",
       "    <tr>\n",
       "      <th>7</th>\n",
       "      <td>Dell Latitude 5590</td>\n",
       "      <td>professional</td>\n",
       "      <td>2</td>\n",
       "    </tr>\n",
       "    <tr>\n",
       "      <th>8</th>\n",
       "      <td>Lenovo ThinkPad T480</td>\n",
       "      <td>professional</td>\n",
       "      <td>3</td>\n",
       "    </tr>\n",
       "  </tbody>\n",
       "</table>\n",
       "</div>"
      ],
      "text/plain": [
       "                                        name         category rank\n",
       "0         Microsoft Surface Go 128GB 8GB LTE  home_and_office    1\n",
       "1                         Dell Latitude 5590  home_and_office    2\n",
       "2             Dell G7 17 (7790) Gaming Black  home_and_office    3\n",
       "3  Lenovo IdeaPad 720s-15IKB Silver Metallic           gaming    1\n",
       "4             Lenovo Legion Y530-15ICH Black           gaming    2\n",
       "5             Dell G7 17 (7790) Gaming Black           gaming    3\n",
       "6                Lenovo V330-14IKB Iron Grey     professional    1\n",
       "7                         Dell Latitude 5590     professional    2\n",
       "8                       Lenovo ThinkPad T480     professional    3"
      ]
     },
     "execution_count": 176,
     "metadata": {},
     "output_type": "execute_result"
    }
   ],
   "source": [
    "df_laptop"
   ]
  },
  {
   "cell_type": "code",
   "execution_count": null,
   "metadata": {},
   "outputs": [],
   "source": []
  },
  {
   "cell_type": "code",
   "execution_count": null,
   "metadata": {},
   "outputs": [],
   "source": []
  }
 ],
 "metadata": {
  "kernelspec": {
   "display_name": "Python 3",
   "language": "python",
   "name": "python3"
  },
  "language_info": {
   "codemirror_mode": {
    "name": "ipython",
    "version": 3
   },
   "file_extension": ".py",
   "mimetype": "text/x-python",
   "name": "python",
   "nbconvert_exporter": "python",
   "pygments_lexer": "ipython3",
   "version": "3.7.3"
  },
  "toc": {
   "base_numbering": 1,
   "nav_menu": {},
   "number_sections": true,
   "sideBar": false,
   "skip_h1_title": false,
   "title_cell": "Table of Contents",
   "title_sidebar": "Contents",
   "toc_cell": true,
   "toc_position": {
    "height": "71px",
    "left": "806px",
    "top": "91px",
    "width": "161px"
   },
   "toc_section_display": false,
   "toc_window_display": true
  },
  "varInspector": {
   "cols": {
    "lenName": 16,
    "lenType": 16,
    "lenVar": 40
   },
   "kernels_config": {
    "python": {
     "delete_cmd_postfix": "",
     "delete_cmd_prefix": "del ",
     "library": "var_list.py",
     "varRefreshCmd": "print(var_dic_list())"
    },
    "r": {
     "delete_cmd_postfix": ") ",
     "delete_cmd_prefix": "rm(",
     "library": "var_list.r",
     "varRefreshCmd": "cat(var_dic_list()) "
    }
   },
   "types_to_exclude": [
    "module",
    "function",
    "builtin_function_or_method",
    "instance",
    "_Feature"
   ],
   "window_display": false
  }
 },
 "nbformat": 4,
 "nbformat_minor": 2
}
