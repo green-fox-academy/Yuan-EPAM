{
 "cells": [
  {
   "cell_type": "markdown",
   "metadata": {
    "toc": true
   },
   "source": [
    "<h1>Table of Contents<span class=\"tocSkip\"></span></h1>\n",
    "<div class=\"toc\"><ul class=\"toc-item\"><li><span><a href=\"#Request-Kiwi.com\" data-toc-modified-id=\"Request-Kiwi.com-1\"><span class=\"toc-item-num\">1&nbsp;&nbsp;</span>Request Kiwi.com</a></span><ul class=\"toc-item\"><li><span><a href=\"#Get-Data-and-loads\" data-toc-modified-id=\"Get-Data-and-loads-1.1\"><span class=\"toc-item-num\">1.1&nbsp;&nbsp;</span>Get Data and loads</a></span></li><li><span><a href=\"#Convert-json-to-dataframe\" data-toc-modified-id=\"Convert-json-to-dataframe-1.2\"><span class=\"toc-item-num\">1.2&nbsp;&nbsp;</span>Convert json to dataframe</a></span></li><li><span><a href=\"#Preprocessing\" data-toc-modified-id=\"Preprocessing-1.3\"><span class=\"toc-item-num\">1.3&nbsp;&nbsp;</span>Preprocessing</a></span></li><li><span><a href=\"#Flight-to-home\" data-toc-modified-id=\"Flight-to-home-1.4\"><span class=\"toc-item-num\">1.4&nbsp;&nbsp;</span>Flight to home</a></span></li></ul></li></ul></div>"
   ]
  },
  {
   "cell_type": "code",
   "execution_count": 260,
   "metadata": {},
   "outputs": [],
   "source": [
    "import requests\n",
    "import json\n",
    "\n",
    "import numpy as np\n",
    "import pandas as pd\n",
    "from pandas.io.json import json_normalize"
   ]
  },
  {
   "cell_type": "markdown",
   "metadata": {},
   "source": [
    "### Request Kiwi.com"
   ]
  },
  {
   "cell_type": "markdown",
   "metadata": {},
   "source": [
    "- From : Bristol, UK (airport: BRS (IATA)) <br>\n",
    "- To : Prague, CZ (airport: PRG (IATA)) <br>\n",
    "- When : within 5 days before 12.24 (between 12.19 - 12.23) <br>\n",
    "- Money : Less, better\n",
    "- Vehcile : aircraft (Options : train, bus)"
   ]
  },
  {
   "cell_type": "code",
   "execution_count": 259,
   "metadata": {},
   "outputs": [
    {
     "name": "stdout",
     "output_type": "stream",
     "text": [
      "{'adults': 1, 'partner': 'picky', 'date_from': '19/12/2019', 'date_to': '23/12/2019', 'fly_type': 'oneway', 'fly_from': 'BRS', 'fly_to': 'PRG', 'vehicle_type': 'aircraft', 'sort': 'price', 'max_stopovers': 0}\n"
     ]
    }
   ],
   "source": [
    "\"\"\"\n",
    "Initialization\n",
    "\"\"\"\n",
    "kiwi_endpoint = 'https://api.skypicker.com'\n",
    "kiwi_basic_endpoint = 'https://api.skypicker.com/flights'\n",
    "# kiwi_normal_endpoint = 'https://api.skypicker.com/traveling_salesman'\n",
    "\n",
    "data_para_flight = {\n",
    "    \"adults\": 1,\n",
    "    \"partner\" : \"picky\",\n",
    "    \"date_from\" : \"19/12/2019\",\n",
    "    \"date_to\" : \"23/12/2019\",\n",
    "    \"fly_type\" : \"oneway\",\n",
    "    \"fly_from\" : \"BRS\",\n",
    "    \"fly_to\" : \"PRG\",\n",
    "    \"vehicle_type\" : \"aircraft\",\n",
    "    \"sort\" : \"price\",\n",
    "    \"max_stopovers\" : 0\n",
    "}\n",
    "\n",
    "# data_para_train = {\n",
    "#     \"adults\": 1,\n",
    "#     \"partner\" : \"picky\",\n",
    "#     \"date_from\" : \"19/12/2019\",\n",
    "#     \"date_to\" : \"23/12/2019\",\n",
    "#     \"fly_type\" : \"oneway\",\n",
    "#     \"from\" : \"B\",\n",
    "#     \"to\" : \"LON\",\n",
    "#     \"vehicle_type\" : \"train\",\n",
    "#     \"sort\" : \"price\",\n",
    "#     \"max_stopovers\" : 2\n",
    "# }\n",
    "print(data_para_flight)\n",
    "# data = requests.get(url = kiwi_basic_endpoint, params= data_para)"
   ]
  },
  {
   "cell_type": "markdown",
   "metadata": {},
   "source": [
    "#### Get Data and loads"
   ]
  },
  {
   "cell_type": "code",
   "execution_count": 251,
   "metadata": {},
   "outputs": [],
   "source": [
    "data_flight = requests.get(url = kiwi_basic_endpoint, params= data_para_flight)\n",
    "json_data_flight = json.loads(data_flight.content)"
   ]
  },
  {
   "cell_type": "code",
   "execution_count": 252,
   "metadata": {},
   "outputs": [],
   "source": [
    "# data_train = requests.get(url = kiwi_basic_endpoint, params= data_para_train)\n",
    "# json_data_train = json.loads(data_train.content)\n",
    "# data_train"
   ]
  },
  {
   "cell_type": "markdown",
   "metadata": {},
   "source": [
    "#### Convert json to dataframe"
   ]
  },
  {
   "cell_type": "code",
   "execution_count": 253,
   "metadata": {},
   "outputs": [],
   "source": [
    "df_data_flight = json_normalize(json_data_flight['data'])"
   ]
  },
  {
   "cell_type": "code",
   "execution_count": 254,
   "metadata": {},
   "outputs": [
    {
     "data": {
      "text/plain": [
       "(5, 50)"
      ]
     },
     "execution_count": 254,
     "metadata": {},
     "output_type": "execute_result"
    }
   ],
   "source": [
    "df_data_flight.shape"
   ]
  },
  {
   "cell_type": "markdown",
   "metadata": {},
   "source": [
    "#### Preprocessing "
   ]
  },
  {
   "cell_type": "code",
   "execution_count": 255,
   "metadata": {},
   "outputs": [
    {
     "data": {
      "text/plain": [
       "Index(['aTime', 'aTimeUTC', 'airlines', 'baglimit.hand_height',\n",
       "       'baglimit.hand_length', 'baglimit.hand_weight', 'baglimit.hand_width',\n",
       "       'baglimit.hold_dimensions_sum', 'baglimit.hold_height',\n",
       "       'baglimit.hold_length', 'baglimit.hold_weight', 'baglimit.hold_width',\n",
       "       'bags_price.1', 'bags_price.2', 'booking_token', 'cityFrom', 'cityTo',\n",
       "       'conversion.EUR', 'countryFrom.code', 'countryFrom.name',\n",
       "       'countryTo.code', 'countryTo.name', 'dTime', 'dTimeUTC', 'deep_link',\n",
       "       'distance', 'duration.departure', 'duration.return', 'duration.total',\n",
       "       'facilitated_booking_available', 'flyFrom', 'flyTo', 'fly_duration',\n",
       "       'found_on', 'has_airport_change', 'id', 'mapIdfrom', 'mapIdto',\n",
       "       'nightsInDest', 'p1', 'p2', 'p3', 'pnr_count', 'price', 'quality',\n",
       "       'route', 'routes', 'transfers', 'type_flights', 'virtual_interlining'],\n",
       "      dtype='object')"
      ]
     },
     "execution_count": 255,
     "metadata": {},
     "output_type": "execute_result"
    }
   ],
   "source": [
    "df_data_flight.columns"
   ]
  },
  {
   "cell_type": "code",
   "execution_count": 256,
   "metadata": {},
   "outputs": [],
   "source": [
    "cols = np.array(['airlines', 'cityFrom', 'cityTo',\n",
    "                'conversion.EUR', 'dTimeUTC', 'duration.departure', 'duration.total', \n",
    "                 'price', 'quality', 'routes', 'type_flights'])\n",
    "df_flight = pd.DataFrame(df_data_flight[cols])\n",
    "# df_flight"
   ]
  },
  {
   "cell_type": "code",
   "execution_count": 257,
   "metadata": {},
   "outputs": [],
   "source": [
    "# Convert departure time (seconds) to datetime\n",
    "df_flight['date_time'] = pd.to_datetime(df_flight['dTimeUTC'], unit= 's')\n",
    "# Convert duration (seconds) to hours\n",
    "df_flight['duration_h'] = round(df_flight['duration.departure'] / 3600, 2)"
   ]
  },
  {
   "cell_type": "markdown",
   "metadata": {},
   "source": [
    "#### Flight to home"
   ]
  },
  {
   "cell_type": "code",
   "execution_count": 258,
   "metadata": {},
   "outputs": [
    {
     "data": {
      "text/html": [
       "<div>\n",
       "<style scoped>\n",
       "    .dataframe tbody tr th:only-of-type {\n",
       "        vertical-align: middle;\n",
       "    }\n",
       "\n",
       "    .dataframe tbody tr th {\n",
       "        vertical-align: top;\n",
       "    }\n",
       "\n",
       "    .dataframe thead th {\n",
       "        text-align: right;\n",
       "    }\n",
       "</style>\n",
       "<table border=\"1\" class=\"dataframe\">\n",
       "  <thead>\n",
       "    <tr style=\"text-align: right;\">\n",
       "      <th></th>\n",
       "      <th>airlines</th>\n",
       "      <th>cityFrom</th>\n",
       "      <th>cityTo</th>\n",
       "      <th>conversion.EUR</th>\n",
       "      <th>dTimeUTC</th>\n",
       "      <th>duration.departure</th>\n",
       "      <th>duration.total</th>\n",
       "      <th>price</th>\n",
       "      <th>quality</th>\n",
       "      <th>routes</th>\n",
       "      <th>type_flights</th>\n",
       "      <th>date_time</th>\n",
       "      <th>duration_h</th>\n",
       "    </tr>\n",
       "  </thead>\n",
       "  <tbody>\n",
       "    <tr>\n",
       "      <th>0</th>\n",
       "      <td>[U2]</td>\n",
       "      <td>Bristol</td>\n",
       "      <td>Prague</td>\n",
       "      <td>102</td>\n",
       "      <td>1577107200</td>\n",
       "      <td>7200</td>\n",
       "      <td>7200</td>\n",
       "      <td>102</td>\n",
       "      <td>129.99993</td>\n",
       "      <td>[[BRS, PRG]]</td>\n",
       "      <td>[lcc-U2]</td>\n",
       "      <td>2019-12-23 13:20:00</td>\n",
       "      <td>2.0</td>\n",
       "    </tr>\n",
       "    <tr>\n",
       "      <th>1</th>\n",
       "      <td>[U2]</td>\n",
       "      <td>Bristol</td>\n",
       "      <td>Prague</td>\n",
       "      <td>108</td>\n",
       "      <td>1576761600</td>\n",
       "      <td>7200</td>\n",
       "      <td>7200</td>\n",
       "      <td>108</td>\n",
       "      <td>135.99993</td>\n",
       "      <td>[[BRS, PRG]]</td>\n",
       "      <td>[lcc-U2]</td>\n",
       "      <td>2019-12-19 13:20:00</td>\n",
       "      <td>2.0</td>\n",
       "    </tr>\n",
       "    <tr>\n",
       "      <th>2</th>\n",
       "      <td>[U2]</td>\n",
       "      <td>Bristol</td>\n",
       "      <td>Prague</td>\n",
       "      <td>118</td>\n",
       "      <td>1576848000</td>\n",
       "      <td>7200</td>\n",
       "      <td>7200</td>\n",
       "      <td>118</td>\n",
       "      <td>145.99993</td>\n",
       "      <td>[[BRS, PRG]]</td>\n",
       "      <td>[lcc-U2]</td>\n",
       "      <td>2019-12-20 13:20:00</td>\n",
       "      <td>2.0</td>\n",
       "    </tr>\n",
       "    <tr>\n",
       "      <th>3</th>\n",
       "      <td>[U2]</td>\n",
       "      <td>Bristol</td>\n",
       "      <td>Prague</td>\n",
       "      <td>123</td>\n",
       "      <td>1577034900</td>\n",
       "      <td>7200</td>\n",
       "      <td>7200</td>\n",
       "      <td>123</td>\n",
       "      <td>150.99993</td>\n",
       "      <td>[[BRS, PRG]]</td>\n",
       "      <td>[lcc-U2]</td>\n",
       "      <td>2019-12-22 17:15:00</td>\n",
       "      <td>2.0</td>\n",
       "    </tr>\n",
       "    <tr>\n",
       "      <th>4</th>\n",
       "      <td>[U2]</td>\n",
       "      <td>Bristol</td>\n",
       "      <td>Prague</td>\n",
       "      <td>132</td>\n",
       "      <td>1576911900</td>\n",
       "      <td>7200</td>\n",
       "      <td>7200</td>\n",
       "      <td>132</td>\n",
       "      <td>159.99993</td>\n",
       "      <td>[[BRS, PRG]]</td>\n",
       "      <td>[lcc-U2]</td>\n",
       "      <td>2019-12-21 07:05:00</td>\n",
       "      <td>2.0</td>\n",
       "    </tr>\n",
       "  </tbody>\n",
       "</table>\n",
       "</div>"
      ],
      "text/plain": [
       "  airlines cityFrom  cityTo  conversion.EUR    dTimeUTC  duration.departure  \\\n",
       "0     [U2]  Bristol  Prague             102  1577107200                7200   \n",
       "1     [U2]  Bristol  Prague             108  1576761600                7200   \n",
       "2     [U2]  Bristol  Prague             118  1576848000                7200   \n",
       "3     [U2]  Bristol  Prague             123  1577034900                7200   \n",
       "4     [U2]  Bristol  Prague             132  1576911900                7200   \n",
       "\n",
       "   duration.total  price    quality        routes type_flights  \\\n",
       "0            7200    102  129.99993  [[BRS, PRG]]     [lcc-U2]   \n",
       "1            7200    108  135.99993  [[BRS, PRG]]     [lcc-U2]   \n",
       "2            7200    118  145.99993  [[BRS, PRG]]     [lcc-U2]   \n",
       "3            7200    123  150.99993  [[BRS, PRG]]     [lcc-U2]   \n",
       "4            7200    132  159.99993  [[BRS, PRG]]     [lcc-U2]   \n",
       "\n",
       "            date_time  duration_h  \n",
       "0 2019-12-23 13:20:00         2.0  \n",
       "1 2019-12-19 13:20:00         2.0  \n",
       "2 2019-12-20 13:20:00         2.0  \n",
       "3 2019-12-22 17:15:00         2.0  \n",
       "4 2019-12-21 07:05:00         2.0  "
      ]
     },
     "execution_count": 258,
     "metadata": {},
     "output_type": "execute_result"
    }
   ],
   "source": [
    "df_flight"
   ]
  },
  {
   "cell_type": "markdown",
   "metadata": {},
   "source": [
    "The ideal direct flight should be the one charges only 102 euro, departures on 2019-12-23 at 13:20:00, from Bristol to Prague."
   ]
  },
  {
   "cell_type": "code",
   "execution_count": null,
   "metadata": {},
   "outputs": [],
   "source": []
  },
  {
   "cell_type": "code",
   "execution_count": null,
   "metadata": {},
   "outputs": [],
   "source": []
  },
  {
   "cell_type": "code",
   "execution_count": null,
   "metadata": {},
   "outputs": [],
   "source": []
  }
 ],
 "metadata": {
  "kernelspec": {
   "display_name": "Python 3",
   "language": "python",
   "name": "python3"
  },
  "language_info": {
   "codemirror_mode": {
    "name": "ipython",
    "version": 3
   },
   "file_extension": ".py",
   "mimetype": "text/x-python",
   "name": "python",
   "nbconvert_exporter": "python",
   "pygments_lexer": "ipython3",
   "version": "3.7.3"
  },
  "toc": {
   "base_numbering": 1,
   "nav_menu": {},
   "number_sections": true,
   "sideBar": false,
   "skip_h1_title": false,
   "title_cell": "Table of Contents",
   "title_sidebar": "Contents",
   "toc_cell": true,
   "toc_position": {
    "height": "47px",
    "left": "1176px",
    "top": "90px",
    "width": "161px"
   },
   "toc_section_display": false,
   "toc_window_display": true
  },
  "varInspector": {
   "cols": {
    "lenName": 16,
    "lenType": 16,
    "lenVar": 40
   },
   "kernels_config": {
    "python": {
     "delete_cmd_postfix": "",
     "delete_cmd_prefix": "del ",
     "library": "var_list.py",
     "varRefreshCmd": "print(var_dic_list())"
    },
    "r": {
     "delete_cmd_postfix": ") ",
     "delete_cmd_prefix": "rm(",
     "library": "var_list.r",
     "varRefreshCmd": "cat(var_dic_list()) "
    }
   },
   "types_to_exclude": [
    "module",
    "function",
    "builtin_function_or_method",
    "instance",
    "_Feature"
   ],
   "window_display": false
  }
 },
 "nbformat": 4,
 "nbformat_minor": 2
}
